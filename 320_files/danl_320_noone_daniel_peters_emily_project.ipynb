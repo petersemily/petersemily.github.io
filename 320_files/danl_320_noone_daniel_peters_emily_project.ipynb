{
 "cells": [
  {
   "cell_type": "raw",
   "id": "3d4767b0-3beb-4e75-8826-b4acea9616f4",
   "metadata": {
    "id": "71fa5515-4418-46f1-ba01-ea9371129427"
   },
   "source": [
    "```yaml\n",
    "title: \"Assesing Credit Risk with Machine Learning\"\n",
    "author: \"Daniel Noone & Emily Peters\"\n",
    "date: 2025-05-14\n",
    "categories: ['Machine Learning', 'Project']\n",
    "```"
   ]
  },
  {
   "cell_type": "code",
   "execution_count": 1,
   "id": "370bcba9-92e2-4579-86a1-c9ff0d42d749",
   "metadata": {
    "id": "370bcba9-92e2-4579-86a1-c9ff0d42d749"
   },
   "outputs": [],
   "source": [
    "import numpy as np\n",
    "import pandas as pd\n",
    "import matplotlib.pyplot as plt\n",
    "from sklearn.preprocessing import StandardScaler\n",
    "from sklearn.decomposition import PCA\n",
    "from sklearn.cluster import KMeans\n",
    "import seaborn as sns"
   ]
  },
  {
   "cell_type": "code",
   "execution_count": 2,
   "id": "e43f6222-f210-4214-9aa6-ef9e3d5b2ec9",
   "metadata": {
    "colab": {
     "base_uri": "https://localhost:8080/",
     "height": 423
    },
    "id": "e43f6222-f210-4214-9aa6-ef9e3d5b2ec9",
    "outputId": "9821efe7-4ee4-4748-8c16-0693625d191d"
   },
   "outputs": [
    {
     "data": {
      "application/vnd.google.colaboratory.intrinsic+json": {
       "summary": "{\n  \"name\": \"cr\",\n  \"rows\": 16714,\n  \"fields\": [\n    {\n      \"column\": \"rev_util\",\n      \"properties\": {\n        \"dtype\": \"number\",\n        \"std\": 204.06234518767243,\n        \"min\": 0.0,\n        \"max\": 22000.0,\n        \"num_unique_values\": 13887,\n        \"samples\": [\n          0.029899402,\n          0.696579559,\n          0.323825689\n        ],\n        \"semantic_type\": \"\",\n        \"description\": \"\"\n      }\n    },\n    {\n      \"column\": \"age\",\n      \"properties\": {\n        \"dtype\": \"number\",\n        \"std\": 13.906078460885976,\n        \"min\": 21.0,\n        \"max\": 101.0,\n        \"num_unique_values\": 78,\n        \"samples\": [\n          54.0,\n          38.0,\n          44.0\n        ],\n        \"semantic_type\": \"\",\n        \"description\": \"\"\n      }\n    },\n    {\n      \"column\": \"late_30_59\",\n      \"properties\": {\n        \"dtype\": \"number\",\n        \"std\": 7.1728902617080195,\n        \"min\": 0.0,\n        \"max\": 98.0,\n        \"num_unique_values\": 16,\n        \"samples\": [\n          0.0,\n          1.0,\n          4.0\n        ],\n        \"semantic_type\": \"\",\n        \"description\": \"\"\n      }\n    },\n    {\n      \"column\": \"debt_ratio\",\n      \"properties\": {\n        \"dtype\": \"number\",\n        \"std\": 719.6948586644227,\n        \"min\": 0.0,\n        \"max\": 61106.5,\n        \"num_unique_values\": 16128,\n        \"samples\": [\n          0.29333838,\n          0.306058222,\n          0.261055635\n        ],\n        \"semantic_type\": \"\",\n        \"description\": \"\"\n      }\n    },\n    {\n      \"column\": \"monthly_inc\",\n      \"properties\": {\n        \"dtype\": \"number\",\n        \"std\": 5931.841778846162,\n        \"min\": 0.0,\n        \"max\": 250000.0,\n        \"num_unique_values\": 5150,\n        \"samples\": [\n          9083.0,\n          2188.0,\n          5365.0\n        ],\n        \"semantic_type\": \"\",\n        \"description\": \"\"\n      }\n    },\n    {\n      \"column\": \"open_credit\",\n      \"properties\": {\n        \"dtype\": \"number\",\n        \"std\": 5.370964607566062,\n        \"min\": 0.0,\n        \"max\": 57.0,\n        \"num_unique_values\": 48,\n        \"samples\": [\n          20.0,\n          41.0,\n          28.0\n        ],\n        \"semantic_type\": \"\",\n        \"description\": \"\"\n      }\n    },\n    {\n      \"column\": \"late_90\",\n      \"properties\": {\n        \"dtype\": \"number\",\n        \"std\": 7.167575884359679,\n        \"min\": 0.0,\n        \"max\": 98.0,\n        \"num_unique_values\": 18,\n        \"samples\": [\n          0.0,\n          1.0,\n          10.0\n        ],\n        \"semantic_type\": \"\",\n        \"description\": \"\"\n      }\n    },\n    {\n      \"column\": \"real_estate\",\n      \"properties\": {\n        \"dtype\": \"number\",\n        \"std\": 1.2725645624376745,\n        \"min\": 0.0,\n        \"max\": 29.0,\n        \"num_unique_values\": 20,\n        \"samples\": [\n          1.0,\n          20.0,\n          11.0\n        ],\n        \"semantic_type\": \"\",\n        \"description\": \"\"\n      }\n    },\n    {\n      \"column\": \"late_60_89\",\n      \"properties\": {\n        \"dtype\": \"number\",\n        \"std\": 7.138736504967538,\n        \"min\": 0.0,\n        \"max\": 98.0,\n        \"num_unique_values\": 12,\n        \"samples\": [\n          8.0,\n          11.0,\n          0.0\n        ],\n        \"semantic_type\": \"\",\n        \"description\": \"\"\n      }\n    },\n    {\n      \"column\": \"dependents\",\n      \"properties\": {\n        \"dtype\": \"number\",\n        \"std\": 1.1987910742015635,\n        \"min\": 0.0,\n        \"max\": 8.0,\n        \"num_unique_values\": 9,\n        \"samples\": [\n          6.0,\n          0.0,\n          5.0\n        ],\n        \"semantic_type\": \"\",\n        \"description\": \"\"\n      }\n    },\n    {\n      \"column\": \"dlq_2yrs\",\n      \"properties\": {\n        \"dtype\": \"number\",\n        \"std\": 0,\n        \"min\": 0,\n        \"max\": 1,\n        \"num_unique_values\": 2,\n        \"samples\": [\n          1,\n          0\n        ],\n        \"semantic_type\": \"\",\n        \"description\": \"\"\n      }\n    }\n  ]\n}",
       "type": "dataframe",
       "variable_name": "cr"
      },
      "text/html": [
       "\n",
       "  <div id=\"df-4b093207-d364-4434-9507-faad018f2a53\" class=\"colab-df-container\">\n",
       "    <div>\n",
       "<style scoped>\n",
       "    .dataframe tbody tr th:only-of-type {\n",
       "        vertical-align: middle;\n",
       "    }\n",
       "\n",
       "    .dataframe tbody tr th {\n",
       "        vertical-align: top;\n",
       "    }\n",
       "\n",
       "    .dataframe thead th {\n",
       "        text-align: right;\n",
       "    }\n",
       "</style>\n",
       "<table border=\"1\" class=\"dataframe\">\n",
       "  <thead>\n",
       "    <tr style=\"text-align: right;\">\n",
       "      <th></th>\n",
       "      <th>rev_util</th>\n",
       "      <th>age</th>\n",
       "      <th>late_30_59</th>\n",
       "      <th>debt_ratio</th>\n",
       "      <th>monthly_inc</th>\n",
       "      <th>open_credit</th>\n",
       "      <th>late_90</th>\n",
       "      <th>real_estate</th>\n",
       "      <th>late_60_89</th>\n",
       "      <th>dependents</th>\n",
       "      <th>dlq_2yrs</th>\n",
       "    </tr>\n",
       "  </thead>\n",
       "  <tbody>\n",
       "    <tr>\n",
       "      <th>0</th>\n",
       "      <td>0.006999</td>\n",
       "      <td>38.0</td>\n",
       "      <td>0.0</td>\n",
       "      <td>0.302150</td>\n",
       "      <td>5440.0</td>\n",
       "      <td>4.0</td>\n",
       "      <td>0.0</td>\n",
       "      <td>1.0</td>\n",
       "      <td>0.0</td>\n",
       "      <td>3.0</td>\n",
       "      <td>0</td>\n",
       "    </tr>\n",
       "    <tr>\n",
       "      <th>1</th>\n",
       "      <td>0.704592</td>\n",
       "      <td>63.0</td>\n",
       "      <td>0.0</td>\n",
       "      <td>0.471441</td>\n",
       "      <td>8000.0</td>\n",
       "      <td>9.0</td>\n",
       "      <td>0.0</td>\n",
       "      <td>1.0</td>\n",
       "      <td>0.0</td>\n",
       "      <td>0.0</td>\n",
       "      <td>0</td>\n",
       "    </tr>\n",
       "    <tr>\n",
       "      <th>2</th>\n",
       "      <td>0.063113</td>\n",
       "      <td>57.0</td>\n",
       "      <td>0.0</td>\n",
       "      <td>0.068586</td>\n",
       "      <td>5000.0</td>\n",
       "      <td>17.0</td>\n",
       "      <td>0.0</td>\n",
       "      <td>0.0</td>\n",
       "      <td>0.0</td>\n",
       "      <td>0.0</td>\n",
       "      <td>0</td>\n",
       "    </tr>\n",
       "    <tr>\n",
       "      <th>3</th>\n",
       "      <td>0.368397</td>\n",
       "      <td>68.0</td>\n",
       "      <td>0.0</td>\n",
       "      <td>0.296273</td>\n",
       "      <td>6250.0</td>\n",
       "      <td>16.0</td>\n",
       "      <td>0.0</td>\n",
       "      <td>2.0</td>\n",
       "      <td>0.0</td>\n",
       "      <td>0.0</td>\n",
       "      <td>0</td>\n",
       "    </tr>\n",
       "    <tr>\n",
       "      <th>4</th>\n",
       "      <td>1.000000</td>\n",
       "      <td>34.0</td>\n",
       "      <td>1.0</td>\n",
       "      <td>0.000000</td>\n",
       "      <td>3500.0</td>\n",
       "      <td>0.0</td>\n",
       "      <td>0.0</td>\n",
       "      <td>0.0</td>\n",
       "      <td>0.0</td>\n",
       "      <td>1.0</td>\n",
       "      <td>0</td>\n",
       "    </tr>\n",
       "    <tr>\n",
       "      <th>...</th>\n",
       "      <td>...</td>\n",
       "      <td>...</td>\n",
       "      <td>...</td>\n",
       "      <td>...</td>\n",
       "      <td>...</td>\n",
       "      <td>...</td>\n",
       "      <td>...</td>\n",
       "      <td>...</td>\n",
       "      <td>...</td>\n",
       "      <td>...</td>\n",
       "      <td>...</td>\n",
       "    </tr>\n",
       "    <tr>\n",
       "      <th>16709</th>\n",
       "      <td>1.000000</td>\n",
       "      <td>46.0</td>\n",
       "      <td>0.0</td>\n",
       "      <td>170.398010</td>\n",
       "      <td>401.0</td>\n",
       "      <td>3.0</td>\n",
       "      <td>2.0</td>\n",
       "      <td>0.0</td>\n",
       "      <td>0.0</td>\n",
       "      <td>2.0</td>\n",
       "      <td>1</td>\n",
       "    </tr>\n",
       "    <tr>\n",
       "      <th>16710</th>\n",
       "      <td>1.135552</td>\n",
       "      <td>41.0</td>\n",
       "      <td>2.0</td>\n",
       "      <td>0.845887</td>\n",
       "      <td>7500.0</td>\n",
       "      <td>12.0</td>\n",
       "      <td>0.0</td>\n",
       "      <td>4.0</td>\n",
       "      <td>1.0</td>\n",
       "      <td>0.0</td>\n",
       "      <td>1</td>\n",
       "    </tr>\n",
       "    <tr>\n",
       "      <th>16711</th>\n",
       "      <td>0.920107</td>\n",
       "      <td>31.0</td>\n",
       "      <td>1.0</td>\n",
       "      <td>0.176732</td>\n",
       "      <td>1125.0</td>\n",
       "      <td>4.0</td>\n",
       "      <td>1.0</td>\n",
       "      <td>0.0</td>\n",
       "      <td>0.0</td>\n",
       "      <td>0.0</td>\n",
       "      <td>1</td>\n",
       "    </tr>\n",
       "    <tr>\n",
       "      <th>16712</th>\n",
       "      <td>0.983825</td>\n",
       "      <td>55.0</td>\n",
       "      <td>0.0</td>\n",
       "      <td>0.064116</td>\n",
       "      <td>4600.0</td>\n",
       "      <td>2.0</td>\n",
       "      <td>1.0</td>\n",
       "      <td>0.0</td>\n",
       "      <td>0.0</td>\n",
       "      <td>6.0</td>\n",
       "      <td>1</td>\n",
       "    </tr>\n",
       "    <tr>\n",
       "      <th>16713</th>\n",
       "      <td>0.224711</td>\n",
       "      <td>55.0</td>\n",
       "      <td>0.0</td>\n",
       "      <td>0.057235</td>\n",
       "      <td>8700.0</td>\n",
       "      <td>7.0</td>\n",
       "      <td>0.0</td>\n",
       "      <td>0.0</td>\n",
       "      <td>0.0</td>\n",
       "      <td>0.0</td>\n",
       "      <td>1</td>\n",
       "    </tr>\n",
       "  </tbody>\n",
       "</table>\n",
       "<p>16714 rows × 11 columns</p>\n",
       "</div>\n",
       "    <div class=\"colab-df-buttons\">\n",
       "\n",
       "  <div class=\"colab-df-container\">\n",
       "    <button class=\"colab-df-convert\" onclick=\"convertToInteractive('df-4b093207-d364-4434-9507-faad018f2a53')\"\n",
       "            title=\"Convert this dataframe to an interactive table.\"\n",
       "            style=\"display:none;\">\n",
       "\n",
       "  <svg xmlns=\"http://www.w3.org/2000/svg\" height=\"24px\" viewBox=\"0 -960 960 960\">\n",
       "    <path d=\"M120-120v-720h720v720H120Zm60-500h600v-160H180v160Zm220 220h160v-160H400v160Zm0 220h160v-160H400v160ZM180-400h160v-160H180v160Zm440 0h160v-160H620v160ZM180-180h160v-160H180v160Zm440 0h160v-160H620v160Z\"/>\n",
       "  </svg>\n",
       "    </button>\n",
       "\n",
       "  <style>\n",
       "    .colab-df-container {\n",
       "      display:flex;\n",
       "      gap: 12px;\n",
       "    }\n",
       "\n",
       "    .colab-df-convert {\n",
       "      background-color: #E8F0FE;\n",
       "      border: none;\n",
       "      border-radius: 50%;\n",
       "      cursor: pointer;\n",
       "      display: none;\n",
       "      fill: #1967D2;\n",
       "      height: 32px;\n",
       "      padding: 0 0 0 0;\n",
       "      width: 32px;\n",
       "    }\n",
       "\n",
       "    .colab-df-convert:hover {\n",
       "      background-color: #E2EBFA;\n",
       "      box-shadow: 0px 1px 2px rgba(60, 64, 67, 0.3), 0px 1px 3px 1px rgba(60, 64, 67, 0.15);\n",
       "      fill: #174EA6;\n",
       "    }\n",
       "\n",
       "    .colab-df-buttons div {\n",
       "      margin-bottom: 4px;\n",
       "    }\n",
       "\n",
       "    [theme=dark] .colab-df-convert {\n",
       "      background-color: #3B4455;\n",
       "      fill: #D2E3FC;\n",
       "    }\n",
       "\n",
       "    [theme=dark] .colab-df-convert:hover {\n",
       "      background-color: #434B5C;\n",
       "      box-shadow: 0px 1px 3px 1px rgba(0, 0, 0, 0.15);\n",
       "      filter: drop-shadow(0px 1px 2px rgba(0, 0, 0, 0.3));\n",
       "      fill: #FFFFFF;\n",
       "    }\n",
       "  </style>\n",
       "\n",
       "    <script>\n",
       "      const buttonEl =\n",
       "        document.querySelector('#df-4b093207-d364-4434-9507-faad018f2a53 button.colab-df-convert');\n",
       "      buttonEl.style.display =\n",
       "        google.colab.kernel.accessAllowed ? 'block' : 'none';\n",
       "\n",
       "      async function convertToInteractive(key) {\n",
       "        const element = document.querySelector('#df-4b093207-d364-4434-9507-faad018f2a53');\n",
       "        const dataTable =\n",
       "          await google.colab.kernel.invokeFunction('convertToInteractive',\n",
       "                                                    [key], {});\n",
       "        if (!dataTable) return;\n",
       "\n",
       "        const docLinkHtml = 'Like what you see? Visit the ' +\n",
       "          '<a target=\"_blank\" href=https://colab.research.google.com/notebooks/data_table.ipynb>data table notebook</a>'\n",
       "          + ' to learn more about interactive tables.';\n",
       "        element.innerHTML = '';\n",
       "        dataTable['output_type'] = 'display_data';\n",
       "        await google.colab.output.renderOutput(dataTable, element);\n",
       "        const docLink = document.createElement('div');\n",
       "        docLink.innerHTML = docLinkHtml;\n",
       "        element.appendChild(docLink);\n",
       "      }\n",
       "    </script>\n",
       "  </div>\n",
       "\n",
       "\n",
       "    <div id=\"df-905a2695-f96e-4dd1-9f49-789aa9cc33ff\">\n",
       "      <button class=\"colab-df-quickchart\" onclick=\"quickchart('df-905a2695-f96e-4dd1-9f49-789aa9cc33ff')\"\n",
       "                title=\"Suggest charts\"\n",
       "                style=\"display:none;\">\n",
       "\n",
       "<svg xmlns=\"http://www.w3.org/2000/svg\" height=\"24px\"viewBox=\"0 0 24 24\"\n",
       "     width=\"24px\">\n",
       "    <g>\n",
       "        <path d=\"M19 3H5c-1.1 0-2 .9-2 2v14c0 1.1.9 2 2 2h14c1.1 0 2-.9 2-2V5c0-1.1-.9-2-2-2zM9 17H7v-7h2v7zm4 0h-2V7h2v10zm4 0h-2v-4h2v4z\"/>\n",
       "    </g>\n",
       "</svg>\n",
       "      </button>\n",
       "\n",
       "<style>\n",
       "  .colab-df-quickchart {\n",
       "      --bg-color: #E8F0FE;\n",
       "      --fill-color: #1967D2;\n",
       "      --hover-bg-color: #E2EBFA;\n",
       "      --hover-fill-color: #174EA6;\n",
       "      --disabled-fill-color: #AAA;\n",
       "      --disabled-bg-color: #DDD;\n",
       "  }\n",
       "\n",
       "  [theme=dark] .colab-df-quickchart {\n",
       "      --bg-color: #3B4455;\n",
       "      --fill-color: #D2E3FC;\n",
       "      --hover-bg-color: #434B5C;\n",
       "      --hover-fill-color: #FFFFFF;\n",
       "      --disabled-bg-color: #3B4455;\n",
       "      --disabled-fill-color: #666;\n",
       "  }\n",
       "\n",
       "  .colab-df-quickchart {\n",
       "    background-color: var(--bg-color);\n",
       "    border: none;\n",
       "    border-radius: 50%;\n",
       "    cursor: pointer;\n",
       "    display: none;\n",
       "    fill: var(--fill-color);\n",
       "    height: 32px;\n",
       "    padding: 0;\n",
       "    width: 32px;\n",
       "  }\n",
       "\n",
       "  .colab-df-quickchart:hover {\n",
       "    background-color: var(--hover-bg-color);\n",
       "    box-shadow: 0 1px 2px rgba(60, 64, 67, 0.3), 0 1px 3px 1px rgba(60, 64, 67, 0.15);\n",
       "    fill: var(--button-hover-fill-color);\n",
       "  }\n",
       "\n",
       "  .colab-df-quickchart-complete:disabled,\n",
       "  .colab-df-quickchart-complete:disabled:hover {\n",
       "    background-color: var(--disabled-bg-color);\n",
       "    fill: var(--disabled-fill-color);\n",
       "    box-shadow: none;\n",
       "  }\n",
       "\n",
       "  .colab-df-spinner {\n",
       "    border: 2px solid var(--fill-color);\n",
       "    border-color: transparent;\n",
       "    border-bottom-color: var(--fill-color);\n",
       "    animation:\n",
       "      spin 1s steps(1) infinite;\n",
       "  }\n",
       "\n",
       "  @keyframes spin {\n",
       "    0% {\n",
       "      border-color: transparent;\n",
       "      border-bottom-color: var(--fill-color);\n",
       "      border-left-color: var(--fill-color);\n",
       "    }\n",
       "    20% {\n",
       "      border-color: transparent;\n",
       "      border-left-color: var(--fill-color);\n",
       "      border-top-color: var(--fill-color);\n",
       "    }\n",
       "    30% {\n",
       "      border-color: transparent;\n",
       "      border-left-color: var(--fill-color);\n",
       "      border-top-color: var(--fill-color);\n",
       "      border-right-color: var(--fill-color);\n",
       "    }\n",
       "    40% {\n",
       "      border-color: transparent;\n",
       "      border-right-color: var(--fill-color);\n",
       "      border-top-color: var(--fill-color);\n",
       "    }\n",
       "    60% {\n",
       "      border-color: transparent;\n",
       "      border-right-color: var(--fill-color);\n",
       "    }\n",
       "    80% {\n",
       "      border-color: transparent;\n",
       "      border-right-color: var(--fill-color);\n",
       "      border-bottom-color: var(--fill-color);\n",
       "    }\n",
       "    90% {\n",
       "      border-color: transparent;\n",
       "      border-bottom-color: var(--fill-color);\n",
       "    }\n",
       "  }\n",
       "</style>\n",
       "\n",
       "      <script>\n",
       "        async function quickchart(key) {\n",
       "          const quickchartButtonEl =\n",
       "            document.querySelector('#' + key + ' button');\n",
       "          quickchartButtonEl.disabled = true;  // To prevent multiple clicks.\n",
       "          quickchartButtonEl.classList.add('colab-df-spinner');\n",
       "          try {\n",
       "            const charts = await google.colab.kernel.invokeFunction(\n",
       "                'suggestCharts', [key], {});\n",
       "          } catch (error) {\n",
       "            console.error('Error during call to suggestCharts:', error);\n",
       "          }\n",
       "          quickchartButtonEl.classList.remove('colab-df-spinner');\n",
       "          quickchartButtonEl.classList.add('colab-df-quickchart-complete');\n",
       "        }\n",
       "        (() => {\n",
       "          let quickchartButtonEl =\n",
       "            document.querySelector('#df-905a2695-f96e-4dd1-9f49-789aa9cc33ff button');\n",
       "          quickchartButtonEl.style.display =\n",
       "            google.colab.kernel.accessAllowed ? 'block' : 'none';\n",
       "        })();\n",
       "      </script>\n",
       "    </div>\n",
       "\n",
       "  <div id=\"id_de1fd54f-12e2-4008-b618-dc7e8e0b800a\">\n",
       "    <style>\n",
       "      .colab-df-generate {\n",
       "        background-color: #E8F0FE;\n",
       "        border: none;\n",
       "        border-radius: 50%;\n",
       "        cursor: pointer;\n",
       "        display: none;\n",
       "        fill: #1967D2;\n",
       "        height: 32px;\n",
       "        padding: 0 0 0 0;\n",
       "        width: 32px;\n",
       "      }\n",
       "\n",
       "      .colab-df-generate:hover {\n",
       "        background-color: #E2EBFA;\n",
       "        box-shadow: 0px 1px 2px rgba(60, 64, 67, 0.3), 0px 1px 3px 1px rgba(60, 64, 67, 0.15);\n",
       "        fill: #174EA6;\n",
       "      }\n",
       "\n",
       "      [theme=dark] .colab-df-generate {\n",
       "        background-color: #3B4455;\n",
       "        fill: #D2E3FC;\n",
       "      }\n",
       "\n",
       "      [theme=dark] .colab-df-generate:hover {\n",
       "        background-color: #434B5C;\n",
       "        box-shadow: 0px 1px 3px 1px rgba(0, 0, 0, 0.15);\n",
       "        filter: drop-shadow(0px 1px 2px rgba(0, 0, 0, 0.3));\n",
       "        fill: #FFFFFF;\n",
       "      }\n",
       "    </style>\n",
       "    <button class=\"colab-df-generate\" onclick=\"generateWithVariable('cr')\"\n",
       "            title=\"Generate code using this dataframe.\"\n",
       "            style=\"display:none;\">\n",
       "\n",
       "  <svg xmlns=\"http://www.w3.org/2000/svg\" height=\"24px\"viewBox=\"0 0 24 24\"\n",
       "       width=\"24px\">\n",
       "    <path d=\"M7,19H8.4L18.45,9,17,7.55,7,17.6ZM5,21V16.75L18.45,3.32a2,2,0,0,1,2.83,0l1.4,1.43a1.91,1.91,0,0,1,.58,1.4,1.91,1.91,0,0,1-.58,1.4L9.25,21ZM18.45,9,17,7.55Zm-12,3A5.31,5.31,0,0,0,4.9,8.1,5.31,5.31,0,0,0,1,6.5,5.31,5.31,0,0,0,4.9,4.9,5.31,5.31,0,0,0,6.5,1,5.31,5.31,0,0,0,8.1,4.9,5.31,5.31,0,0,0,12,6.5,5.46,5.46,0,0,0,6.5,12Z\"/>\n",
       "  </svg>\n",
       "    </button>\n",
       "    <script>\n",
       "      (() => {\n",
       "      const buttonEl =\n",
       "        document.querySelector('#id_de1fd54f-12e2-4008-b618-dc7e8e0b800a button.colab-df-generate');\n",
       "      buttonEl.style.display =\n",
       "        google.colab.kernel.accessAllowed ? 'block' : 'none';\n",
       "\n",
       "      buttonEl.onclick = () => {\n",
       "        google.colab.notebook.generateWithVariable('cr');\n",
       "      }\n",
       "      })();\n",
       "    </script>\n",
       "  </div>\n",
       "\n",
       "    </div>\n",
       "  </div>\n"
      ],
      "text/plain": [
       "       rev_util   age  late_30_59  debt_ratio  monthly_inc  open_credit  \\\n",
       "0      0.006999  38.0         0.0    0.302150       5440.0          4.0   \n",
       "1      0.704592  63.0         0.0    0.471441       8000.0          9.0   \n",
       "2      0.063113  57.0         0.0    0.068586       5000.0         17.0   \n",
       "3      0.368397  68.0         0.0    0.296273       6250.0         16.0   \n",
       "4      1.000000  34.0         1.0    0.000000       3500.0          0.0   \n",
       "...         ...   ...         ...         ...          ...          ...   \n",
       "16709  1.000000  46.0         0.0  170.398010        401.0          3.0   \n",
       "16710  1.135552  41.0         2.0    0.845887       7500.0         12.0   \n",
       "16711  0.920107  31.0         1.0    0.176732       1125.0          4.0   \n",
       "16712  0.983825  55.0         0.0    0.064116       4600.0          2.0   \n",
       "16713  0.224711  55.0         0.0    0.057235       8700.0          7.0   \n",
       "\n",
       "       late_90  real_estate  late_60_89  dependents  dlq_2yrs  \n",
       "0          0.0          1.0         0.0         3.0         0  \n",
       "1          0.0          1.0         0.0         0.0         0  \n",
       "2          0.0          0.0         0.0         0.0         0  \n",
       "3          0.0          2.0         0.0         0.0         0  \n",
       "4          0.0          0.0         0.0         1.0         0  \n",
       "...        ...          ...         ...         ...       ...  \n",
       "16709      2.0          0.0         0.0         2.0         1  \n",
       "16710      0.0          4.0         1.0         0.0         1  \n",
       "16711      1.0          0.0         0.0         0.0         1  \n",
       "16712      1.0          0.0         0.0         6.0         1  \n",
       "16713      0.0          0.0         0.0         0.0         1  \n",
       "\n",
       "[16714 rows x 11 columns]"
      ]
     },
     "execution_count": 2,
     "metadata": {},
     "output_type": "execute_result"
    }
   ],
   "source": [
    "cr = pd.read_csv(\"https://raw.githubusercontent.com/dannoone/dannoone.github.io/refs/heads/main/Data/credit_risk_bench.csv\")\n",
    "cr"
   ]
  },
  {
   "cell_type": "code",
   "execution_count": 3,
   "id": "731896ac-c1e8-4404-abb0-2d7431ad4064",
   "metadata": {
    "colab": {
     "base_uri": "https://localhost:8080/",
     "height": 423
    },
    "id": "731896ac-c1e8-4404-abb0-2d7431ad4064",
    "outputId": "79e43229-de24-4b37-daea-c09572eff177"
   },
   "outputs": [
    {
     "data": {
      "application/vnd.google.colaboratory.intrinsic+json": {
       "summary": "{\n  \"name\": \"cr_agg\",\n  \"rows\": 16714,\n  \"fields\": [\n    {\n      \"column\": \"rev_util\",\n      \"properties\": {\n        \"dtype\": \"number\",\n        \"std\": 204.06234518767243,\n        \"min\": 0.0,\n        \"max\": 22000.0,\n        \"num_unique_values\": 13887,\n        \"samples\": [\n          0.029899402,\n          0.696579559,\n          0.323825689\n        ],\n        \"semantic_type\": \"\",\n        \"description\": \"\"\n      }\n    },\n    {\n      \"column\": \"age\",\n      \"properties\": {\n        \"dtype\": \"number\",\n        \"std\": 13.906078460885976,\n        \"min\": 21.0,\n        \"max\": 101.0,\n        \"num_unique_values\": 78,\n        \"samples\": [\n          54.0,\n          38.0,\n          44.0\n        ],\n        \"semantic_type\": \"\",\n        \"description\": \"\"\n      }\n    },\n    {\n      \"column\": \"debt_ratio\",\n      \"properties\": {\n        \"dtype\": \"number\",\n        \"std\": 719.6948586644227,\n        \"min\": 0.0,\n        \"max\": 61106.5,\n        \"num_unique_values\": 16128,\n        \"samples\": [\n          0.29333838,\n          0.306058222,\n          0.261055635\n        ],\n        \"semantic_type\": \"\",\n        \"description\": \"\"\n      }\n    },\n    {\n      \"column\": \"monthly_inc\",\n      \"properties\": {\n        \"dtype\": \"number\",\n        \"std\": 5931.841778846162,\n        \"min\": 0.0,\n        \"max\": 250000.0,\n        \"num_unique_values\": 5150,\n        \"samples\": [\n          9083.0,\n          2188.0,\n          5365.0\n        ],\n        \"semantic_type\": \"\",\n        \"description\": \"\"\n      }\n    },\n    {\n      \"column\": \"open_credit\",\n      \"properties\": {\n        \"dtype\": \"number\",\n        \"std\": 5.370964607566062,\n        \"min\": 0.0,\n        \"max\": 57.0,\n        \"num_unique_values\": 48,\n        \"samples\": [\n          20.0,\n          41.0,\n          28.0\n        ],\n        \"semantic_type\": \"\",\n        \"description\": \"\"\n      }\n    },\n    {\n      \"column\": \"real_estate\",\n      \"properties\": {\n        \"dtype\": \"number\",\n        \"std\": 1.2725645624376745,\n        \"min\": 0.0,\n        \"max\": 29.0,\n        \"num_unique_values\": 20,\n        \"samples\": [\n          1.0,\n          20.0,\n          11.0\n        ],\n        \"semantic_type\": \"\",\n        \"description\": \"\"\n      }\n    },\n    {\n      \"column\": \"dependents\",\n      \"properties\": {\n        \"dtype\": \"number\",\n        \"std\": 1.1987910742015635,\n        \"min\": 0.0,\n        \"max\": 8.0,\n        \"num_unique_values\": 9,\n        \"samples\": [\n          6.0,\n          0.0,\n          5.0\n        ],\n        \"semantic_type\": \"\",\n        \"description\": \"\"\n      }\n    },\n    {\n      \"column\": \"dlq_2yrs\",\n      \"properties\": {\n        \"dtype\": \"number\",\n        \"std\": 0,\n        \"min\": 0,\n        \"max\": 1,\n        \"num_unique_values\": 2,\n        \"samples\": [\n          1,\n          0\n        ],\n        \"semantic_type\": \"\",\n        \"description\": \"\"\n      }\n    },\n    {\n      \"column\": \"total_late\",\n      \"properties\": {\n        \"dtype\": \"number\",\n        \"std\": 21.389743040766223,\n        \"min\": 0.0,\n        \"max\": 294.0,\n        \"num_unique_values\": 21,\n        \"samples\": [\n          0.0,\n          15.0\n        ],\n        \"semantic_type\": \"\",\n        \"description\": \"\"\n      }\n    }\n  ]\n}",
       "type": "dataframe",
       "variable_name": "cr_agg"
      },
      "text/html": [
       "\n",
       "  <div id=\"df-c34b177d-ef7a-434f-b073-cd216ea76fea\" class=\"colab-df-container\">\n",
       "    <div>\n",
       "<style scoped>\n",
       "    .dataframe tbody tr th:only-of-type {\n",
       "        vertical-align: middle;\n",
       "    }\n",
       "\n",
       "    .dataframe tbody tr th {\n",
       "        vertical-align: top;\n",
       "    }\n",
       "\n",
       "    .dataframe thead th {\n",
       "        text-align: right;\n",
       "    }\n",
       "</style>\n",
       "<table border=\"1\" class=\"dataframe\">\n",
       "  <thead>\n",
       "    <tr style=\"text-align: right;\">\n",
       "      <th></th>\n",
       "      <th>rev_util</th>\n",
       "      <th>age</th>\n",
       "      <th>debt_ratio</th>\n",
       "      <th>monthly_inc</th>\n",
       "      <th>open_credit</th>\n",
       "      <th>real_estate</th>\n",
       "      <th>dependents</th>\n",
       "      <th>dlq_2yrs</th>\n",
       "      <th>total_late</th>\n",
       "    </tr>\n",
       "  </thead>\n",
       "  <tbody>\n",
       "    <tr>\n",
       "      <th>0</th>\n",
       "      <td>0.006999</td>\n",
       "      <td>38.0</td>\n",
       "      <td>0.302150</td>\n",
       "      <td>5440.0</td>\n",
       "      <td>4.0</td>\n",
       "      <td>1.0</td>\n",
       "      <td>3.0</td>\n",
       "      <td>0</td>\n",
       "      <td>0.0</td>\n",
       "    </tr>\n",
       "    <tr>\n",
       "      <th>1</th>\n",
       "      <td>0.704592</td>\n",
       "      <td>63.0</td>\n",
       "      <td>0.471441</td>\n",
       "      <td>8000.0</td>\n",
       "      <td>9.0</td>\n",
       "      <td>1.0</td>\n",
       "      <td>0.0</td>\n",
       "      <td>0</td>\n",
       "      <td>0.0</td>\n",
       "    </tr>\n",
       "    <tr>\n",
       "      <th>2</th>\n",
       "      <td>0.063113</td>\n",
       "      <td>57.0</td>\n",
       "      <td>0.068586</td>\n",
       "      <td>5000.0</td>\n",
       "      <td>17.0</td>\n",
       "      <td>0.0</td>\n",
       "      <td>0.0</td>\n",
       "      <td>0</td>\n",
       "      <td>0.0</td>\n",
       "    </tr>\n",
       "    <tr>\n",
       "      <th>3</th>\n",
       "      <td>0.368397</td>\n",
       "      <td>68.0</td>\n",
       "      <td>0.296273</td>\n",
       "      <td>6250.0</td>\n",
       "      <td>16.0</td>\n",
       "      <td>2.0</td>\n",
       "      <td>0.0</td>\n",
       "      <td>0</td>\n",
       "      <td>0.0</td>\n",
       "    </tr>\n",
       "    <tr>\n",
       "      <th>4</th>\n",
       "      <td>1.000000</td>\n",
       "      <td>34.0</td>\n",
       "      <td>0.000000</td>\n",
       "      <td>3500.0</td>\n",
       "      <td>0.0</td>\n",
       "      <td>0.0</td>\n",
       "      <td>1.0</td>\n",
       "      <td>0</td>\n",
       "      <td>1.0</td>\n",
       "    </tr>\n",
       "    <tr>\n",
       "      <th>...</th>\n",
       "      <td>...</td>\n",
       "      <td>...</td>\n",
       "      <td>...</td>\n",
       "      <td>...</td>\n",
       "      <td>...</td>\n",
       "      <td>...</td>\n",
       "      <td>...</td>\n",
       "      <td>...</td>\n",
       "      <td>...</td>\n",
       "    </tr>\n",
       "    <tr>\n",
       "      <th>16709</th>\n",
       "      <td>1.000000</td>\n",
       "      <td>46.0</td>\n",
       "      <td>170.398010</td>\n",
       "      <td>401.0</td>\n",
       "      <td>3.0</td>\n",
       "      <td>0.0</td>\n",
       "      <td>2.0</td>\n",
       "      <td>1</td>\n",
       "      <td>2.0</td>\n",
       "    </tr>\n",
       "    <tr>\n",
       "      <th>16710</th>\n",
       "      <td>1.135552</td>\n",
       "      <td>41.0</td>\n",
       "      <td>0.845887</td>\n",
       "      <td>7500.0</td>\n",
       "      <td>12.0</td>\n",
       "      <td>4.0</td>\n",
       "      <td>0.0</td>\n",
       "      <td>1</td>\n",
       "      <td>3.0</td>\n",
       "    </tr>\n",
       "    <tr>\n",
       "      <th>16711</th>\n",
       "      <td>0.920107</td>\n",
       "      <td>31.0</td>\n",
       "      <td>0.176732</td>\n",
       "      <td>1125.0</td>\n",
       "      <td>4.0</td>\n",
       "      <td>0.0</td>\n",
       "      <td>0.0</td>\n",
       "      <td>1</td>\n",
       "      <td>2.0</td>\n",
       "    </tr>\n",
       "    <tr>\n",
       "      <th>16712</th>\n",
       "      <td>0.983825</td>\n",
       "      <td>55.0</td>\n",
       "      <td>0.064116</td>\n",
       "      <td>4600.0</td>\n",
       "      <td>2.0</td>\n",
       "      <td>0.0</td>\n",
       "      <td>6.0</td>\n",
       "      <td>1</td>\n",
       "      <td>1.0</td>\n",
       "    </tr>\n",
       "    <tr>\n",
       "      <th>16713</th>\n",
       "      <td>0.224711</td>\n",
       "      <td>55.0</td>\n",
       "      <td>0.057235</td>\n",
       "      <td>8700.0</td>\n",
       "      <td>7.0</td>\n",
       "      <td>0.0</td>\n",
       "      <td>0.0</td>\n",
       "      <td>1</td>\n",
       "      <td>0.0</td>\n",
       "    </tr>\n",
       "  </tbody>\n",
       "</table>\n",
       "<p>16714 rows × 9 columns</p>\n",
       "</div>\n",
       "    <div class=\"colab-df-buttons\">\n",
       "\n",
       "  <div class=\"colab-df-container\">\n",
       "    <button class=\"colab-df-convert\" onclick=\"convertToInteractive('df-c34b177d-ef7a-434f-b073-cd216ea76fea')\"\n",
       "            title=\"Convert this dataframe to an interactive table.\"\n",
       "            style=\"display:none;\">\n",
       "\n",
       "  <svg xmlns=\"http://www.w3.org/2000/svg\" height=\"24px\" viewBox=\"0 -960 960 960\">\n",
       "    <path d=\"M120-120v-720h720v720H120Zm60-500h600v-160H180v160Zm220 220h160v-160H400v160Zm0 220h160v-160H400v160ZM180-400h160v-160H180v160Zm440 0h160v-160H620v160ZM180-180h160v-160H180v160Zm440 0h160v-160H620v160Z\"/>\n",
       "  </svg>\n",
       "    </button>\n",
       "\n",
       "  <style>\n",
       "    .colab-df-container {\n",
       "      display:flex;\n",
       "      gap: 12px;\n",
       "    }\n",
       "\n",
       "    .colab-df-convert {\n",
       "      background-color: #E8F0FE;\n",
       "      border: none;\n",
       "      border-radius: 50%;\n",
       "      cursor: pointer;\n",
       "      display: none;\n",
       "      fill: #1967D2;\n",
       "      height: 32px;\n",
       "      padding: 0 0 0 0;\n",
       "      width: 32px;\n",
       "    }\n",
       "\n",
       "    .colab-df-convert:hover {\n",
       "      background-color: #E2EBFA;\n",
       "      box-shadow: 0px 1px 2px rgba(60, 64, 67, 0.3), 0px 1px 3px 1px rgba(60, 64, 67, 0.15);\n",
       "      fill: #174EA6;\n",
       "    }\n",
       "\n",
       "    .colab-df-buttons div {\n",
       "      margin-bottom: 4px;\n",
       "    }\n",
       "\n",
       "    [theme=dark] .colab-df-convert {\n",
       "      background-color: #3B4455;\n",
       "      fill: #D2E3FC;\n",
       "    }\n",
       "\n",
       "    [theme=dark] .colab-df-convert:hover {\n",
       "      background-color: #434B5C;\n",
       "      box-shadow: 0px 1px 3px 1px rgba(0, 0, 0, 0.15);\n",
       "      filter: drop-shadow(0px 1px 2px rgba(0, 0, 0, 0.3));\n",
       "      fill: #FFFFFF;\n",
       "    }\n",
       "  </style>\n",
       "\n",
       "    <script>\n",
       "      const buttonEl =\n",
       "        document.querySelector('#df-c34b177d-ef7a-434f-b073-cd216ea76fea button.colab-df-convert');\n",
       "      buttonEl.style.display =\n",
       "        google.colab.kernel.accessAllowed ? 'block' : 'none';\n",
       "\n",
       "      async function convertToInteractive(key) {\n",
       "        const element = document.querySelector('#df-c34b177d-ef7a-434f-b073-cd216ea76fea');\n",
       "        const dataTable =\n",
       "          await google.colab.kernel.invokeFunction('convertToInteractive',\n",
       "                                                    [key], {});\n",
       "        if (!dataTable) return;\n",
       "\n",
       "        const docLinkHtml = 'Like what you see? Visit the ' +\n",
       "          '<a target=\"_blank\" href=https://colab.research.google.com/notebooks/data_table.ipynb>data table notebook</a>'\n",
       "          + ' to learn more about interactive tables.';\n",
       "        element.innerHTML = '';\n",
       "        dataTable['output_type'] = 'display_data';\n",
       "        await google.colab.output.renderOutput(dataTable, element);\n",
       "        const docLink = document.createElement('div');\n",
       "        docLink.innerHTML = docLinkHtml;\n",
       "        element.appendChild(docLink);\n",
       "      }\n",
       "    </script>\n",
       "  </div>\n",
       "\n",
       "\n",
       "    <div id=\"df-2094baff-77ae-4d6a-b6ff-48624dbfa3be\">\n",
       "      <button class=\"colab-df-quickchart\" onclick=\"quickchart('df-2094baff-77ae-4d6a-b6ff-48624dbfa3be')\"\n",
       "                title=\"Suggest charts\"\n",
       "                style=\"display:none;\">\n",
       "\n",
       "<svg xmlns=\"http://www.w3.org/2000/svg\" height=\"24px\"viewBox=\"0 0 24 24\"\n",
       "     width=\"24px\">\n",
       "    <g>\n",
       "        <path d=\"M19 3H5c-1.1 0-2 .9-2 2v14c0 1.1.9 2 2 2h14c1.1 0 2-.9 2-2V5c0-1.1-.9-2-2-2zM9 17H7v-7h2v7zm4 0h-2V7h2v10zm4 0h-2v-4h2v4z\"/>\n",
       "    </g>\n",
       "</svg>\n",
       "      </button>\n",
       "\n",
       "<style>\n",
       "  .colab-df-quickchart {\n",
       "      --bg-color: #E8F0FE;\n",
       "      --fill-color: #1967D2;\n",
       "      --hover-bg-color: #E2EBFA;\n",
       "      --hover-fill-color: #174EA6;\n",
       "      --disabled-fill-color: #AAA;\n",
       "      --disabled-bg-color: #DDD;\n",
       "  }\n",
       "\n",
       "  [theme=dark] .colab-df-quickchart {\n",
       "      --bg-color: #3B4455;\n",
       "      --fill-color: #D2E3FC;\n",
       "      --hover-bg-color: #434B5C;\n",
       "      --hover-fill-color: #FFFFFF;\n",
       "      --disabled-bg-color: #3B4455;\n",
       "      --disabled-fill-color: #666;\n",
       "  }\n",
       "\n",
       "  .colab-df-quickchart {\n",
       "    background-color: var(--bg-color);\n",
       "    border: none;\n",
       "    border-radius: 50%;\n",
       "    cursor: pointer;\n",
       "    display: none;\n",
       "    fill: var(--fill-color);\n",
       "    height: 32px;\n",
       "    padding: 0;\n",
       "    width: 32px;\n",
       "  }\n",
       "\n",
       "  .colab-df-quickchart:hover {\n",
       "    background-color: var(--hover-bg-color);\n",
       "    box-shadow: 0 1px 2px rgba(60, 64, 67, 0.3), 0 1px 3px 1px rgba(60, 64, 67, 0.15);\n",
       "    fill: var(--button-hover-fill-color);\n",
       "  }\n",
       "\n",
       "  .colab-df-quickchart-complete:disabled,\n",
       "  .colab-df-quickchart-complete:disabled:hover {\n",
       "    background-color: var(--disabled-bg-color);\n",
       "    fill: var(--disabled-fill-color);\n",
       "    box-shadow: none;\n",
       "  }\n",
       "\n",
       "  .colab-df-spinner {\n",
       "    border: 2px solid var(--fill-color);\n",
       "    border-color: transparent;\n",
       "    border-bottom-color: var(--fill-color);\n",
       "    animation:\n",
       "      spin 1s steps(1) infinite;\n",
       "  }\n",
       "\n",
       "  @keyframes spin {\n",
       "    0% {\n",
       "      border-color: transparent;\n",
       "      border-bottom-color: var(--fill-color);\n",
       "      border-left-color: var(--fill-color);\n",
       "    }\n",
       "    20% {\n",
       "      border-color: transparent;\n",
       "      border-left-color: var(--fill-color);\n",
       "      border-top-color: var(--fill-color);\n",
       "    }\n",
       "    30% {\n",
       "      border-color: transparent;\n",
       "      border-left-color: var(--fill-color);\n",
       "      border-top-color: var(--fill-color);\n",
       "      border-right-color: var(--fill-color);\n",
       "    }\n",
       "    40% {\n",
       "      border-color: transparent;\n",
       "      border-right-color: var(--fill-color);\n",
       "      border-top-color: var(--fill-color);\n",
       "    }\n",
       "    60% {\n",
       "      border-color: transparent;\n",
       "      border-right-color: var(--fill-color);\n",
       "    }\n",
       "    80% {\n",
       "      border-color: transparent;\n",
       "      border-right-color: var(--fill-color);\n",
       "      border-bottom-color: var(--fill-color);\n",
       "    }\n",
       "    90% {\n",
       "      border-color: transparent;\n",
       "      border-bottom-color: var(--fill-color);\n",
       "    }\n",
       "  }\n",
       "</style>\n",
       "\n",
       "      <script>\n",
       "        async function quickchart(key) {\n",
       "          const quickchartButtonEl =\n",
       "            document.querySelector('#' + key + ' button');\n",
       "          quickchartButtonEl.disabled = true;  // To prevent multiple clicks.\n",
       "          quickchartButtonEl.classList.add('colab-df-spinner');\n",
       "          try {\n",
       "            const charts = await google.colab.kernel.invokeFunction(\n",
       "                'suggestCharts', [key], {});\n",
       "          } catch (error) {\n",
       "            console.error('Error during call to suggestCharts:', error);\n",
       "          }\n",
       "          quickchartButtonEl.classList.remove('colab-df-spinner');\n",
       "          quickchartButtonEl.classList.add('colab-df-quickchart-complete');\n",
       "        }\n",
       "        (() => {\n",
       "          let quickchartButtonEl =\n",
       "            document.querySelector('#df-2094baff-77ae-4d6a-b6ff-48624dbfa3be button');\n",
       "          quickchartButtonEl.style.display =\n",
       "            google.colab.kernel.accessAllowed ? 'block' : 'none';\n",
       "        })();\n",
       "      </script>\n",
       "    </div>\n",
       "\n",
       "  <div id=\"id_a20b525e-3749-426c-b1cd-92bd671cffd4\">\n",
       "    <style>\n",
       "      .colab-df-generate {\n",
       "        background-color: #E8F0FE;\n",
       "        border: none;\n",
       "        border-radius: 50%;\n",
       "        cursor: pointer;\n",
       "        display: none;\n",
       "        fill: #1967D2;\n",
       "        height: 32px;\n",
       "        padding: 0 0 0 0;\n",
       "        width: 32px;\n",
       "      }\n",
       "\n",
       "      .colab-df-generate:hover {\n",
       "        background-color: #E2EBFA;\n",
       "        box-shadow: 0px 1px 2px rgba(60, 64, 67, 0.3), 0px 1px 3px 1px rgba(60, 64, 67, 0.15);\n",
       "        fill: #174EA6;\n",
       "      }\n",
       "\n",
       "      [theme=dark] .colab-df-generate {\n",
       "        background-color: #3B4455;\n",
       "        fill: #D2E3FC;\n",
       "      }\n",
       "\n",
       "      [theme=dark] .colab-df-generate:hover {\n",
       "        background-color: #434B5C;\n",
       "        box-shadow: 0px 1px 3px 1px rgba(0, 0, 0, 0.15);\n",
       "        filter: drop-shadow(0px 1px 2px rgba(0, 0, 0, 0.3));\n",
       "        fill: #FFFFFF;\n",
       "      }\n",
       "    </style>\n",
       "    <button class=\"colab-df-generate\" onclick=\"generateWithVariable('cr_agg')\"\n",
       "            title=\"Generate code using this dataframe.\"\n",
       "            style=\"display:none;\">\n",
       "\n",
       "  <svg xmlns=\"http://www.w3.org/2000/svg\" height=\"24px\"viewBox=\"0 0 24 24\"\n",
       "       width=\"24px\">\n",
       "    <path d=\"M7,19H8.4L18.45,9,17,7.55,7,17.6ZM5,21V16.75L18.45,3.32a2,2,0,0,1,2.83,0l1.4,1.43a1.91,1.91,0,0,1,.58,1.4,1.91,1.91,0,0,1-.58,1.4L9.25,21ZM18.45,9,17,7.55Zm-12,3A5.31,5.31,0,0,0,4.9,8.1,5.31,5.31,0,0,0,1,6.5,5.31,5.31,0,0,0,4.9,4.9,5.31,5.31,0,0,0,6.5,1,5.31,5.31,0,0,0,8.1,4.9,5.31,5.31,0,0,0,12,6.5,5.46,5.46,0,0,0,6.5,12Z\"/>\n",
       "  </svg>\n",
       "    </button>\n",
       "    <script>\n",
       "      (() => {\n",
       "      const buttonEl =\n",
       "        document.querySelector('#id_a20b525e-3749-426c-b1cd-92bd671cffd4 button.colab-df-generate');\n",
       "      buttonEl.style.display =\n",
       "        google.colab.kernel.accessAllowed ? 'block' : 'none';\n",
       "\n",
       "      buttonEl.onclick = () => {\n",
       "        google.colab.notebook.generateWithVariable('cr_agg');\n",
       "      }\n",
       "      })();\n",
       "    </script>\n",
       "  </div>\n",
       "\n",
       "    </div>\n",
       "  </div>\n"
      ],
      "text/plain": [
       "       rev_util   age  debt_ratio  monthly_inc  open_credit  real_estate  \\\n",
       "0      0.006999  38.0    0.302150       5440.0          4.0          1.0   \n",
       "1      0.704592  63.0    0.471441       8000.0          9.0          1.0   \n",
       "2      0.063113  57.0    0.068586       5000.0         17.0          0.0   \n",
       "3      0.368397  68.0    0.296273       6250.0         16.0          2.0   \n",
       "4      1.000000  34.0    0.000000       3500.0          0.0          0.0   \n",
       "...         ...   ...         ...          ...          ...          ...   \n",
       "16709  1.000000  46.0  170.398010        401.0          3.0          0.0   \n",
       "16710  1.135552  41.0    0.845887       7500.0         12.0          4.0   \n",
       "16711  0.920107  31.0    0.176732       1125.0          4.0          0.0   \n",
       "16712  0.983825  55.0    0.064116       4600.0          2.0          0.0   \n",
       "16713  0.224711  55.0    0.057235       8700.0          7.0          0.0   \n",
       "\n",
       "       dependents  dlq_2yrs  total_late  \n",
       "0             3.0         0         0.0  \n",
       "1             0.0         0         0.0  \n",
       "2             0.0         0         0.0  \n",
       "3             0.0         0         0.0  \n",
       "4             1.0         0         1.0  \n",
       "...           ...       ...         ...  \n",
       "16709         2.0         1         2.0  \n",
       "16710         0.0         1         3.0  \n",
       "16711         0.0         1         2.0  \n",
       "16712         6.0         1         1.0  \n",
       "16713         0.0         1         0.0  \n",
       "\n",
       "[16714 rows x 9 columns]"
      ]
     },
     "execution_count": 3,
     "metadata": {},
     "output_type": "execute_result"
    }
   ],
   "source": [
    "cr_agg = cr\n",
    "cr_agg['total_late'] = cr_agg['late_30_59'] + cr_agg['late_60_89'] + cr_agg['late_90']\n",
    "\n",
    "cr_agg = cr_agg.drop(columns = ['late_30_59','late_60_89','late_90'])\n",
    "\n",
    "cr_agg"
   ]
  },
  {
   "cell_type": "markdown",
   "id": "d2c583e4-f31e-4860-ab0d-b4c47052d172",
   "metadata": {
    "id": "d2c583e4-f31e-4860-ab0d-b4c47052d172"
   },
   "source": [
    "# DANL 320 Project"
   ]
  },
  {
   "cell_type": "markdown",
   "id": "meZ48qDKcwan",
   "metadata": {
    "id": "meZ48qDKcwan"
   },
   "source": [
    "## Background"
   ]
  },
  {
   "cell_type": "markdown",
   "id": "cx3Cf_rvc0wm",
   "metadata": {
    "id": "cx3Cf_rvc0wm"
   },
   "source": [
    "Analyzing credit risk involves determining if a certain borrower will be able to pay off a loan or credit line within the expected time. Banks cannot just simply hand out loans to whoever needs one because it is not guaranteed that the borrower will pay it back. As consumers, we want our banks making very informed decisions, backed by data, on who to give out loans to since we depend on them to handle our money. For banks, identifying borrowers who will potentially commit delinquency allows them to set different interest rates for this type of borrower or even deny the loan altogether which leaves more money for loans that are less risky, potentially increases profits, and therefore helps the bank remain financially stable. With machine learning technologies that are always improving paired with the constant collection of data, banks can use this to their advantage when making tough decisions about loan approvals."
   ]
  },
  {
   "cell_type": "markdown",
   "id": "tsCUTJIIc4UK",
   "metadata": {
    "id": "tsCUTJIIc4UK"
   },
   "source": [
    "## Problem"
   ]
  },
  {
   "cell_type": "markdown",
   "id": "9CqJt2LHc6Dm",
   "metadata": {
    "id": "9CqJt2LHc6Dm"
   },
   "source": [
    "Giving out loans that can’t be paid back need to be minimized, but qualifications shouldn’t be so strict that it makes getting a loan extremely difficult for financially responsible borrowers. Banks need to find the right balance so they’re not losing money, but they’re not turning away good customers either."
   ]
  },
  {
   "cell_type": "markdown",
   "id": "AoIvWCOrc9pe",
   "metadata": {
    "id": "AoIvWCOrc9pe"
   },
   "source": [
    "## Objective"
   ]
  },
  {
   "cell_type": "markdown",
   "id": "wx9rc54rdEZQ",
   "metadata": {
    "id": "wx9rc54rdEZQ"
   },
   "source": [
    "The goal of this project is to execute machine learning models that can predict if a borrower will be able to repay a loan on time based on the borrower’s financial history. These models should be able to accurately find the differences between borrowers who make payments on time and those who do not, so banks can make sound lending decisions."
   ]
  },
  {
   "cell_type": "markdown",
   "id": "70e3b67c-0978-46fb-86e5-e325613117ab",
   "metadata": {
    "id": "70e3b67c-0978-46fb-86e5-e325613117ab"
   },
   "source": [
    "# Data Description"
   ]
  },
  {
   "cell_type": "markdown",
   "id": "d74a8c6a-6016-41d6-9939-58183da58488",
   "metadata": {
    "id": "d74a8c6a-6016-41d6-9939-58183da58488"
   },
   "source": [
    "Our data came from kaggle.com [here](https://www.kaggle.com/datasets/adilshamim8/credit-risk-benchmark-dataset) <br>\n",
    " It was created to help compare different machine learning models for binary classification. The borrowers in this dataset are determined to have committed delinquency or not within two years."
   ]
  },
  {
   "cell_type": "markdown",
   "id": "bjYZM_zHdHxZ",
   "metadata": {
    "id": "bjYZM_zHdHxZ"
   },
   "source": [
    "## Variables"
   ]
  },
  {
   "cell_type": "markdown",
   "id": "3cshFnQxdK-d",
   "metadata": {
    "id": "3cshFnQxdK-d"
   },
   "source": [
    "# Variable Description: <br>\n",
    "- `rev_util`: revolving credit utilization ratio; The ratio of your credit usage compared to the credit that is available <br>\n",
    "- `age` <br>\n",
    "- `monthly_inc`: monthly income\n",
    "- `late_30_59`: count of each time the borrower made a late payment within 30-59 days after the due date <br>\n",
    "- `late_60_89`: count of each time the borrower made a late payment within 60-89 days after the due date <br>\n",
    "- `late_90`: count of each time the borrower made a late payment at least 90 days after the due date <br>\n",
    "- `debt_ratio`: debt to income/assets ratio (expressed as a percentage) <br>\n",
    "- `open_credit`: count of open credit lines and loans <br>\n",
    "- `real_estate`: count of real estate credit lines and loans <br>\n",
    "- `dependents`: count of dependents claimed by borrower <br>\n",
    "- `dlq_2yrs`: Indication of a serious delinquency occuring within 2 years <br>\n",
    "  - 0: No <br>\n",
    "  - 1: Yes\n"
   ]
  },
  {
   "cell_type": "markdown",
   "id": "DulTkd9IdtYA",
   "metadata": {
    "id": "DulTkd9IdtYA"
   },
   "source": [
    "## Data Cleaning and Processing"
   ]
  },
  {
   "cell_type": "markdown",
   "id": "e1DxSeVqdy3V",
   "metadata": {
    "id": "e1DxSeVqdy3V"
   },
   "source": [
    "To omit the effect of outliers within the `late_*` variables, the `total_late` variable was created to account for all late payments per borrower. This is further explained in the next section under Investigation of Perfect Correlation Among `late_*` Variables."
   ]
  },
  {
   "cell_type": "markdown",
   "id": "97e6016b-5449-4bcc-b92e-0dec83f263cc",
   "metadata": {
    "id": "97e6016b-5449-4bcc-b92e-0dec83f263cc"
   },
   "source": [
    "# Exploratory Analysis"
   ]
  },
  {
   "cell_type": "markdown",
   "id": "Bo8ouoCtd5PI",
   "metadata": {
    "id": "Bo8ouoCtd5PI"
   },
   "source": [
    "## Correlation Heat Map"
   ]
  },
  {
   "cell_type": "code",
   "execution_count": 4,
   "id": "511e124a-4fe8-4e2a-9712-6918162d92a2",
   "metadata": {
    "colab": {
     "base_uri": "https://localhost:8080/",
     "height": 1000
    },
    "id": "511e124a-4fe8-4e2a-9712-6918162d92a2",
    "outputId": "e158cdbd-5a2e-465a-8025-2a3bc67f8df7"
   },
   "outputs": [
    {
     "data": {
      "image/png": "[encoded data removed]",
      "text/plain": [
       "<Figure size 1200x1000 with 2 Axes>"
      ]
     },
     "metadata": {},
     "output_type": "display_data"
    }
   ],
   "source": [
    "df_corr = cr.copy()\n",
    "# Compute correlation matrix\n",
    "corr_matrix = df_corr.corr()\n",
    "\n",
    "# 3. Correlation heatmap using matplotlib\n",
    "fig, ax = plt.subplots(figsize=(12, 10))\n",
    "cax = ax.imshow(corr_matrix.values, aspect='auto')\n",
    "fig.colorbar(cax, ax=ax)\n",
    "ax.set_xticks(range(len(corr_matrix.columns)))\n",
    "ax.set_yticks(range(len(corr_matrix.columns)))\n",
    "ax.set_xticklabels(corr_matrix.columns, rotation=90, fontsize=6)\n",
    "ax.set_yticklabels(corr_matrix.columns, fontsize=6)\n",
    "plt.title('How Are Variables Correlated?')\n",
    "plt.tight_layout()\n",
    "plt.show()"
   ]
  },
  {
   "cell_type": "markdown",
   "id": "RXyjcsNVeA-V",
   "metadata": {
    "id": "RXyjcsNVeA-V"
   },
   "source": [
    "Surprisingly, the three `late_*` variables are all perfectly correlated. These variables could have such a high correlation because they are each counting the same thing, just in a different time period. It makes sense that a borrower who has fallen behind on a payment will continue to fall behind and make even later payments. This will be investigated further in the next section to determine the true cause. Also, it is important to note that the `real_estate` and `open_credit` variables have a strong, positive correlation. This seems correct, as they are both lines of credit, and it is common for an individual to have these different lines simultaneously."
   ]
  },
  {
   "cell_type": "markdown",
   "id": "TcmcQmnceGIW",
   "metadata": {
    "id": "TcmcQmnceGIW"
   },
   "source": [
    "## Investigation of Perfect Correlations Among `late_*` Variables"
   ]
  },
  {
   "cell_type": "code",
   "execution_count": 5,
   "id": "exzkcYSBePNA",
   "metadata": {
    "colab": {
     "base_uri": "https://localhost:8080/",
     "height": 450
    },
    "id": "exzkcYSBePNA",
    "outputId": "41183a7c-3f1e-44a4-acb5-d472c8f9cc9a"
   },
   "outputs": [
    {
     "data": {
      "image/png": "[encoded data removed]",
      "text/plain": [
       "<Figure size 640x480 with 2 Axes>"
      ]
     },
     "metadata": {},
     "output_type": "display_data"
    }
   ],
   "source": [
    "plt.subplot(1,2,1)\n",
    "sns.regplot(data = cr, x = 'late_30_59', y = 'late_60_89')\n",
    "\n",
    "plt.subplot(1,2,2)\n",
    "sns.regplot(data = cr, x = 'late_60_89', y = 'late_90')\n",
    "plt.show()"
   ]
  },
  {
   "cell_type": "code",
   "execution_count": 6,
   "id": "BwPUkGJ2eTff",
   "metadata": {
    "id": "BwPUkGJ2eTff"
   },
   "outputs": [],
   "source": [
    "# filtering outliers\n",
    "cr_filter = cr[(cr['late_30_59'] < 60) & (cr['late_60_89'] < 60) & (cr['late_90'] < 60)]"
   ]
  },
  {
   "cell_type": "code",
   "execution_count": 7,
   "id": "DsY_LQHKeaL8",
   "metadata": {
    "colab": {
     "base_uri": "https://localhost:8080/",
     "height": 450
    },
    "id": "DsY_LQHKeaL8",
    "outputId": "20a96c56-c3b9-45cd-9552-bc2ea99025c9"
   },
   "outputs": [
    {
     "data": {
      "image/png": "[encoded data removed]",
      "text/plain": [
       "<Figure size 640x480 with 2 Axes>"
      ]
     },
     "metadata": {},
     "output_type": "display_data"
    }
   ],
   "source": [
    "plt.subplot(1,2,1)\n",
    "sns.regplot(data = cr_filter, x = 'late_30_59', y = 'late_60_89')\n",
    "\n",
    "plt.subplot(1,2,2)\n",
    "sns.regplot(data = cr_filter, x = 'late_60_89', y = 'late_90')\n",
    "plt.show()"
   ]
  },
  {
   "cell_type": "markdown",
   "id": "4X3OCeZGed_5",
   "metadata": {
    "id": "4X3OCeZGed_5"
   },
   "source": [
    "The perfect correlations were being caused by extreme outliers in each `late_*` variable. After filtering out these values, you can see a more accurate representation of the relationships between these variables. It is now clear that the points are more scattered. The variables have positive relationships, but they are far from perfect. As briefly mentioned before, a new variable was created to replace these three `late_*` variables to help decrease bias in our machine learning models. The new variable, `total_late`, includes the sum of all late payments made by each borrower."
   ]
  },
  {
   "cell_type": "markdown",
   "id": "I66NEm5uenap",
   "metadata": {
    "id": "I66NEm5uenap"
   },
   "source": [
    "## Age Distribution"
   ]
  },
  {
   "cell_type": "code",
   "execution_count": 8,
   "id": "Q6AMvSaleprt",
   "metadata": {
    "colab": {
     "base_uri": "https://localhost:8080/",
     "height": 467
    },
    "id": "Q6AMvSaleprt",
    "outputId": "0bf9940e-7580-4b80-b3f6-100a442ff868"
   },
   "outputs": [
    {
     "data": {
      "text/plain": [
       "<Axes: xlabel='age', ylabel='Count'>"
      ]
     },
     "execution_count": 8,
     "metadata": {},
     "output_type": "execute_result"
    },
    {
     "data": {
      "image/png": "[encoded data removed]",
      "text/plain": [
       "<Figure size 640x480 with 1 Axes>"
      ]
     },
     "metadata": {},
     "output_type": "display_data"
    }
   ],
   "source": [
    "sns.histplot(data = cr, x = 'age', bins = 10)"
   ]
  },
  {
   "cell_type": "markdown",
   "id": "Xtw61uO2estk",
   "metadata": {
    "id": "Xtw61uO2estk"
   },
   "source": [
    "To get a better idea of the borrowers in these data, here is the distribution of age. As you can see, most of the borrowers are between the ages of about 37 and 61. The dataset is slightly skewed, as there are some older borrowers included as well, between the ages of about 77 and 101."
   ]
  },
  {
   "cell_type": "markdown",
   "id": "Ss4CNLONewVK",
   "metadata": {
    "id": "Ss4CNLONewVK"
   },
   "source": [
    "# Model Motivation"
   ]
  },
  {
   "cell_type": "markdown",
   "id": "gjk-Wq8Vezsu",
   "metadata": {
    "id": "gjk-Wq8Vezsu"
   },
   "source": [
    "- **Logistic Regression**: determines relationships if any between feature variables and the binary outcome variable. The Elastic Net model will be used to help prevent overfitting since some feature variables have strong relationships, providing the data with regularization. Elastic Net balances between pushing the coefficients of features that are less important closer to 0 (Lasso Model) and grouping correlated features together (Ridge Model). <br>\n",
    "- **Random Forest**: helps predict the binary outcome variable by creating multiple decision trees from bootstrap samples (random samples taken with replacement) from training data. The final tree is constructed through averaging all of the trees together. Using multiple subsets within the training data helps reduce overfitting.\n"
   ]
  },
  {
   "cell_type": "markdown",
   "id": "452ab740-ac85-49d1-8fe7-c4549bfa6aea",
   "metadata": {
    "id": "452ab740-ac85-49d1-8fe7-c4549bfa6aea",
    "jp-MarkdownHeadingCollapsed": true
   },
   "source": [
    "# Machine Learning Analysis"
   ]
  },
  {
   "cell_type": "markdown",
   "id": "a86373e9-f00d-4c29-b48b-2ad30337185e",
   "metadata": {
    "id": "a86373e9-f00d-4c29-b48b-2ad30337185e"
   },
   "source": [
    "For our analyses we chose to apply an elastic net regularized logistic regression and a multi-layer perceptron for binary classification purposes\n",
    "> The target variable here is `dlq_2yrs`: indication of a serious delinquency occuring within 2 years (essentially risky/non risky borrower)(1/0)"
   ]
  },
  {
   "cell_type": "code",
   "execution_count": 11,
   "id": "-K_FEahIvYdd",
   "metadata": {
    "colab": {
     "base_uri": "https://localhost:8080/"
    },
    "id": "-K_FEahIvYdd",
    "outputId": "236d9142-5770-459b-d585-ccc111b6ed6d"
   },
   "outputs": [
    {
     "name": "stdout",
     "output_type": "stream",
     "text": [
      "X_train: (12535, 8), 75.0%\n",
      "y_train: (12535, 1), 75.0%\n",
      "X_test: (4179, 8), 25.0%\n",
      "y_test: (4179, 1), 25.0%\n"
     ]
    }
   ],
   "source": [
    "from sklearn.model_selection import train_test_split\n",
    "import numpy as np\n",
    "\n",
    "features = ['rev_util', 'age', 'debt_ratio', 'monthly_inc', 'open_credit', 'real_estate' , 'dependents', 'total_late']\n",
    "X = np.array(cr_agg[features])\n",
    "m,n = X.shape\n",
    "y = np.array(cr_agg['dlq_2yrs']).reshape(m, 1)\n",
    "\n",
    "X_train, X_test, y_train, y_test = train_test_split(X, y, test_size = 0.25, random_state = 45)\n",
    "\n",
    "print(f'X_train: {X_train.shape}, {round(X_train.shape[0]/m * 100,2)}%\\ny_train: {y_train.shape}, {round(y_train.shape[0]/m * 100,2)}%\\nX_test: {X_test.shape}, {round(X_test.shape[0]/m * 100,2)}%\\ny_test: {y_test.shape}, {round(y_test.shape[0]/m *100,2)}%')"
   ]
  },
  {
   "cell_type": "markdown",
   "id": "3KtSAax2fNLA",
   "metadata": {
    "id": "3KtSAax2fNLA"
   },
   "source": [
    "# Elastic Net Logistic Regression <br>\n",
    "Parameters: <br>\n",
    "- Cs = 10: goes through ten different values of regularization strength\n",
    "- cv = 5: 5-fold Cross Validation\n",
    "- L1_ratios = [.5, .7, .9]: provides different L1 ratios to choose the best one. Determines how heavily Lasso Regularization is used.\n",
    "- max_iter  = 1000: sets the iteration count to 1000\n",
    "- scoring = ‘neg_log_loss’: sets Cross Validation performance metric to the deviance\n"
   ]
  },
  {
   "cell_type": "code",
   "execution_count": 12,
   "id": "NquNGP_cfdyH",
   "metadata": {
    "colab": {
     "base_uri": "https://localhost:8080/",
     "height": 743
    },
    "id": "NquNGP_cfdyH",
    "outputId": "b13a1ed8-26f5-45de-ce3c-3984f4f571f1"
   },
   "outputs": [
    {
     "name": "stderr",
     "output_type": "stream",
     "text": [
      "/usr/local/lib/python3.11/dist-packages/sklearn/utils/validation.py:1408: DataConversionWarning: A column-vector y was passed when a 1d array was expected. Please change the shape of y to (n_samples, ), for example using ravel().\n",
      "  y = column_or_1d(y, warn=True)\n",
      "/usr/local/lib/python3.11/dist-packages/sklearn/linear_model/_sag.py:348: ConvergenceWarning: The max_iter was reached which means the coef_ did not converge\n",
      "  warnings.warn(\n",
      "/usr/local/lib/python3.11/dist-packages/sklearn/linear_model/_sag.py:348: ConvergenceWarning: The max_iter was reached which means the coef_ did not converge\n",
      "  warnings.warn(\n",
      "/usr/local/lib/python3.11/dist-packages/sklearn/linear_model/_sag.py:348: ConvergenceWarning: The max_iter was reached which means the coef_ did not converge\n",
      "  warnings.warn(\n",
      "/usr/local/lib/python3.11/dist-packages/sklearn/linear_model/_sag.py:348: ConvergenceWarning: The max_iter was reached which means the coef_ did not converge\n",
      "  warnings.warn(\n",
      "/usr/local/lib/python3.11/dist-packages/sklearn/linear_model/_sag.py:348: ConvergenceWarning: The max_iter was reached which means the coef_ did not converge\n",
      "  warnings.warn(\n",
      "/usr/local/lib/python3.11/dist-packages/sklearn/linear_model/_sag.py:348: ConvergenceWarning: The max_iter was reached which means the coef_ did not converge\n",
      "  warnings.warn(\n",
      "/usr/local/lib/python3.11/dist-packages/sklearn/linear_model/_sag.py:348: ConvergenceWarning: The max_iter was reached which means the coef_ did not converge\n",
      "  warnings.warn(\n",
      "/usr/local/lib/python3.11/dist-packages/sklearn/linear_model/_sag.py:348: ConvergenceWarning: The max_iter was reached which means the coef_ did not converge\n",
      "  warnings.warn(\n",
      "/usr/local/lib/python3.11/dist-packages/sklearn/linear_model/_sag.py:348: ConvergenceWarning: The max_iter was reached which means the coef_ did not converge\n",
      "  warnings.warn(\n",
      "/usr/local/lib/python3.11/dist-packages/sklearn/linear_model/_sag.py:348: ConvergenceWarning: The max_iter was reached which means the coef_ did not converge\n",
      "  warnings.warn(\n",
      "/usr/local/lib/python3.11/dist-packages/sklearn/linear_model/_sag.py:348: ConvergenceWarning: The max_iter was reached which means the coef_ did not converge\n",
      "  warnings.warn(\n",
      "/usr/local/lib/python3.11/dist-packages/sklearn/linear_model/_sag.py:348: ConvergenceWarning: The max_iter was reached which means the coef_ did not converge\n",
      "  warnings.warn(\n",
      "/usr/local/lib/python3.11/dist-packages/sklearn/linear_model/_sag.py:348: ConvergenceWarning: The max_iter was reached which means the coef_ did not converge\n",
      "  warnings.warn(\n",
      "/usr/local/lib/python3.11/dist-packages/sklearn/linear_model/_sag.py:348: ConvergenceWarning: The max_iter was reached which means the coef_ did not converge\n",
      "  warnings.warn(\n",
      "/usr/local/lib/python3.11/dist-packages/sklearn/linear_model/_sag.py:348: ConvergenceWarning: The max_iter was reached which means the coef_ did not converge\n",
      "  warnings.warn(\n",
      "/usr/local/lib/python3.11/dist-packages/sklearn/linear_model/_sag.py:348: ConvergenceWarning: The max_iter was reached which means the coef_ did not converge\n",
      "  warnings.warn(\n"
     ]
    },
    {
     "data": {
      "text/html": [
       "<style>#sk-container-id-1 {\n",
       "  /* Definition of color scheme common for light and dark mode */\n",
       "  --sklearn-color-text: #000;\n",
       "  --sklearn-color-text-muted: #666;\n",
       "  --sklearn-color-line: gray;\n",
       "  /* Definition of color scheme for unfitted estimators */\n",
       "  --sklearn-color-unfitted-level-0: #fff5e6;\n",
       "  --sklearn-color-unfitted-level-1: #f6e4d2;\n",
       "  --sklearn-color-unfitted-level-2: #ffe0b3;\n",
       "  --sklearn-color-unfitted-level-3: chocolate;\n",
       "  /* Definition of color scheme for fitted estimators */\n",
       "  --sklearn-color-fitted-level-0: #f0f8ff;\n",
       "  --sklearn-color-fitted-level-1: #d4ebff;\n",
       "  --sklearn-color-fitted-level-2: #b3dbfd;\n",
       "  --sklearn-color-fitted-level-3: cornflowerblue;\n",
       "\n",
       "  /* Specific color for light theme */\n",
       "  --sklearn-color-text-on-default-background: var(--sg-text-color, var(--theme-code-foreground, var(--jp-content-font-color1, black)));\n",
       "  --sklearn-color-background: var(--sg-background-color, var(--theme-background, var(--jp-layout-color0, white)));\n",
       "  --sklearn-color-border-box: var(--sg-text-color, var(--theme-code-foreground, var(--jp-content-font-color1, black)));\n",
       "  --sklearn-color-icon: #696969;\n",
       "\n",
       "  @media (prefers-color-scheme: dark) {\n",
       "    /* Redefinition of color scheme for dark theme */\n",
       "    --sklearn-color-text-on-default-background: var(--sg-text-color, var(--theme-code-foreground, var(--jp-content-font-color1, white)));\n",
       "    --sklearn-color-background: var(--sg-background-color, var(--theme-background, var(--jp-layout-color0, #111)));\n",
       "    --sklearn-color-border-box: var(--sg-text-color, var(--theme-code-foreground, var(--jp-content-font-color1, white)));\n",
       "    --sklearn-color-icon: #878787;\n",
       "  }\n",
       "}\n",
       "\n",
       "#sk-container-id-1 {\n",
       "  color: var(--sklearn-color-text);\n",
       "}\n",
       "\n",
       "#sk-container-id-1 pre {\n",
       "  padding: 0;\n",
       "}\n",
       "\n",
       "#sk-container-id-1 input.sk-hidden--visually {\n",
       "  border: 0;\n",
       "  clip: rect(1px 1px 1px 1px);\n",
       "  clip: rect(1px, 1px, 1px, 1px);\n",
       "  height: 1px;\n",
       "  margin: -1px;\n",
       "  overflow: hidden;\n",
       "  padding: 0;\n",
       "  position: absolute;\n",
       "  width: 1px;\n",
       "}\n",
       "\n",
       "#sk-container-id-1 div.sk-dashed-wrapped {\n",
       "  border: 1px dashed var(--sklearn-color-line);\n",
       "  margin: 0 0.4em 0.5em 0.4em;\n",
       "  box-sizing: border-box;\n",
       "  padding-bottom: 0.4em;\n",
       "  background-color: var(--sklearn-color-background);\n",
       "}\n",
       "\n",
       "#sk-container-id-1 div.sk-container {\n",
       "  /* jupyter's `normalize.less` sets `[hidden] { display: none; }`\n",
       "     but bootstrap.min.css set `[hidden] { display: none !important; }`\n",
       "     so we also need the `!important` here to be able to override the\n",
       "     default hidden behavior on the sphinx rendered scikit-learn.org.\n",
       "     See: https://github.com/scikit-learn/scikit-learn/issues/21755 */\n",
       "  display: inline-block !important;\n",
       "  position: relative;\n",
       "}\n",
       "\n",
       "#sk-container-id-1 div.sk-text-repr-fallback {\n",
       "  display: none;\n",
       "}\n",
       "\n",
       "div.sk-parallel-item,\n",
       "div.sk-serial,\n",
       "div.sk-item {\n",
       "  /* draw centered vertical line to link estimators */\n",
       "  background-image: linear-gradient(var(--sklearn-color-text-on-default-background), var(--sklearn-color-text-on-default-background));\n",
       "  background-size: 2px 100%;\n",
       "  background-repeat: no-repeat;\n",
       "  background-position: center center;\n",
       "}\n",
       "\n",
       "/* Parallel-specific style estimator block */\n",
       "\n",
       "#sk-container-id-1 div.sk-parallel-item::after {\n",
       "  content: \"\";\n",
       "  width: 100%;\n",
       "  border-bottom: 2px solid var(--sklearn-color-text-on-default-background);\n",
       "  flex-grow: 1;\n",
       "}\n",
       "\n",
       "#sk-container-id-1 div.sk-parallel {\n",
       "  display: flex;\n",
       "  align-items: stretch;\n",
       "  justify-content: center;\n",
       "  background-color: var(--sklearn-color-background);\n",
       "  position: relative;\n",
       "}\n",
       "\n",
       "#sk-container-id-1 div.sk-parallel-item {\n",
       "  display: flex;\n",
       "  flex-direction: column;\n",
       "}\n",
       "\n",
       "#sk-container-id-1 div.sk-parallel-item:first-child::after {\n",
       "  align-self: flex-end;\n",
       "  width: 50%;\n",
       "}\n",
       "\n",
       "#sk-container-id-1 div.sk-parallel-item:last-child::after {\n",
       "  align-self: flex-start;\n",
       "  width: 50%;\n",
       "}\n",
       "\n",
       "#sk-container-id-1 div.sk-parallel-item:only-child::after {\n",
       "  width: 0;\n",
       "}\n",
       "\n",
       "/* Serial-specific style estimator block */\n",
       "\n",
       "#sk-container-id-1 div.sk-serial {\n",
       "  display: flex;\n",
       "  flex-direction: column;\n",
       "  align-items: center;\n",
       "  background-color: var(--sklearn-color-background);\n",
       "  padding-right: 1em;\n",
       "  padding-left: 1em;\n",
       "}\n",
       "\n",
       "\n",
       "/* Toggleable style: style used for estimator/Pipeline/ColumnTransformer box that is\n",
       "clickable and can be expanded/collapsed.\n",
       "- Pipeline and ColumnTransformer use this feature and define the default style\n",
       "- Estimators will overwrite some part of the style using the `sk-estimator` class\n",
       "*/\n",
       "\n",
       "/* Pipeline and ColumnTransformer style (default) */\n",
       "\n",
       "#sk-container-id-1 div.sk-toggleable {\n",
       "  /* Default theme specific background. It is overwritten whether we have a\n",
       "  specific estimator or a Pipeline/ColumnTransformer */\n",
       "  background-color: var(--sklearn-color-background);\n",
       "}\n",
       "\n",
       "/* Toggleable label */\n",
       "#sk-container-id-1 label.sk-toggleable__label {\n",
       "  cursor: pointer;\n",
       "  display: flex;\n",
       "  width: 100%;\n",
       "  margin-bottom: 0;\n",
       "  padding: 0.5em;\n",
       "  box-sizing: border-box;\n",
       "  text-align: center;\n",
       "  align-items: start;\n",
       "  justify-content: space-between;\n",
       "  gap: 0.5em;\n",
       "}\n",
       "\n",
       "#sk-container-id-1 label.sk-toggleable__label .caption {\n",
       "  font-size: 0.6rem;\n",
       "  font-weight: lighter;\n",
       "  color: var(--sklearn-color-text-muted);\n",
       "}\n",
       "\n",
       "#sk-container-id-1 label.sk-toggleable__label-arrow:before {\n",
       "  /* Arrow on the left of the label */\n",
       "  content: \"▸\";\n",
       "  float: left;\n",
       "  margin-right: 0.25em;\n",
       "  color: var(--sklearn-color-icon);\n",
       "}\n",
       "\n",
       "#sk-container-id-1 label.sk-toggleable__label-arrow:hover:before {\n",
       "  color: var(--sklearn-color-text);\n",
       "}\n",
       "\n",
       "/* Toggleable content - dropdown */\n",
       "\n",
       "#sk-container-id-1 div.sk-toggleable__content {\n",
       "  max-height: 0;\n",
       "  max-width: 0;\n",
       "  overflow: hidden;\n",
       "  text-align: left;\n",
       "  /* unfitted */\n",
       "  background-color: var(--sklearn-color-unfitted-level-0);\n",
       "}\n",
       "\n",
       "#sk-container-id-1 div.sk-toggleable__content.fitted {\n",
       "  /* fitted */\n",
       "  background-color: var(--sklearn-color-fitted-level-0);\n",
       "}\n",
       "\n",
       "#sk-container-id-1 div.sk-toggleable__content pre {\n",
       "  margin: 0.2em;\n",
       "  border-radius: 0.25em;\n",
       "  color: var(--sklearn-color-text);\n",
       "  /* unfitted */\n",
       "  background-color: var(--sklearn-color-unfitted-level-0);\n",
       "}\n",
       "\n",
       "#sk-container-id-1 div.sk-toggleable__content.fitted pre {\n",
       "  /* unfitted */\n",
       "  background-color: var(--sklearn-color-fitted-level-0);\n",
       "}\n",
       "\n",
       "#sk-container-id-1 input.sk-toggleable__control:checked~div.sk-toggleable__content {\n",
       "  /* Expand drop-down */\n",
       "  max-height: 200px;\n",
       "  max-width: 100%;\n",
       "  overflow: auto;\n",
       "}\n",
       "\n",
       "#sk-container-id-1 input.sk-toggleable__control:checked~label.sk-toggleable__label-arrow:before {\n",
       "  content: \"▾\";\n",
       "}\n",
       "\n",
       "/* Pipeline/ColumnTransformer-specific style */\n",
       "\n",
       "#sk-container-id-1 div.sk-label input.sk-toggleable__control:checked~label.sk-toggleable__label {\n",
       "  color: var(--sklearn-color-text);\n",
       "  background-color: var(--sklearn-color-unfitted-level-2);\n",
       "}\n",
       "\n",
       "#sk-container-id-1 div.sk-label.fitted input.sk-toggleable__control:checked~label.sk-toggleable__label {\n",
       "  background-color: var(--sklearn-color-fitted-level-2);\n",
       "}\n",
       "\n",
       "/* Estimator-specific style */\n",
       "\n",
       "/* Colorize estimator box */\n",
       "#sk-container-id-1 div.sk-estimator input.sk-toggleable__control:checked~label.sk-toggleable__label {\n",
       "  /* unfitted */\n",
       "  background-color: var(--sklearn-color-unfitted-level-2);\n",
       "}\n",
       "\n",
       "#sk-container-id-1 div.sk-estimator.fitted input.sk-toggleable__control:checked~label.sk-toggleable__label {\n",
       "  /* fitted */\n",
       "  background-color: var(--sklearn-color-fitted-level-2);\n",
       "}\n",
       "\n",
       "#sk-container-id-1 div.sk-label label.sk-toggleable__label,\n",
       "#sk-container-id-1 div.sk-label label {\n",
       "  /* The background is the default theme color */\n",
       "  color: var(--sklearn-color-text-on-default-background);\n",
       "}\n",
       "\n",
       "/* On hover, darken the color of the background */\n",
       "#sk-container-id-1 div.sk-label:hover label.sk-toggleable__label {\n",
       "  color: var(--sklearn-color-text);\n",
       "  background-color: var(--sklearn-color-unfitted-level-2);\n",
       "}\n",
       "\n",
       "/* Label box, darken color on hover, fitted */\n",
       "#sk-container-id-1 div.sk-label.fitted:hover label.sk-toggleable__label.fitted {\n",
       "  color: var(--sklearn-color-text);\n",
       "  background-color: var(--sklearn-color-fitted-level-2);\n",
       "}\n",
       "\n",
       "/* Estimator label */\n",
       "\n",
       "#sk-container-id-1 div.sk-label label {\n",
       "  font-family: monospace;\n",
       "  font-weight: bold;\n",
       "  display: inline-block;\n",
       "  line-height: 1.2em;\n",
       "}\n",
       "\n",
       "#sk-container-id-1 div.sk-label-container {\n",
       "  text-align: center;\n",
       "}\n",
       "\n",
       "/* Estimator-specific */\n",
       "#sk-container-id-1 div.sk-estimator {\n",
       "  font-family: monospace;\n",
       "  border: 1px dotted var(--sklearn-color-border-box);\n",
       "  border-radius: 0.25em;\n",
       "  box-sizing: border-box;\n",
       "  margin-bottom: 0.5em;\n",
       "  /* unfitted */\n",
       "  background-color: var(--sklearn-color-unfitted-level-0);\n",
       "}\n",
       "\n",
       "#sk-container-id-1 div.sk-estimator.fitted {\n",
       "  /* fitted */\n",
       "  background-color: var(--sklearn-color-fitted-level-0);\n",
       "}\n",
       "\n",
       "/* on hover */\n",
       "#sk-container-id-1 div.sk-estimator:hover {\n",
       "  /* unfitted */\n",
       "  background-color: var(--sklearn-color-unfitted-level-2);\n",
       "}\n",
       "\n",
       "#sk-container-id-1 div.sk-estimator.fitted:hover {\n",
       "  /* fitted */\n",
       "  background-color: var(--sklearn-color-fitted-level-2);\n",
       "}\n",
       "\n",
       "/* Specification for estimator info (e.g. \"i\" and \"?\") */\n",
       "\n",
       "/* Common style for \"i\" and \"?\" */\n",
       "\n",
       ".sk-estimator-doc-link,\n",
       "a:link.sk-estimator-doc-link,\n",
       "a:visited.sk-estimator-doc-link {\n",
       "  float: right;\n",
       "  font-size: smaller;\n",
       "  line-height: 1em;\n",
       "  font-family: monospace;\n",
       "  background-color: var(--sklearn-color-background);\n",
       "  border-radius: 1em;\n",
       "  height: 1em;\n",
       "  width: 1em;\n",
       "  text-decoration: none !important;\n",
       "  margin-left: 0.5em;\n",
       "  text-align: center;\n",
       "  /* unfitted */\n",
       "  border: var(--sklearn-color-unfitted-level-1) 1pt solid;\n",
       "  color: var(--sklearn-color-unfitted-level-1);\n",
       "}\n",
       "\n",
       ".sk-estimator-doc-link.fitted,\n",
       "a:link.sk-estimator-doc-link.fitted,\n",
       "a:visited.sk-estimator-doc-link.fitted {\n",
       "  /* fitted */\n",
       "  border: var(--sklearn-color-fitted-level-1) 1pt solid;\n",
       "  color: var(--sklearn-color-fitted-level-1);\n",
       "}\n",
       "\n",
       "/* On hover */\n",
       "div.sk-estimator:hover .sk-estimator-doc-link:hover,\n",
       ".sk-estimator-doc-link:hover,\n",
       "div.sk-label-container:hover .sk-estimator-doc-link:hover,\n",
       ".sk-estimator-doc-link:hover {\n",
       "  /* unfitted */\n",
       "  background-color: var(--sklearn-color-unfitted-level-3);\n",
       "  color: var(--sklearn-color-background);\n",
       "  text-decoration: none;\n",
       "}\n",
       "\n",
       "div.sk-estimator.fitted:hover .sk-estimator-doc-link.fitted:hover,\n",
       ".sk-estimator-doc-link.fitted:hover,\n",
       "div.sk-label-container:hover .sk-estimator-doc-link.fitted:hover,\n",
       ".sk-estimator-doc-link.fitted:hover {\n",
       "  /* fitted */\n",
       "  background-color: var(--sklearn-color-fitted-level-3);\n",
       "  color: var(--sklearn-color-background);\n",
       "  text-decoration: none;\n",
       "}\n",
       "\n",
       "/* Span, style for the box shown on hovering the info icon */\n",
       ".sk-estimator-doc-link span {\n",
       "  display: none;\n",
       "  z-index: 9999;\n",
       "  position: relative;\n",
       "  font-weight: normal;\n",
       "  right: .2ex;\n",
       "  padding: .5ex;\n",
       "  margin: .5ex;\n",
       "  width: min-content;\n",
       "  min-width: 20ex;\n",
       "  max-width: 50ex;\n",
       "  color: var(--sklearn-color-text);\n",
       "  box-shadow: 2pt 2pt 4pt #999;\n",
       "  /* unfitted */\n",
       "  background: var(--sklearn-color-unfitted-level-0);\n",
       "  border: .5pt solid var(--sklearn-color-unfitted-level-3);\n",
       "}\n",
       "\n",
       ".sk-estimator-doc-link.fitted span {\n",
       "  /* fitted */\n",
       "  background: var(--sklearn-color-fitted-level-0);\n",
       "  border: var(--sklearn-color-fitted-level-3);\n",
       "}\n",
       "\n",
       ".sk-estimator-doc-link:hover span {\n",
       "  display: block;\n",
       "}\n",
       "\n",
       "/* \"?\"-specific style due to the `<a>` HTML tag */\n",
       "\n",
       "#sk-container-id-1 a.estimator_doc_link {\n",
       "  float: right;\n",
       "  font-size: 1rem;\n",
       "  line-height: 1em;\n",
       "  font-family: monospace;\n",
       "  background-color: var(--sklearn-color-background);\n",
       "  border-radius: 1rem;\n",
       "  height: 1rem;\n",
       "  width: 1rem;\n",
       "  text-decoration: none;\n",
       "  /* unfitted */\n",
       "  color: var(--sklearn-color-unfitted-level-1);\n",
       "  border: var(--sklearn-color-unfitted-level-1) 1pt solid;\n",
       "}\n",
       "\n",
       "#sk-container-id-1 a.estimator_doc_link.fitted {\n",
       "  /* fitted */\n",
       "  border: var(--sklearn-color-fitted-level-1) 1pt solid;\n",
       "  color: var(--sklearn-color-fitted-level-1);\n",
       "}\n",
       "\n",
       "/* On hover */\n",
       "#sk-container-id-1 a.estimator_doc_link:hover {\n",
       "  /* unfitted */\n",
       "  background-color: var(--sklearn-color-unfitted-level-3);\n",
       "  color: var(--sklearn-color-background);\n",
       "  text-decoration: none;\n",
       "}\n",
       "\n",
       "#sk-container-id-1 a.estimator_doc_link.fitted:hover {\n",
       "  /* fitted */\n",
       "  background-color: var(--sklearn-color-fitted-level-3);\n",
       "}\n",
       "</style><div id=\"sk-container-id-1\" class=\"sk-top-container\"><div class=\"sk-text-repr-fallback\"><pre>LogisticRegressionCV(cv=5, l1_ratios=[0.5, 0.7, 0.9], max_iter=1000,\n",
       "                     penalty=&#x27;elasticnet&#x27;, scoring=&#x27;neg_log_loss&#x27;,\n",
       "                     solver=&#x27;saga&#x27;)</pre><b>In a Jupyter environment, please rerun this cell to show the HTML representation or trust the notebook. <br />On GitHub, the HTML representation is unable to render, please try loading this page with nbviewer.org.</b></div><div class=\"sk-container\" hidden><div class=\"sk-item\"><div class=\"sk-estimator fitted sk-toggleable\"><input class=\"sk-toggleable__control sk-hidden--visually\" id=\"sk-estimator-id-1\" type=\"checkbox\" checked><label for=\"sk-estimator-id-1\" class=\"sk-toggleable__label fitted sk-toggleable__label-arrow\"><div><div>LogisticRegressionCV</div></div><div><a class=\"sk-estimator-doc-link fitted\" rel=\"noreferrer\" target=\"_blank\" href=\"https://scikit-learn.org/1.6/modules/generated/sklearn.linear_model.LogisticRegressionCV.html\">?<span>Documentation for LogisticRegressionCV</span></a><span class=\"sk-estimator-doc-link fitted\">i<span>Fitted</span></span></div></label><div class=\"sk-toggleable__content fitted\"><pre>LogisticRegressionCV(cv=5, l1_ratios=[0.5, 0.7, 0.9], max_iter=1000,\n",
       "                     penalty=&#x27;elasticnet&#x27;, scoring=&#x27;neg_log_loss&#x27;,\n",
       "                     solver=&#x27;saga&#x27;)</pre></div> </div></div></div></div>"
      ],
      "text/plain": [
       "LogisticRegressionCV(cv=5, l1_ratios=[0.5, 0.7, 0.9], max_iter=1000,\n",
       "                     penalty='elasticnet', scoring='neg_log_loss',\n",
       "                     solver='saga')"
      ]
     },
     "execution_count": 12,
     "metadata": {},
     "output_type": "execute_result"
    }
   ],
   "source": [
    "from sklearn.linear_model import LogisticRegressionCV\n",
    "enet_cv = LogisticRegressionCV(\n",
    "    Cs=10, cv=5, penalty='elasticnet', solver='saga',\n",
    "    l1_ratios=[0.5, 0.7, 0.9], max_iter=1000, scoring='neg_log_loss'\n",
    ")\n",
    "enet_cv.fit(X_train, y_train)"
   ]
  },
  {
   "cell_type": "code",
   "execution_count": 13,
   "id": "sM_FXj55fiKQ",
   "metadata": {
    "colab": {
     "base_uri": "https://localhost:8080/"
    },
    "id": "sM_FXj55fiKQ",
    "outputId": "0a0a8b91-3c7d-45b5-c545-6da9892f27eb"
   },
   "outputs": [
    {
     "name": "stdout",
     "output_type": "stream",
     "text": [
      "Elastic Net Regression - Best C: 10000.0\n",
      "Elastic Net Regression - Best l1 ratio: 0.9\n",
      "Elastic Net Regression Coefficients:\n",
      "     predictor  coefficient\n",
      "0     rev_util    -0.000025\n",
      "1          age    -0.000795\n",
      "2   debt_ratio    -0.000034\n",
      "3  monthly_inc    -0.000012\n",
      "4  open_credit     0.000311\n",
      "5  real_estate     0.000090\n",
      "6   dependents     0.000237\n",
      "7   total_late     0.003390\n"
     ]
    },
    {
     "name": "stderr",
     "output_type": "stream",
     "text": [
      "<ipython-input-13-a315c511df1d>:4: DeprecationWarning: Conversion of an array with ndim > 0 to a scalar is deprecated, and will error in future. Ensure you extract a single element from your array before performing this operation. (Deprecated NumPy 1.25.)\n",
      "  intercept = float(enet_cv.intercept_)\n"
     ]
    }
   ],
   "source": [
    "print(\"Elastic Net Regression - Best C:\", enet_cv.C_[0])\n",
    "print(\"Elastic Net Regression - Best l1 ratio:\", enet_cv.l1_ratio_[0])\n",
    "\n",
    "intercept = float(enet_cv.intercept_)\n",
    "coef_enet = pd.DataFrame({\n",
    "    'predictor': features,\n",
    "    'coefficient': list(enet_cv.coef_[0])\n",
    "})\n",
    "print(\"Elastic Net Regression Coefficients:\")\n",
    "print(coef_enet)"
   ]
  },
  {
   "cell_type": "code",
   "execution_count": 14,
   "id": "RYbhSZsSfmc8",
   "metadata": {
    "colab": {
     "base_uri": "https://localhost:8080/",
     "height": 656
    },
    "id": "RYbhSZsSfmc8",
    "outputId": "87d668a7-66a1-4a5c-e638-3a8036a58640"
   },
   "outputs": [
    {
     "name": "stderr",
     "output_type": "stream",
     "text": [
      "<ipython-input-14-225bcb34ab87>:5: UserWarning: \n",
      "\n",
      "The `join` parameter is deprecated and will be removed in v0.15.0. You can remove the line between points with `linestyle='none'`.\n",
      "\n",
      "  ax = sns.pointplot(x=\"coefficient\", y=\"predictor\", data=coef_enet, order=order, join=False)\n"
     ]
    },
    {
     "data": {
      "image/png": "[encoded data removed]",
      "text/plain": [
       "<Figure size 800x600 with 1 Axes>"
      ]
     },
     "metadata": {},
     "output_type": "display_data"
    }
   ],
   "source": [
    "# Force an order for the y-axis\n",
    "order = coef_enet['predictor'].tolist()\n",
    "\n",
    "plt.figure(figsize=(8,6))\n",
    "ax = sns.pointplot(x=\"coefficient\", y=\"predictor\", data=coef_enet, order=order, join=False)\n",
    "plt.title(\"Coefficients of Elastic Net Logistic Regression Model\")\n",
    "plt.xlabel(\"Coefficient value\")\n",
    "plt.ylabel(\"Predictor\")\n",
    "\n",
    "# Draw horizontal lines from 0 to each coefficient.\n",
    "for _, row in coef_enet.iterrows():\n",
    "    # Get the y-axis position from the order list.\n",
    "    y_pos = order.index(row['predictor'])\n",
    "    plt.hlines(y=y_pos, xmin=0, xmax=row['coefficient'], color='gray', linestyle='--')\n",
    "\n",
    "# Draw a vertical line at 0.\n",
    "plt.axvline(0, color='black', linestyle='--')\n",
    "\n",
    "plt.show()"
   ]
  },
  {
   "cell_type": "markdown",
   "id": "RaIBFdK6ftp-",
   "metadata": {
    "id": "RaIBFdK6ftp-"
   },
   "source": [
    "This model heavily favored the Lasso Regularization, indicated both by the best L1 ratio; .9, and by the coefficients for each feature; extremely close to 0. This model shows that the biggest influences on borrowers committing a financial delinquency are `total_late` (.003) and `age` (-.001). To check the performance of the model, refer to the confusion matrix."
   ]
  },
  {
   "cell_type": "code",
   "execution_count": 15,
   "id": "anZrGcGVfum6",
   "metadata": {
    "colab": {
     "base_uri": "https://localhost:8080/"
    },
    "id": "anZrGcGVfum6",
    "outputId": "96cdf4b1-c8e8-4675-cd55-f24fee6e125b"
   },
   "outputs": [
    {
     "name": "stdout",
     "output_type": "stream",
     "text": [
      "Confusion Matrix (Elastic Net):\n",
      " [[2081    1]\n",
      " [2075   22]]\n",
      "Elastic Net Accuracy: 0.5032304379038047\n",
      "Elastic Net Precision: 0.9565217391304348\n",
      "Elastic Net Recall: 0.010491177873152123\n"
     ]
    }
   ],
   "source": [
    "from sklearn.metrics import (confusion_matrix, accuracy_score, precision_score,\n",
    "                             recall_score, roc_curve, roc_auc_score)\n",
    "\n",
    "# Prediction and evaluation for elastic net model\n",
    "y_pred_prob_enet = enet_cv.predict_proba(X_test)[:, 1]\n",
    "y_pred_enet = (y_pred_prob_enet > 0.5).astype(int)\n",
    "ctab_enet = confusion_matrix(y_test, y_pred_enet)\n",
    "accuracy_enet = accuracy_score(y_test, y_pred_enet)\n",
    "precision_enet = precision_score(y_test, y_pred_enet)\n",
    "recall_enet = recall_score(y_test, y_pred_enet)\n",
    "\n",
    "print(\"Confusion Matrix (Elastic Net):\\n\", ctab_enet)\n",
    "print(\"Elastic Net Accuracy:\", accuracy_enet)\n",
    "print(\"Elastic Net Precision:\", precision_enet)\n",
    "print(\"Elastic Net Recall:\", recall_enet)"
   ]
  },
  {
   "cell_type": "markdown",
   "id": "byyDiN4Wfyhq",
   "metadata": {
    "id": "byyDiN4Wfyhq"
   },
   "source": [
    "The model performed very well when it comes to classifying borrowers who have not committed a financial delinquency, with only one false positive. However, there are over two thousand false negative predictions. This means that borrowers who committed financial delinquency were classified as non-delinquent. Out of all delinquent borrowers, the model was only able to correctly identify 22 borrowers, so the model has an extremely low recall rate.  Precision is quite high, due to the very low number of borrowers who were classified as likely to commit financial delinquency. As expected with low numbers of correct predictions, accuracy is lower than it should be."
   ]
  },
  {
   "cell_type": "markdown",
   "id": "MkbrRAMyf2YC",
   "metadata": {
    "id": "MkbrRAMyf2YC"
   },
   "source": [
    "# Random Forest <br>\n",
    "Parameters:\n",
    "- max_features = 3: 3 features will be randomly chosen at each split\n",
    "- n_estimators = 500: size of the ‘forest’\n",
    "- random_state = 42: seed for random selection\n",
    "- oob_score = True: out-of-bag score estimates error\n"
   ]
  },
  {
   "cell_type": "code",
   "execution_count": 16,
   "id": "_fOp9krmgBOh",
   "metadata": {
    "id": "_fOp9krmgBOh"
   },
   "outputs": [],
   "source": [
    "from sklearn.metrics import mean_squared_error\n",
    "\n",
    "from sklearn.ensemble import RandomForestRegressor\n",
    "from sklearn.model_selection import GridSearchCV\n",
    "\n",
    "import xgboost as xgb\n",
    "from xgboost import XGBRegressor, plot_importance\n",
    "from sklearn.inspection import PartialDependenceDisplay"
   ]
  },
  {
   "cell_type": "code",
   "execution_count": 17,
   "id": "d1pkgFZEgJFt",
   "metadata": {
    "colab": {
     "base_uri": "https://localhost:8080/"
    },
    "id": "d1pkgFZEgJFt",
    "outputId": "7161d522-afe3-4d8b-deeb-c025234a103f"
   },
   "outputs": [
    {
     "name": "stdout",
     "output_type": "stream",
     "text": [
      "Random Forest Model:\n",
      "RandomForestRegressor(max_features=3, n_estimators=500, oob_score=True,\n",
      "                      random_state=42)\n",
      "Out-of-bag score: 0.3473839318930291\n",
      "Train MSE: 0.02215130147586757\n",
      "Test MSE: 0.15579227566403447\n"
     ]
    }
   ],
   "source": [
    "# Build the Random Forest model\n",
    "# max_features=13 means that at each split the algorithm randomly considers 13 predictors.\n",
    "rf = RandomForestRegressor(max_features=3,  # Use 13 features at each split\n",
    "                           n_estimators=500,  # Number of trees in the forest\n",
    "                           random_state=42,\n",
    "                           oob_score=True)    # Use out-of-bag samples to estimate error\n",
    "\n",
    "rf.fit(X_train, y_train.ravel()) # Using ravel to change the shape of y_train. This was suggested after receiving a DataConversionWarning\n",
    "\n",
    "# Print the model details\n",
    "print(\"Random Forest Model:\")\n",
    "print(rf)\n",
    "\n",
    "# Output the model details (feature importances, OOB score, etc.)\n",
    "print(\"Out-of-bag score:\", rf.oob_score_)  # A rough estimate of generalization error\n",
    "\n",
    "\n",
    "# Generate predictions on training and testing sets\n",
    "y_train_pred = rf.predict(X_train)\n",
    "y_test_pred = rf.predict(X_test)\n",
    "\n",
    "# Calculate Mean Squared Errors (MSE) for both sets\n",
    "train_mse = mean_squared_error(y_train, y_train_pred)\n",
    "test_mse = mean_squared_error(y_test, y_test_pred)\n",
    "print(\"Train MSE:\", train_mse)\n",
    "print(\"Test MSE:\", test_mse)"
   ]
  },
  {
   "cell_type": "markdown",
   "id": "44XwfAkhgt7E",
   "metadata": {
    "id": "44XwfAkhgt7E"
   },
   "source": [
    "## Refining Random Forest Model"
   ]
  },
  {
   "cell_type": "code",
   "execution_count": 18,
   "id": "J-hTZzTbgUPG",
   "metadata": {
    "colab": {
     "base_uri": "https://localhost:8080/",
     "height": 601
    },
    "id": "J-hTZzTbgUPG",
    "outputId": "f9e3e67a-a6cd-472d-da67-3877997616d9"
   },
   "outputs": [
    {
     "name": "stdout",
     "output_type": "stream",
     "text": [
      "Fitting 10 folds for each of 6 candidates, totalling 60 fits\n",
      "Best Parameters: {'max_features': 3, 'min_samples_leaf': 5}\n"
     ]
    },
    {
     "data": {
      "image/png": "[encoded data removed]",
      "text/plain": [
       "<Figure size 800x600 with 1 Axes>"
      ]
     },
     "metadata": {},
     "output_type": "display_data"
    }
   ],
   "source": [
    "# Define the grid of hyperparameters:\n",
    "# - min_samples_leaf is the minimum number of samples in a terminal node.\n",
    "param_grid = {\n",
    "    \"max_features\": list(range(3, 15, 2)),\n",
    "    \"min_samples_leaf\": [5]\n",
    "}\n",
    "\n",
    "# Initialize the RandomForestRegressor:\n",
    "# - n_estimators is set to 50 (equivalent to num.trees)\n",
    "# - random_state is set for reproducibility.\n",
    "# rf = RandomForestRegressor(n_estimators=50, random_state=1917)\n",
    "\n",
    "rf = RandomForestRegressor(n_estimators=500,  # Number of trees in the forest\n",
    "                           random_state=42,\n",
    "                           oob_score=True)    # Use out-of-bag samples to estimate error\n",
    "\n",
    "# Set up 10-fold cross-validation and GridSearch over the parameters\n",
    "grid_search = GridSearchCV(\n",
    "    estimator=rf,\n",
    "    param_grid=param_grid,\n",
    "    cv=10,\n",
    "    scoring=\"neg_mean_squared_error\",\n",
    "    return_train_score=True,\n",
    "    n_jobs=-1,\n",
    "    verbose=1\n",
    ")\n",
    "\n",
    "# Fit the grid search on the data\n",
    "grid_search.fit(X_train, y_train.ravel())\n",
    "\n",
    "# Extract the best parameters\n",
    "print(\"Best Parameters:\", grid_search.best_params_)\n",
    "\n",
    "# To replicate the ggplot visualization from R, we plot the grid search results.\n",
    "results = pd.DataFrame(grid_search.cv_results_)\n",
    "\n",
    "plt.figure(figsize=(8, 6))\n",
    "plt.errorbar(\n",
    "    results[\"param_max_features\"].astype(int),\n",
    "    -results[\"mean_test_score\"],\n",
    "    yerr=results[\"std_test_score\"],\n",
    "    fmt=\"o-\",\n",
    "    capsize=5\n",
    ")\n",
    "plt.title(\"Grid Search CV Results\")\n",
    "plt.xlabel(\"max_features (mtry equivalent)\")\n",
    "plt.ylabel(\"Mean Squared Error\")\n",
    "plt.grid(True)\n",
    "plt.show()\n"
   ]
  },
  {
   "cell_type": "markdown",
   "id": "tjBCyY1igUpO",
   "metadata": {
    "id": "tjBCyY1igUpO"
   },
   "source": [
    "The model performed well on the training data since the training MSE is very low, but this model could use some further refining as the test MSE is slightly larger, suggesting some overfitting. The out-of-bag score indicates that 34.74% of the out-of-bag sample was predicted correctly, which is not very high.\n",
    "After setting up and fitting a Grid Search on the training data, it was concluded that the optimal max_features is 3. When the max_features are set to 3, the test MSE is the lowest compared to other max_feature values.\n",
    "Through refining the Random Forest model, we are able to find the most important variables, `rev_utils` and `total_late`, which slightly differ from the biggest weights assigned by the previous logistic regression model.\n"
   ]
  },
  {
   "cell_type": "markdown",
   "id": "d92ad040-6079-4058-800e-ee8d2c8eb4bf",
   "metadata": {
    "id": "d92ad040-6079-4058-800e-ee8d2c8eb4bf"
   },
   "source": [
    "## PCA and Cluster Analysis"
   ]
  },
  {
   "cell_type": "code",
   "execution_count": null,
   "id": "45ad0ce6-0e41-45a1-b423-fc6408bdf3ab",
   "metadata": {
    "id": "45ad0ce6-0e41-45a1-b423-fc6408bdf3ab"
   },
   "outputs": [],
   "source": [
    "features = ['rev_util', 'total_late','debt_ratio', 'open_credit', 'real_estate','dependents', 'dlq_2yrs']\n",
    "cr = cr_agg\n",
    "scaler = StandardScaler()\n",
    "X_scaled = scaler.fit_transform(cr[features])\n",
    "\n",
    "\n",
    "pca = PCA()\n",
    "X_pca = pca.fit_transform(X_scaled)"
   ]
  },
  {
   "cell_type": "markdown",
   "id": "9b2ac219-e699-493b-b55f-d59ea447eb6a",
   "metadata": {
    "id": "9b2ac219-e699-493b-b55f-d59ea447eb6a"
   },
   "source": [
    "### Scree Plot"
   ]
  },
  {
   "cell_type": "code",
   "execution_count": null,
   "id": "503d1981-56cd-4d60-87dd-701243dc7d07",
   "metadata": {
    "id": "503d1981-56cd-4d60-87dd-701243dc7d07",
    "outputId": "54d5f4e3-6aff-4b3d-ddc4-f804bf9bc5f6"
   },
   "outputs": [
    {
     "data": {
      "image/png": "[encoded data removed]",
      "text/plain": [
       "<Figure size 800x400 with 1 Axes>"
      ]
     },
     "metadata": {},
     "output_type": "display_data"
    }
   ],
   "source": [
    "plt.figure(figsize=(8, 4))\n",
    "plt.plot(range(1, len(features) + 1), pca.explained_variance_ratio_, marker='o')\n",
    "plt.title('Scree Plot')\n",
    "plt.xlabel('Principal Component')\n",
    "plt.ylabel('Variance Explained')\n",
    "plt.grid(True)\n",
    "plt.show()"
   ]
  },
  {
   "cell_type": "markdown",
   "id": "a52716a2-7bc2-43f3-9db9-aa7f258ffaca",
   "metadata": {
    "id": "a52716a2-7bc2-43f3-9db9-aa7f258ffaca"
   },
   "source": [
    "> The scree plot for our PCA analysis shows that ~38% of the total variance is explained by the first two principal components."
   ]
  },
  {
   "cell_type": "markdown",
   "id": "046772ef-a934-4d92-bc25-40d8f965127c",
   "metadata": {
    "id": "046772ef-a934-4d92-bc25-40d8f965127c"
   },
   "source": [
    "### Cluster Analysis"
   ]
  },
  {
   "cell_type": "code",
   "execution_count": null,
   "id": "7aa18cb8-1b01-4a69-858e-03fd9b7c7d9a",
   "metadata": {
    "id": "7aa18cb8-1b01-4a69-858e-03fd9b7c7d9a",
    "outputId": "089d5df2-d692-469c-8a4f-08f518058ac0"
   },
   "outputs": [
    {
     "name": "stderr",
     "output_type": "stream",
     "text": [
      "C:\\Users\\noone\\anaconda3\\Lib\\site-packages\\joblib\\externals\\loky\\backend\\context.py:136: UserWarning: Could not find the number of physical cores for the following reason:\n",
      "[WinError 2] The system cannot find the file specified\n",
      "Returning the number of logical cores instead. You can silence this warning by setting LOKY_MAX_CPU_COUNT to the number of cores you want to use.\n",
      "  warnings.warn(\n",
      "  File \"C:\\Users\\noone\\anaconda3\\Lib\\site-packages\\joblib\\externals\\loky\\backend\\context.py\", line 257, in _count_physical_cores\n",
      "    cpu_info = subprocess.run(\n",
      "               ^^^^^^^^^^^^^^^\n",
      "  File \"C:\\Users\\noone\\anaconda3\\Lib\\subprocess.py\", line 548, in run\n",
      "    with Popen(*popenargs, **kwargs) as process:\n",
      "         ^^^^^^^^^^^^^^^^^^^^^^^^^^^\n",
      "  File \"C:\\Users\\noone\\anaconda3\\Lib\\subprocess.py\", line 1026, in __init__\n",
      "    self._execute_child(args, executable, preexec_fn, close_fds,\n",
      "  File \"C:\\Users\\noone\\anaconda3\\Lib\\subprocess.py\", line 1538, in _execute_child\n",
      "    hp, ht, pid, tid = _winapi.CreateProcess(executable, args,\n",
      "                       ^^^^^^^^^^^^^^^^^^^^^^^^^^^^^^^^^^^^^^^\n"
     ]
    },
    {
     "data": {
      "image/png": "[encoded data removed]",
      "text/plain": [
       "<Figure size 800x600 with 1 Axes>"
      ]
     },
     "metadata": {},
     "output_type": "display_data"
    }
   ],
   "source": [
    "pca_2 = PCA(n_components=2)\n",
    "X_pca_2 = pca_2.fit_transform(X_scaled)\n",
    "\n",
    "\n",
    "kmeans = KMeans(n_clusters=3, random_state=42)\n",
    "clusters = kmeans.fit_predict(X_pca_2)\n",
    "\n",
    "\n",
    "cr['cluster'] = clusters\n",
    "\n",
    "\n",
    "plt.figure(figsize=(8, 6))\n",
    "sns.scatterplot(x=X_pca_2[:, 0], y=X_pca_2[:, 1], hue=cr['cluster'], palette='Set2')\n",
    "plt.xlabel('Principal Component 1')\n",
    "plt.ylabel('Principal Component 2')\n",
    "plt.title('Cluster Plot on First Two Principal Components')\n",
    "plt.grid(True)\n",
    "plt.show()"
   ]
  },
  {
   "cell_type": "markdown",
   "id": "89e80d51-69a4-4da3-b34a-970637d32097",
   "metadata": {
    "id": "89e80d51-69a4-4da3-b34a-970637d32097"
   },
   "source": [
    "> This is a visualization of the KMeans clustering with the first two principal components.\n",
    "> There can be seen three distinct clusters which have very distinct boundaries between them.\n",
    "> Cluster 0 which is green, is small when compared to the other two and has seemingly fewer outliers.\n",
    "> Cluster 1 which is orange is grouped very tightly for the most part.\n",
    "> Finally, cluster 2 which is purple is much larger than the other two and is more widespread.\n",
    "\n",
    "> **Overall**: <br>\n",
    "- This visualization suggests that there exist meaningful groupings within the credit risk data set."
   ]
  },
  {
   "cell_type": "markdown",
   "id": "b597f622-c241-483e-a274-7fd262d56e7b",
   "metadata": {
    "id": "b597f622-c241-483e-a274-7fd262d56e7b",
    "jp-MarkdownHeadingCollapsed": true
   },
   "source": [
    "## Multi-Layer Perceptron for Binary Classification"
   ]
  },
  {
   "cell_type": "markdown",
   "id": "63719e86-6945-414d-9685-0941f50e1f3b",
   "metadata": {
    "id": "63719e86-6945-414d-9685-0941f50e1f3b"
   },
   "source": [
    "A multi-layer perceptron (MLP) for binary classsification is a form of neural network that takes the role of a classifier deciding between two classes. In this case it is deciding essentially if an individual is risky to lend to or not. The method by which this model was built was by defining multiple user-defined funtions (UDFs) which were then combined into one final training loop. This next section will focus on going over the individual UDFs and how they combine into the final training loop, along with UDFs for performance calculation and predictions. This specific set of UDFs is ONLY for networks with two hidden layers.  "
   ]
  },
  {
   "cell_type": "markdown",
   "id": "77cd07ae-de54-4d65-a396-9fbd4e488730",
   "metadata": {
    "id": "77cd07ae-de54-4d65-a396-9fbd4e488730"
   },
   "source": [
    "### > `initialize_params`"
   ]
  },
  {
   "cell_type": "code",
   "execution_count": null,
   "id": "c2144111-d21c-4bfd-8dac-696a51f8688b",
   "metadata": {
    "id": "c2144111-d21c-4bfd-8dac-696a51f8688b"
   },
   "outputs": [],
   "source": [
    "def initialize_params(X, num_units_hidden_1, num_units_hidden_2, ): # He Initialization due to ReLU type activation.\n",
    "  scale1 = np.sqrt(2 / X.shape[1])\n",
    "  W1 = np.random.randn(X.shape[1], num_units_hidden_1) * scale1\n",
    "\n",
    "  scale2 = np.sqrt(2 / num_units_hidden_1)\n",
    "  W2 = np.random.randn(num_units_hidden_1, num_units_hidden_2) * scale2\n",
    "\n",
    "  scale3 = np.sqrt(2 / num_units_hidden_2)\n",
    "  W3 = np.random.randn(num_units_hidden_2, 1) * scale3\n",
    "\n",
    "  b1 = np.zeros((1, num_units_hidden_1))\n",
    "  b2 = np.zeros((1, num_units_hidden_2))\n",
    "  b3 = np.zeros((1,1))\n",
    "\n",
    "  params = {\n",
    "      'W1': W1,\n",
    "      'W2': W2,\n",
    "      'W3': W3,\n",
    "      'b1': b1,\n",
    "      'b2': b2,\n",
    "      'b3': b3\n",
    "  }\n",
    "\n",
    "  return params"
   ]
  },
  {
   "cell_type": "markdown",
   "id": "bca08ef2-6167-42f3-a798-069dc58e7a57",
   "metadata": {
    "id": "bca08ef2-6167-42f3-a798-069dc58e7a57"
   },
   "source": [
    "**Size of Parameter Matrices**<br>\n",
    "the initialize_params UDF takes a matrix `X` with shape (m,n) - where m = number of training examples, and n = number of features along with `num_units_hidden_1` and `num_units_hidden_2` which are integer values describing how many neurons are in each hidden layer. The purpose is to initialize weights and biases for the specific arcitecture needed, and determined by the inputs of the UDF.\n",
    "\n",
    "In our specific case X has 8 features, 64 neuarons in HL1, and 32 neurons in HL2. So the resulting shapes are as follows:\n",
    "\n",
    "    - W1 : (8,64)     - b1 : (1,64)\n",
    "    - W2 : (64,32)    - b2 : (1,32)\n",
    "    - W3 : (34,1)     - b3 : (1,1)\n",
    "\n",
    "**Weights - He Initialization**<br>\n",
    "The weights are random values from a standard normal distribution (np.random.randn()) and scaled using He Initialization which is an appropriate parameter initialization metod for ReLU type activation functions (Leaky ReLU in our case). The goal of using He Initialization is to avoid vanishing or exploding gradients which would lead to slowed/failed training.\n",
    "\n",
    ">  ### $scale_i = \\sqrt{\\frac{2}{n}}$\n",
    "> Where: n = number of features into layer i\n",
    "\n",
    "***Thus***, He Initialization here attempts to keep outputs stable across layers when using ReLU type activation functions by multiplying $Wi$ by $scale_i$.\n",
    "\n",
    "**Biases**<br>\n",
    "Biases are simply initialized to zeros\n",
    "\n",
    "**Packaging for Future Use**<br>\n",
    "The Weights and Biases are then packaged in a dictionary which is the output of the `initialize_params` UDF."
   ]
  },
  {
   "cell_type": "markdown",
   "id": "4636ce38-3dcb-41d6-8b40-c7e235c69ed0",
   "metadata": {
    "id": "4636ce38-3dcb-41d6-8b40-c7e235c69ed0"
   },
   "source": [
    "### > `sigmoid`, `leaky_relu`, and `forward_prop`"
   ]
  },
  {
   "cell_type": "code",
   "execution_count": null,
   "id": "d0f6c94a-4bc9-4fa6-99c3-ee0d6d69f6b1",
   "metadata": {
    "id": "d0f6c94a-4bc9-4fa6-99c3-ee0d6d69f6b1"
   },
   "outputs": [],
   "source": [
    "def sigmoid(X):\n",
    "  X = np.clip(X, -500, 500) # To prevent overflow\n",
    "  g = 1 / (1 + np.exp(-X))\n",
    "  return g\n",
    "\n",
    "def leaky_relu(X, alpha_rel):\n",
    "  return np.where(X > 0, X, alpha_rel * X)\n",
    "\n",
    "def forward_prop(X, params, alpha_rel): # With Leaky ReLU Activation (np.max(alpha*Z,Z))\n",
    "  W1 = params['W1']\n",
    "  W2 = params['W2']\n",
    "  W3 = params['W3']\n",
    "\n",
    "  b1 = params['b1']\n",
    "  b2 = params['b2']\n",
    "  b3 = params['b3']\n",
    "\n",
    "  # Hidden 1\n",
    "  Z1 = np.dot(X, W1) + b1\n",
    "  A1 = leaky_relu(Z1, alpha_rel)\n",
    "\n",
    "  # Hidden 2\n",
    "  Z2 = np.dot(A1, W2) + b2\n",
    "  A2 = leaky_relu(Z2, alpha_rel)\n",
    "\n",
    "  # Output\n",
    "  Z3 = np.dot(A2, W3) + b3\n",
    "  A3 = sigmoid(Z3)\n",
    "\n",
    "  cache = {\n",
    "      'Z1': Z1,\n",
    "      'A1': A1,\n",
    "      'Z2': Z2,\n",
    "      'A2': A2,\n",
    "      'Z3': Z3,\n",
    "      'A3': A3\n",
    "  }\n",
    "\n",
    "  return cache"
   ]
  },
  {
   "cell_type": "markdown",
   "id": "d7b5ef9a-1075-495e-be37-7cd76555bf1f",
   "metadata": {
    "id": "d7b5ef9a-1075-495e-be37-7cd76555bf1f"
   },
   "source": [
    "**Sigmoid**<br>\n",
    "* To be used in the forward_prop UDF in the output layer to transform pre-activation $Z^{[3]}$ into probabilites in post-activation $A^{[3]}$\n",
    "* Takes as inputs:\n",
    "    * `X`: The pre-activation values of the output layer in the MLP.\n",
    "$$ g(x) = \\frac{1}{1 + e^{-x}}$$\n",
    "\n",
    "> Returns the probability that the prediction is 1\n",
    "___\n",
    "**Leaky ReLU**<br>\n",
    "* The chosen activation function, which scales values that are less than 0 by a chosen **$\\alpha$**, to be used in the forward_prop UDF.\n",
    "* Takes as inputs:\n",
    "    * `X`: The pre-activations of the given layer\n",
    "    * `alpha_rel`: Chosen value for $\\alpha$\n",
    "$$\n",
    "\\text{LeakyReLU}(x) =\n",
    "\\begin{cases}\n",
    "x, & \\text{if } x \\geq 0 \\\\\n",
    "\\alpha x, & \\text{if } x < 0\n",
    "\\end{cases}\n",
    "$$\n",
    "___\n",
    "**Forward Propagation**<br>\n",
    "* The full forward pass function for the 2 hidden layer MLP.\n",
    "* Takes as inputs:\n",
    "    * `X`: Input data of size m x n\n",
    "    * `params`: Dictionary of parameters originally obtained from `initialize_params`\n",
    "    * `alpha_rel`: Chosen value for $\\alpha$ in Leaky ReLU\n",
    "* Loads in the parameters from `params` and calculates the pre-/post-activations for each layer using Leaky ReLU to find post activations until the output layer while the UDF for sigmoid is used to calculate the probabilized output.\n",
    "\n",
    "> A Look at the forward pass<br>\n",
    "$Z_1 = X \\cdot W_1 + b_1  \\rightarrow\\rightarrow\\rightarrow A_1 = \\text{LeakyReLU}(Z_1)$<br>\n",
    "$Z_2 = A_1 \\cdot W_2 + b_2  \\rightarrow\\rightarrow\\rightarrow A_2 = \\text{LeakyReLU}(Z_2)$<br>\n",
    "$Z_3 = A_2 \\cdot W_3 + b_3  \\rightarrow\\rightarrow\\rightarrow A_3 = \\text{Sigmoid}(Z_3) = \\hat{y}$\n",
    "\n",
    "* Finally, all of the intermediates are stored in a dictionary labeled `cache` which is returned by the UDF."
   ]
  },
  {
   "cell_type": "markdown",
   "id": "f92b4220-ba83-4dc6-a6f0-545b7353a4ac",
   "metadata": {
    "id": "f92b4220-ba83-4dc6-a6f0-545b7353a4ac"
   },
   "source": [
    "### `binary_cross_entropy`"
   ]
  },
  {
   "cell_type": "code",
   "execution_count": null,
   "id": "70579e05-94e2-4d60-92ba-15ca6a6934a6",
   "metadata": {
    "id": "70579e05-94e2-4d60-92ba-15ca6a6934a6"
   },
   "outputs": [],
   "source": [
    "def binary_cross_entropy(y, cache):\n",
    "  m,n = y.shape\n",
    "  epsilon = 1e-12  # To avoid log(0)\n",
    "  y_hat = np.clip(cache['A3'], epsilon, 1 - epsilon) # To avoid log(0) errors\n",
    "  bce = -((y*np.log(y_hat)) + ((1-y)*np.log(1-y_hat)))\n",
    "  cost = np.sum(bce) / m\n",
    "\n",
    "  return cost"
   ]
  },
  {
   "cell_type": "markdown",
   "id": "30210621-b051-4ba5-9ed0-c846d935b269",
   "metadata": {
    "id": "30210621-b051-4ba5-9ed0-c846d935b269"
   },
   "source": [
    "Used to calculate the cost function $\\mathcal{J}(W,b)$ which is the loss function $\\mathcal{L}(y,\\hat{y})$ averaged over all training examples $m$.\n",
    "* Takes as inputs:\n",
    "    * `y`: The true label data stored in an m x 1 matrix\n",
    "    * `cache`: Results of `forward_prop` UDF storing intermediates and probabilities in a dictionary\n",
    "\n",
    "* $\\epsilon$ is defined to be used in the np.clip() of the probabilites $A_3$, so as to avoid $\\log{(0)}$ errors.\n",
    "* Binary cross entropy is then calculated...\n",
    "    * $\\mathcal{L} = -\\left( y \\log(\\hat{y}) + (1 - y) \\log(1 - \\hat{y}) \\right)$\n",
    "* Then averaged over $m$ training examples\n",
    "    * $J = \\frac{1}{m} \\sum_{i=1}^{m} \\mathcal{L}^{(i)}$\n",
    "* Cost is then returned by the UDF."
   ]
  },
  {
   "cell_type": "markdown",
   "id": "e7b8bd23-3357-4c7d-8149-e800d0c62389",
   "metadata": {
    "id": "e7b8bd23-3357-4c7d-8149-e800d0c62389"
   },
   "source": [
    "### `leaky_relu_dv`, `back_prop`, and `update_params`"
   ]
  },
  {
   "cell_type": "code",
   "execution_count": null,
   "id": "57437449-e247-4ea4-985d-89bc21b69d86",
   "metadata": {
    "id": "57437449-e247-4ea4-985d-89bc21b69d86"
   },
   "outputs": [],
   "source": [
    "def leaky_relu_dv(X, alpha_rel):\n",
    "  return np.where(X > 0, 1, alpha_rel)\n",
    "\n",
    "def back_prop(X, y, params, cache, alpha_rel):\n",
    "  W1 = params['W1']\n",
    "  W2 = params['W2']\n",
    "  W3 = params['W3']\n",
    "  b1 = params['b1']\n",
    "  b2 = params['b2']\n",
    "  b3 = params['b3']\n",
    "  Z1 = cache['Z1']\n",
    "  Z2 = cache['Z2']\n",
    "  Z3 = cache['Z3']\n",
    "  A1 = cache['A1']\n",
    "  A2 = cache['A2']\n",
    "  A3 = cache['A3']\n",
    "\n",
    "  m,n = X.shape\n",
    "\n",
    "  # Output\n",
    "  dZ3 = A3 - y\n",
    "  dW3 = np.dot(A2.T, dZ3) /m\n",
    "  db3 = np.sum(dZ3, axis = 0, keepdims = True) /m\n",
    "\n",
    "  # Hidden 2\n",
    "  dA2 = np.dot(dZ3, W3.T)\n",
    "  dZ2 = dA2 * leaky_relu_dv(Z2, alpha_rel)\n",
    "  dW2 = np.dot(A1.T, dZ2) /m\n",
    "  db2 = np.sum(dZ2, axis = 0, keepdims = True) /m\n",
    "\n",
    "  # Hidden 1\n",
    "  dA1 = np.dot(dZ2, W2.T)\n",
    "  dZ1 = dA1 * leaky_relu_dv(Z1, alpha_rel)\n",
    "  dW1 = np.dot(X.T, dZ1) /m\n",
    "  db1 = np.sum(dZ1, axis = 0, keepdims = True) /m\n",
    "\n",
    "  gradients = {\n",
    "      'dW3': dW3,\n",
    "      'dW2': dW2,\n",
    "      'dW1': dW1,\n",
    "      'db3': db3,\n",
    "      'db2': db2,\n",
    "      'db1': db1\n",
    "  }\n",
    "\n",
    "  return gradients\n",
    "\n",
    "def update_params(params, gradients, alpha, clip, clip_value):\n",
    "\n",
    "  if clip == True:\n",
    "    gradients['dW1'] = np.clip(gradients['dW1'], -clip_value, clip_value) # Gradient clipping to avoid exploding gradients\n",
    "    gradients['dW2'] = np.clip(gradients['dW2'], -clip_value, clip_value)\n",
    "    gradients['dW3'] = np.clip(gradients['dW3'], -clip_value, clip_value)\n",
    "    gradients['db1'] = np.clip(gradients['db1'], -clip_value, clip_value)\n",
    "    gradients['db2'] = np.clip(gradients['db2'], -clip_value, clip_value)\n",
    "    gradients['db3'] = np.clip(gradients['db3'], -clip_value, clip_value)\n",
    "\n",
    "\n",
    "  params['W1'] -= gradients['dW1'] * alpha\n",
    "  params['W2'] -= gradients['dW2'] * alpha\n",
    "  params['W3'] -= gradients['dW3'] * alpha\n",
    "\n",
    "  params['b1'] -= gradients['db1'] * alpha\n",
    "  params['b2'] -= gradients['db2'] * alpha\n",
    "  params['b3'] -= gradients['db3'] * alpha\n",
    "\n",
    "\n",
    "\n",
    "  return params"
   ]
  },
  {
   "cell_type": "markdown",
   "id": "28c4fef8-ceed-4b4e-b620-a410560e81a4",
   "metadata": {
    "id": "28c4fef8-ceed-4b4e-b620-a410560e81a4"
   },
   "source": [
    "**Gradient, Leaky ReLU**<br>\n",
    "* To be used in the back_prop UDF to calculate the derivative of the Leaky ReLU activation function w.r.t its input.\n",
    "* Takes as inputs:\n",
    "    * `X`: Again, the pre-activation value of the layer\n",
    "    * `alpha_rel`: The chosen $\\alpha$ for Leaky ReLU\n",
    "\n",
    "$$\n",
    "\\text{LeakyReLU}'(x) =\n",
    "\\begin{cases}\n",
    "1, & \\text{if } x \\geq 0 \\\\\n",
    "\\alpha, & \\text{if } x < 0\n",
    "\\end{cases}\n",
    "$$\n",
    "____\n",
    "**Backpropagation**<br>\n",
    "* Calculates the gradients of $\\mathcal{J}(W,b)$ w.r.t. the Weights and biases to be used in updating the parameters.\n",
    "* Takes as inputs:\n",
    "    * `X`: Input data of size m x n\n",
    "    * `y`: True label data\n",
    "    * `params`:  Dictionary of parameters\n",
    "    * `cache`: Dictionary of intermediates and output\n",
    "    * `alpha_rel`: Chosen $\\alpha$ for Leaky ReLU\n",
    "* Loads in parameters from `params` and intermediates/output from `cache` and uses them to perform backpropagation to find the gradients.\n",
    "\n",
    "> ***A look at the backpropagation***<br>\n",
    "> _________________________________________________________________________________________________________________________________<br>\n",
    "**Output Layer** -\n",
    "$$\n",
    "\\frac{\\partial\\mathcal{J}}{\\partial{Z_3}} = A_3 - y\n",
    "$$\n",
    "$$\n",
    "\\frac{\\partial\\mathcal{J}}{\\partial{W_3}} =  \\frac{A_2^\\top \\cdot \\frac{\\partial\\mathcal{J}}{\\partial{Z_3}}}{m}\n",
    "$$\n",
    "$$\n",
    "\\frac{\\partial\\mathcal{J}}{\\partial{b_3}} =  \\frac{\\sum_{i=1}^{m}\\frac{\\partial\\mathcal{J}}{\\partial{Z_3^{(i)}}}}{m}\n",
    "$$\n",
    "**HL2** -\n",
    "$$\n",
    "\\frac{\\partial\\mathcal{J}}{\\partial{A_2}} =  \\frac{\\partial\\mathcal{J}}{\\partial{Z_3}}  \\cdot W_3^\\top\n",
    "$$\n",
    "$$\n",
    "\\frac{\\partial\\mathcal{J}}{\\partial{Z_2}} =  \\frac{\\partial\\mathcal{J}}{\\partial{A_2}} \\cdot LeakyReLU'(Z_2)\n",
    "$$\n",
    "$$\n",
    "\\frac{\\partial\\mathcal{J}}{\\partial{W_2}} =  \\frac{A_1^\\top \\cdot \\frac{\\partial\\mathcal{J}}{\\partial{Z_2}}}{m}\n",
    "$$\n",
    "$$\n",
    "\\frac{\\partial\\mathcal{J}}{\\partial{b_2}} =  \\frac{\\sum_{i=1}^{m}\\frac{\\partial\\mathcal{J}}{\\partial{Z_2^{(i)}}}}{m}\n",
    "$$\n",
    "**HL1** -\n",
    "$$\n",
    "\\frac{\\partial\\mathcal{J}}{\\partial{A_1}} =  \\frac{\\partial\\mathcal{J}}{\\partial{Z_2}}  \\cdot W_2^\\top\n",
    "$$\n",
    "$$\n",
    "\\frac{\\partial\\mathcal{J}}{\\partial{Z_1}} =  \\frac{\\partial\\mathcal{J}}{\\partial{A_1}} \\cdot LeakyReLU'(Z_1)\n",
    "$$\n",
    "$$\n",
    "\\frac{\\partial\\mathcal{J}}{\\partial{W_1}} =  \\frac{X^\\top \\cdot \\frac{\\partial\\mathcal{J}}{\\partial{Z_1}}}{m}\n",
    "$$\n",
    "$$\n",
    "\\frac{\\partial\\mathcal{J}}{\\partial{b_1}} =  \\frac{\\sum_{i=1}^{m}\\frac{\\partial\\mathcal{J}}{\\partial{Z_1^{(i)}}}}{m}\n",
    "$$\n",
    "> _________________________________________________________________________________________________________________________________<br>\n",
    "* Gradients are then stored in a dictionary `gradients` which is returned for future use\n",
    "____\n",
    "**Updating Parameters**<br>\n",
    "- Updates the parameters using gradients calculated with back_prop UDF, and provides the option to clip the gradients if needed.\n",
    "- Takes as inputs:\n",
    "    -  `params`: Dictionary with the parameters\n",
    "    -  `gradients`: Dictionary with gradients from the back_prop UDF\n",
    "    -  `alpha`: Chosen learning rate $\\alpha$\n",
    "    -  `clip`: True or False, if `clip ==True` the UDF will clip the gradients\n",
    "    -  `clip_value`: If `clip == True` the gradients will be clipped by the value of `clip_value`\n",
    "\n",
    "> Basic formula:\n",
    "$$\n",
    "P_{new} = P_{old} - \\alpha \\frac{\\partial \\mathcal{J}}{\\partial P_i}\n",
    "$$\n",
    "\n",
    "- The parameters in the `params` dictionary are updated with these new adjusted parameters which is what the UDF returns."
   ]
  },
  {
   "cell_type": "markdown",
   "id": "ed2f6759-f65c-4ba0-84ce-f09bda5c964d",
   "metadata": {
    "id": "ed2f6759-f65c-4ba0-84ce-f09bda5c964d"
   },
   "source": [
    "### `training_loop`"
   ]
  },
  {
   "cell_type": "code",
   "execution_count": null,
   "id": "59a00009-8d6d-4e21-a981-bb6add472b46",
   "metadata": {
    "id": "59a00009-8d6d-4e21-a981-bb6add472b46"
   },
   "outputs": [],
   "source": [
    "def training_loop(X, y, alpha, alpha_rel, epochs, clip, clip_value, num_units_hidden_1, num_units_hidden_2):\n",
    "  cost_hist = []\n",
    "  iter_hist = []\n",
    "  dw3_hist = []\n",
    "  dw2_hist = []\n",
    "  dw1_hist = []\n",
    "  db3_hist = []\n",
    "  db2_hist = []\n",
    "  db1_hist = []\n",
    "  params = initialize_params(X, num_units_hidden_1, num_units_hidden_2)\n",
    "\n",
    "  for i in range(epochs):\n",
    "    iter_hist.append(i)\n",
    "    cache = forward_prop(X, params, alpha_rel)\n",
    "    cost = binary_cross_entropy(y, cache)\n",
    "    cost_hist.append(cost)\n",
    "    gradients = back_prop(X, y, params, cache, alpha_rel)\n",
    "    params = update_params(params, gradients, alpha, clip, clip_value)\n",
    "\n",
    "    dw3_hist.append(gradients['dW3'])\n",
    "    dw2_hist.append(gradients['dW2'])\n",
    "    dw1_hist.append(gradients['dW1'])\n",
    "    db3_hist.append(gradients['db3'])\n",
    "    db2_hist.append(gradients['db2'])\n",
    "    db1_hist.append(gradients['db1'])\n",
    "\n",
    "    if i % 50 == 0:\n",
    "      print(f'Epoch: {i}/{epochs} --- --- --- Cost: {cost}')\n",
    "      print('Max dW3:', float(np.max(np.abs(gradients['dW3']))))\n",
    "      print('Mean A2 > 0:', np.mean(cache['A2'] > 0))\n",
    "      print('----------------------------------------------')\n",
    "\n",
    "  gradient_history = {\n",
    "      'dW3': dw3_hist,\n",
    "      'dW2': dw2_hist,\n",
    "      'dW1': dw1_hist,\n",
    "      'db3': db3_hist,\n",
    "      'db2': db2_hist,\n",
    "      'db1': db1_hist,\n",
    "  }\n",
    "\n",
    "  return cost_hist, iter_hist, params, cache, gradients, gradient_history # Returns raw sigmoid output in cache['A3']"
   ]
  },
  {
   "cell_type": "markdown",
   "id": "a36b1e18-353b-4b0d-b241-51553b174414",
   "metadata": {
    "id": "a36b1e18-353b-4b0d-b241-51553b174414"
   },
   "source": [
    "- #### **Full training loop for the MLP.**\n",
    "**Performs the forward pass, computes loss/cost, finds the gradients with backpropagation and updates the parameters for a set number of epochs/iterations**\n",
    "\n",
    "- Takes as inputs:\n",
    "    - `X`: Training data\n",
    "    - `y`: Label data\n",
    "    - `alpha`: Learning rate\n",
    "    - `alpha_rel`: Alpha for LeakyReLU\n",
    "    - `epochs`: number of epochs/iterations to run for\n",
    "    - `clip`: Decide whether or not to clip\n",
    "    - `clip_value`: Clip by this much\n",
    "    - `num_units_hidden_1`: Number of units in hidden layer 1\n",
    "    - `num_units_hidden_2`: number of units in hidden layer 2\n",
    "\n",
    "* ***General Process***<br>\n",
    "  - Sets up empty lists to track metrics and gradients<br>\n",
    "    - Parameters are initialized using `initialize_params`<br>\n",
    "    - For range of epochs:\n",
    "        - Perform forward pass with `forward_prop`\n",
    "        - Use results from forward_prop to calculate cost using `binary_cross_entropy`\n",
    "        - Gradients are calculated using `back_prop`\n",
    "        - Parameters are updated using gradients and learning rate $\\alpha$ using `update_params`\n",
    "\n",
    "* Returns:\n",
    "    - Cost History\n",
    "    - Iterations\n",
    "    - Parameter Dictionary\n",
    "    - Cache Dictionary\n",
    "    - Gradient Dictionary\n",
    "    - Gradient History Dictionary"
   ]
  },
  {
   "cell_type": "markdown",
   "id": "dcc38312-c08f-419c-b4c9-13e4562e8ff3",
   "metadata": {
    "id": "dcc38312-c08f-419c-b4c9-13e4562e8ff3"
   },
   "source": [
    "### `predict`, `metrics_compute`, and `to_binary`"
   ]
  },
  {
   "cell_type": "code",
   "execution_count": null,
   "id": "b9ffb1a8-fda8-4b05-a8b7-69c063dca712",
   "metadata": {
    "id": "b9ffb1a8-fda8-4b05-a8b7-69c063dca712"
   },
   "outputs": [],
   "source": [
    "def to_binary(y, threshold):\n",
    "  return (y > threshold).astype(int)\n",
    "\n",
    "def predict(X, params, threshold, alpha_rel):\n",
    "  cache = forward_prop(X, params, alpha_rel)\n",
    "  y_pred = cache['A3']\n",
    "  y_pred_bin = to_binary(y_pred, threshold)\n",
    "  return y_pred, y_pred_bin\n",
    "\n",
    "def metrics_compute(y_hat, y):\n",
    "  TP = np.sum((y == 1) & (y_hat == 1))\n",
    "  FP = np.sum((y == 0) & (y_hat == 1))\n",
    "  FN = np.sum((y == 1) & (y_hat == 0))\n",
    "  TN = np.sum((y == 0) & (y_hat == 0))\n",
    "\n",
    "\n",
    "  print('+------ Confusion Matrix ------+')\n",
    "  print(f'   {TN}                {FP} ')\n",
    "  print('|------------------------------|')\n",
    "  print(f'   {FN}                {TP}')\n",
    "  print('+------------------------------+')\n",
    "\n",
    "  accuracy = (TP + TN) / (TP + TN + FP + FN)\n",
    "  precision = TP / (TP + FP)\n",
    "  recall = TP / (TP + FN)\n",
    "  f1 = (2 * precision * recall) / (precision + recall)\n",
    "\n",
    "  metrics = {\n",
    "      'TP': TP,\n",
    "      'TN': TN,\n",
    "      'FP': FP,\n",
    "      'FN': FN,\n",
    "      'accuracy': accuracy,\n",
    "      'precision': precision,\n",
    "      'recall': recall,\n",
    "      'f1': f1\n",
    "  }\n",
    "\n",
    "\n",
    "  print(f'Accuracy: {accuracy}\\nPrecision: {precision}\\nRecall: {recall}\\nf1-score: {f1}')\n",
    "\n",
    "  return metrics"
   ]
  },
  {
   "cell_type": "markdown",
   "id": "c43e7288-e3ca-4b6e-92d2-312ca00a13c5",
   "metadata": {
    "id": "c43e7288-e3ca-4b6e-92d2-312ca00a13c5"
   },
   "source": [
    "**Binary**<br>\n",
    "- UDF simply takes the input and sets it to 1 if greater than threshold, or to 0 if less than threshold\n",
    "\n",
    "**Predict**<br>\n",
    "- This UDF performs a forward pass with forward_prop and returns the probabilities and binarized output.\n",
    "\n",
    "**Metrics**<br>\n",
    "- Calculates many of the metrics necessary to assess a binary classifier.\n",
    "- Calculates metrics and prints out a confusion matrix\n",
    "- Calculates accuracy, precision, recall, and f1-score which is also printed\n",
    "- It returns a dictionary with all of these metrics stored"
   ]
  },
  {
   "cell_type": "markdown",
   "id": "0642332d-1215-4ee3-aa6a-f1f9475ea1eb",
   "metadata": {
    "id": "0642332d-1215-4ee3-aa6a-f1f9475ea1eb"
   },
   "source": [
    "### **Results**\n",
    "___"
   ]
  },
  {
   "cell_type": "markdown",
   "id": "694aeb93-72da-49b6-8ae4-1ef62a1d0632",
   "metadata": {
    "id": "694aeb93-72da-49b6-8ae4-1ef62a1d0632"
   },
   "source": [
    "> Below is the confusion matrix for our MLP with a chosen threshold of 0.2, looking into the future it would be beneficial to better tune a proper threshold"
   ]
  },
  {
   "cell_type": "markdown",
   "id": "fabd4284-dc43-495f-b187-e12df7ecdf85",
   "metadata": {
    "id": "fabd4284-dc43-495f-b187-e12df7ecdf85"
   },
   "source": [
    "<div align='center'>\n",
    "<pre>\n",
    "+------ Confusion Matrix ------+\n",
    "   460                1622\n",
    "|------------------------------|\n",
    "   194                1903\n",
    "+------------------------------+\n",
    "Accuracy: 0.5654462790141183\n",
    "Precision: 0.5398581560283688\n",
    "Recall: 0.9074868860276586\n",
    "f1-score: 0.6769832799715404\n",
    "</pre>\n",
    "</div>"
   ]
  },
  {
   "cell_type": "markdown",
   "id": "b69e4f19-77d2-408d-84a1-70b101f8254a",
   "metadata": {
    "id": "b69e4f19-77d2-408d-84a1-70b101f8254a"
   },
   "source": [
    "- It can be seen that accuracy and precision measures are very poor and not much better than random chance.\n",
    "- Recall on the other hand is too high at ~90.7%\n",
    "- The f1-score is okay at ~67.7%\n",
    "\n",
    "***What this means:<br>***\n",
    "- The model performs too far one way, it shows too much affinity for predicting that someone will be a risky borrower\n",
    "- This is beneficial if the goal here is to avoid risk at all costs, but in most cases this would be considered poor performance because as much as risk is good to avoid, too many unrisky borrowers were deemed risky.\n",
    "\n",
    "***What could be done better?<br>***\n",
    "- There could be more time spent exploring different architectures such as different numbers of neurons per layer, more or less hidden layers, threshold optimization, different activation functions, and better tuning of hyperparameters such as the learning rate and epochs.<br>\n",
    "- Doing these things could lead to a very good model that is proficient in predicting credit risk"
   ]
  },
  {
   "cell_type": "markdown",
   "id": "7b031ca4-cac3-4212-9eb5-bd6fa14a5096",
   "metadata": {
    "id": "7b031ca4-cac3-4212-9eb5-bd6fa14a5096"
   },
   "source": [
    "# Business/Real-World Applications"
   ]
  },
  {
   "cell_type": "markdown",
   "id": "328b12d3-199d-4177-bc21-eb2f79983ee0",
   "metadata": {
    "id": "328b12d3-199d-4177-bc21-eb2f79983ee0"
   },
   "source": [
    "Applications of these models could vary widely and be of great importance in a number of fields. Specifically in terms of credit risk, lenders such as banks could better evaluate whether or not a potential borrower is likely to pay them back or not. It could also be useful in finding out which financial characteristics are most important in deciding if someone is risky to lend to or not. Perhaps it could be applicable to areas such as car sales (or any other sale of a high value item). In these areas a seller who may offer financing could run a potential buyer's characteristics through a model like these and decide whether or not they'd like to allow financing. The applications of models such as these is not solely in the area of business, applications can exist anywhere where it's useful to be able to predict between two classes, or, in the case of regularized logistic regression, where it is useful to find how much of an effect a variable has on the target variable. The use cases for these types of models are endless.  "
   ]
  },
  {
   "cell_type": "markdown",
   "id": "f93b5e59-1c60-46a7-b997-7ab5df74bd73",
   "metadata": {
    "id": "f93b5e59-1c60-46a7-b997-7ab5df74bd73"
   },
   "source": [
    "# Conclusion"
   ]
  },
  {
   "cell_type": "markdown",
   "id": "X2orxgK7k9kG",
   "metadata": {
    "id": "X2orxgK7k9kG"
   },
   "source": [
    "Four different machine learning models were used in attempt to accurately predict if a borrower would end up committing a serious financial delinquency witin two years. Although these models are not entirely accurate, they still were able to provide meaningful insights, such as the variables with the most influence on our target variable, as well as predicting deliquent borrowers. However, these predictions were not accurate when it came to predicting good borrowers. If given more time, improvements could be made by hypertuning certain parameters in the models, or addressing the outliers in the `late_*` variables differenly, like filtering out the outliers and keeping the indiviudal variables instead of summing them up.  "
   ]
  },
  {
   "cell_type": "markdown",
   "id": "3b51437e-8f04-4b02-9357-beb80f14f6e8",
   "metadata": {
    "id": "3b51437e-8f04-4b02-9357-beb80f14f6e8"
   },
   "source": [
    "# ***References***\n",
    "adilshamim8. (n.d.). Credit Risk Benchmark Dataset [Data set]. Kaggle.<br>https://www.kaggle.com/datasets/adilshamim8/credit-risk-benchmark-dataset"
   ]
  }
 ],
 "metadata": {
  "colab": {
   "provenance": []
  },
  "kernelspec": {
   "display_name": "Python 3 (ipykernel)",
   "language": "python",
   "name": "python3"
  },
  "language_info": {
   "codemirror_mode": {
    "name": "ipython",
    "version": 3
   },
   "file_extension": ".py",
   "mimetype": "text/x-python",
   "name": "python",
   "nbconvert_exporter": "python",
   "pygments_lexer": "ipython3",
   "version": "3.12.7"
  }
 },
 "nbformat": 4,
 "nbformat_minor": 5
}
