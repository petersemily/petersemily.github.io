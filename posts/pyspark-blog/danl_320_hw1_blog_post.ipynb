{
  "nbformat": 4,
  "nbformat_minor": 0,
  "metadata": {
    "colab": {
      "provenance": []
    },
    "kernelspec": {
      "name": "python3",
      "display_name": "Python 3"
    },
    "language_info": {
      "name": "python"
    }
  },
  "cells": [
    {
      "cell_type": "markdown",
      "source": [
        "---\n",
        "title: PySpark Basics\n",
        "author: Emily Peters\n",
        "date: 2025-02-17\n",
        "categories: [Python, Big Data, Spark]\n",
        "---![pyspark-image.png](data:image/png;base64,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)"
      ],
      "metadata": {
        "id": "8UWug3cqBcmI"
      }
    },
    {
      "cell_type": "markdown",
      "source": [
        "# Apache Hadoop\n",
        "Hadoop provides storage and ways to easily process big data sets. Storage is managed by the Hadoop Distributed File System (HDFS), and the data is processed using MapReduce. <br>\n",
        "- HDFS divides up data from multiple sources and distributes them across different servers to be processed.The computing environment is redundant, allowing the application to run if a server fails. <br>\n",
        "- MapReduce distributes data across multiple machines and the brings the processed data back together so it's coherent.\n",
        "\n",
        "Hadoop has its limits, however. Data cannot be processed in real time. It can only collect data for a certain period of time and then process it all at once. This process is called batch processing.\n",
        "\n",
        "# Apache Spark\n",
        "Spark is built for processing large amounts of data, as well as data analysis, machine learning, data visualization, and streaming real-time data. <br>\n",
        "Spark starts with the driver node, which communicates to the cluser manager. The cluser manager to distributes tasks to different worker nodes. Worker nodes execute the task they were given, communicate with each other if needed, and send the results back to the driver node.<br>\n",
        "Here are some other attribuutes of Spark:<br>\n",
        "1. In-Memory Processing <br>\n",
        "  - Loads data into memory once and performs all operations in-memory <br>\n",
        "2. Data Reuse <br>\n",
        "  - Data is cached so that it can be reused <br>\n",
        "3. Faster Execution <br>\n",
        "  - Allows for real-time processing <br>\n",
        "  \n",
        "Hadoop and Spark can be used together to store big data sets and quickly process data.\n",
        "\n",
        "# PySpark\n",
        "PySpark is an API that allows the use of Spark in Python.<br>\n",
        "- PySpark can incorporate Pandas DataFrames and SQL tables.\n",
        "\n",
        "PySpark has methods that make data transformation easy to complete, similar to Pandas. A Spark DataFrame has a few key differences:<br>\n",
        "1. Data is distributed among different machines <br>\n",
        "2. Operations are executed the same in each node <br>\n",
        "3. Can process more data than one machine can handle <br>\n",
        "4. Transformations are not computed until called to action (lazy evaluation) <br>\n",
        "5. High fault tolerance; can function if a node is disabled and recovers lost data <br>\n",
        "6. Built for extremely large amounts of data\n",
        "\n",
        "## PySpark in Google Colab\n",
        "PySpark is very similar to Pandas. It is very convenient to transform data just like we learned before, just with a slightly different syntax.<br>\n",
        "Here are the basics of coding with PySpark: <br>\n",
        "\n",
        "### Loading Data <br>\n",
        "Every time you use PySpark, you must establish a `SparkSession` entry point. This allows you to transform DataFrames and SQL tables."
      ],
      "metadata": {
        "id": "RH_d9iP-B85O"
      }
    },
    {
      "cell_type": "code",
      "source": [
        "import pyspark\n",
        "from pyspark.sql import SparkSession\n",
        "spark = SparkSession.builder.master(\"local[*]\").getOrCreate()"
      ],
      "metadata": {
        "id": "CBBwx76ABtPn"
      },
      "execution_count": 1,
      "outputs": []
    },
    {
      "cell_type": "markdown",
      "source": [
        "There are two ways to approach reading a CSV file. First, if the file is in your local directory, follow this syntax that is similar to Pandas:"
      ],
      "metadata": {
        "id": "KkIyEDrXCRUj"
      }
    },
    {
      "cell_type": "code",
      "source": [
        "path = '/content/drive/MyDrive/lecture-data/cces.csv'\n",
        "df = spark.read.csv(path,\n",
        "                    inferSchema=True,\n",
        "                    header=True)\n",
        "df.show()"
      ],
      "metadata": {
        "id": "EXG3Wj3FCYdt"
      },
      "execution_count": null,
      "outputs": []
    },
    {
      "cell_type": "markdown",
      "source": [
        "- Note: in order to see any display of a DataFrame at any point while you're working with it, you must use `.show()`. <br>\n",
        "\n",
        "Second, if the file is from a URL, you have to create a Pandas DataFrame first. From there, you can convert the Pandas DataFrame into a Spark DataFrame."
      ],
      "metadata": {
        "id": "I-T-wC-3CfQi"
      }
    },
    {
      "cell_type": "code",
      "source": [
        "import pandas as pd\n",
        "df_pd = pd.read_csv('https://bcdanl.github.io/data/nba.csv')\n",
        "\n",
        "df = spark.createDataFrame(df_pd)\n",
        "df.show()"
      ],
      "metadata": {
        "colab": {
          "base_uri": "https://localhost:8080/"
        },
        "id": "4sxKPbLrCjhr",
        "outputId": "1d28c20d-e782-49c5-9dee-8590df4a6021"
      },
      "execution_count": 56,
      "outputs": [
        {
          "output_type": "stream",
          "name": "stdout",
          "text": [
            "+---------------+--------------------+--------+--------+--------+\n",
            "|           Name|                Team|Position|Birthday|  Salary|\n",
            "+---------------+--------------------+--------+--------+--------+\n",
            "|   Shake Milton|  Philadelphia 76ers|      SG| 9/26/96| 1445697|\n",
            "| Christian Wood|     Detroit Pistons|      PF| 9/27/95| 1645357|\n",
            "|  PJ Washington|   Charlotte Hornets|      PF| 8/23/98| 3831840|\n",
            "|   Derrick Rose|     Detroit Pistons|      PG| 10/4/88| 7317074|\n",
            "|  Marial Shayok|  Philadelphia 76ers|       G| 7/26/95|   79568|\n",
            "| Draymond Green|Golden State Warr...|      PF|  3/4/90|18539130|\n",
            "|  Kendrick Nunn|          Miami Heat|      SG|  8/3/95| 1416852|\n",
            "|     Cedi Osman| Cleveland Cavaliers|      SF|  4/8/95| 2907143|\n",
            "|    Brook Lopez|     Milwaukee Bucks|       C|  4/1/88|12093024|\n",
            "|   Torrey Craig|      Denver Nuggets|      SF|12/19/90| 2000000|\n",
            "|Jordan Clarkson| Cleveland Cavaliers|      PG|  6/7/92|13437500|\n",
            "|    Alex Caruso|  Los Angeles Lakers|      PG| 2/28/94| 2750000|\n",
            "|   Norvel Pelle|  Philadelphia 76ers|      FC|  2/3/93|   79568|\n",
            "|  Tyler Johnson|        Phoenix Suns|      PG|  5/7/92|19245370|\n",
            "|     Alec Burks|Golden State Warr...|      SG| 7/20/91| 2320044|\n",
            "| JaMychal Green|Los Angeles Clippers|      PF| 6/21/90| 4767000|\n",
            "|  Dwight Howard|  Los Angeles Lakers|       C| 12/8/85| 5603850|\n",
            "|   Nikola Jokic|      Denver Nuggets|       C| 2/19/95|27504630|\n",
            "|  Chris Boucher|     Toronto Raptors|      PF| 1/11/93| 1588231|\n",
            "|  Marcus Morris|     New York Knicks|      PF|  9/2/89|15000000|\n",
            "+---------------+--------------------+--------+--------+--------+\n",
            "only showing top 20 rows\n",
            "\n"
          ]
        }
      ]
    },
    {
      "cell_type": "markdown",
      "source": [
        "### Summarizing Data <br>\n",
        "- `df.printSchema()` prints column names and data types <br>\n",
        "  - the argument, nullable = True allows columns with a null value to print\n",
        "- `df.columns` prints list of columns <br>\n",
        "- `df.dtypes` returns a list of tuples containing the column name and data type <br>\n",
        "- `df.count()` prints the total number of rows <br>\n",
        "- `df.describe()` prints summary statistics for each column <br>\n",
        "\n",
        "### Displaying Data <br>\n",
        "- `df.show()`: default shows the first 20 rows <br>\n",
        "  - arguments: <br>\n",
        "  1. n = : number of rows to display <br>\n",
        "  2. truncate = : either boolean value, or a number specifying how many characters to keep <br>\n",
        "  3. vertical = : boolean value; if True, each row is displayed vertically <br>\n",
        "\n",
        "### Selecting Columns <br>\n",
        "Selecting one column:"
      ],
      "metadata": {
        "id": "xnODaIe2C05T"
      }
    },
    {
      "cell_type": "code",
      "source": [
        "df.select(\"Name\").show(5)"
      ],
      "metadata": {
        "colab": {
          "base_uri": "https://localhost:8080/"
        },
        "id": "395N4GVMC4vZ",
        "outputId": "2b073acf-27fc-40c1-b48d-33e6a599d5b9"
      },
      "execution_count": 6,
      "outputs": [
        {
          "output_type": "stream",
          "name": "stdout",
          "text": [
            "+--------------+\n",
            "|          Name|\n",
            "+--------------+\n",
            "|  Shake Milton|\n",
            "|Christian Wood|\n",
            "| PJ Washington|\n",
            "|  Derrick Rose|\n",
            "| Marial Shayok|\n",
            "+--------------+\n",
            "only showing top 5 rows\n",
            "\n"
          ]
        }
      ]
    },
    {
      "cell_type": "markdown",
      "source": [
        "Selecting multiple columns:"
      ],
      "metadata": {
        "id": "kYWcwaZmDBwp"
      }
    },
    {
      "cell_type": "code",
      "source": [
        "df.select(\"Name\", \"Team\", \"Salary\").show(5)"
      ],
      "metadata": {
        "colab": {
          "base_uri": "https://localhost:8080/"
        },
        "id": "m0vSlxnNDAIP",
        "outputId": "d0374576-0568-4dcb-aa20-4716fce53bf3"
      },
      "execution_count": 7,
      "outputs": [
        {
          "output_type": "stream",
          "name": "stdout",
          "text": [
            "+--------------+------------------+-------+\n",
            "|          Name|              Team| Salary|\n",
            "+--------------+------------------+-------+\n",
            "|  Shake Milton|Philadelphia 76ers|1445697|\n",
            "|Christian Wood|   Detroit Pistons|1645357|\n",
            "| PJ Washington| Charlotte Hornets|3831840|\n",
            "|  Derrick Rose|   Detroit Pistons|7317074|\n",
            "| Marial Shayok|Philadelphia 76ers|  79568|\n",
            "+--------------+------------------+-------+\n",
            "only showing top 5 rows\n",
            "\n"
          ]
        }
      ]
    },
    {
      "cell_type": "markdown",
      "source": [
        "### Counting Methods <br>\n",
        "Like previously mentioned, you can use `df.count()` for a count of the entire DataFrame. You can also count specific columns. Here are two ways to do this: <br>"
      ],
      "metadata": {
        "id": "YQKinUToDH9N"
      }
    },
    {
      "cell_type": "code",
      "source": [
        "from pyspark.sql.functions import countDistinct\n",
        "num_teams = df.select(countDistinct(\"Team\")).collect()[0][0]\n",
        "num_teams"
      ],
      "metadata": {
        "colab": {
          "base_uri": "https://localhost:8080/"
        },
        "id": "W-eahZYbDLwr",
        "outputId": "8e05e84d-5b39-4eae-a578-928b3f9d052a"
      },
      "execution_count": 8,
      "outputs": [
        {
          "output_type": "execute_result",
          "data": {
            "text/plain": [
              "30"
            ]
          },
          "metadata": {},
          "execution_count": 8
        }
      ]
    },
    {
      "cell_type": "markdown",
      "source": [
        "This code shows the number of observations of the unique values in the Team column."
      ],
      "metadata": {
        "id": "yOI1SrjJDTno"
      }
    },
    {
      "cell_type": "code",
      "source": [
        "df.groupBy(\"Team\").count().show(5)"
      ],
      "metadata": {
        "colab": {
          "base_uri": "https://localhost:8080/"
        },
        "id": "rX8Hof84DgsZ",
        "outputId": "7868f33c-5c4e-4011-f7d6-fe408022c6ad"
      },
      "execution_count": 10,
      "outputs": [
        {
          "output_type": "stream",
          "name": "stdout",
          "text": [
            "+--------------------+-----+\n",
            "|                Team|count|\n",
            "+--------------------+-----+\n",
            "|        Phoenix Suns|   15|\n",
            "|      Boston Celtics|   16|\n",
            "|    Dallas Mavericks|   13|\n",
            "|New Orleans Pelicans|   16|\n",
            "|       Brooklyn Nets|   17|\n",
            "+--------------------+-----+\n",
            "only showing top 5 rows\n",
            "\n"
          ]
        }
      ]
    },
    {
      "cell_type": "markdown",
      "source": [
        "This code shows how many times each unique value in Team occurrs. <br>\n",
        "\n",
        "### Sorting <br>\n",
        "- `df.orderBy()` sorts values by a variable given. It can be given ascending/descending intstructions. Sorting by multiple columns requires the use of a list."
      ],
      "metadata": {
        "id": "KcaYl8BjDi61"
      }
    },
    {
      "cell_type": "code",
      "source": [
        "df.orderBy(\"Name\").show(5)"
      ],
      "metadata": {
        "colab": {
          "base_uri": "https://localhost:8080/"
        },
        "id": "MRIZ9dkIDqjt",
        "outputId": "4e539a96-a48c-4f3c-a097-dda9572ab350"
      },
      "execution_count": 11,
      "outputs": [
        {
          "output_type": "stream",
          "name": "stdout",
          "text": [
            "+-----------------+--------------------+--------+--------+--------+\n",
            "|             Name|                Team|Position|Birthday|  Salary|\n",
            "+-----------------+--------------------+--------+--------+--------+\n",
            "|     Aaron Gordon|       Orlando Magic|      PF| 9/16/95|19863636|\n",
            "|    Aaron Holiday|      Indiana Pacers|      PG| 9/30/96| 2239200|\n",
            "|      Abdel Nader|Oklahoma City Thu...|      SF| 9/25/93| 1618520|\n",
            "|      Adam Mokoka|       Chicago Bulls|       G| 7/18/98|   79568|\n",
            "|Admiral Schofield|  Washington Wizards|      SF| 3/30/97| 1000000|\n",
            "+-----------------+--------------------+--------+--------+--------+\n",
            "only showing top 5 rows\n",
            "\n"
          ]
        }
      ]
    },
    {
      "cell_type": "markdown",
      "source": [
        "The default sorting is ascending."
      ],
      "metadata": {
        "id": "w2LyKFLPDtL0"
      }
    },
    {
      "cell_type": "code",
      "source": [
        "from pyspark.sql.functions import desc\n",
        "df.orderBy(desc(\"Salary\")).show(5)"
      ],
      "metadata": {
        "colab": {
          "base_uri": "https://localhost:8080/"
        },
        "id": "2aQHK0tnDwq8",
        "outputId": "03f1257c-6f84-42fb-c290-51a044f2ea09"
      },
      "execution_count": 12,
      "outputs": [
        {
          "output_type": "stream",
          "name": "stdout",
          "text": [
            "+-----------------+--------------------+--------+--------+--------+\n",
            "|             Name|                Team|Position|Birthday|  Salary|\n",
            "+-----------------+--------------------+--------+--------+--------+\n",
            "|    Stephen Curry|Golden State Warr...|      PG| 3/14/88|40231758|\n",
            "|Russell Westbrook|     Houston Rockets|      PG|11/12/88|38506482|\n",
            "|       Chris Paul|Oklahoma City Thu...|      PG|  5/6/85|38506482|\n",
            "|        John Wall|  Washington Wizards|      PG|  9/6/90|38199000|\n",
            "|     James Harden|     Houston Rockets|      PG| 8/26/89|38199000|\n",
            "+-----------------+--------------------+--------+--------+--------+\n",
            "only showing top 5 rows\n",
            "\n"
          ]
        }
      ]
    },
    {
      "cell_type": "code",
      "source": [
        "df.orderBy([\"Team\", desc(\"Salary\")]).show(5)"
      ],
      "metadata": {
        "colab": {
          "base_uri": "https://localhost:8080/"
        },
        "id": "U1Rkxlb7D08O",
        "outputId": "e9788715-68cd-4e24-93b1-9f84cfd9e567"
      },
      "execution_count": 13,
      "outputs": [
        {
          "output_type": "stream",
          "name": "stdout",
          "text": [
            "+----------------+-------------+--------+--------+--------+\n",
            "|            Name|         Team|Position|Birthday|  Salary|\n",
            "+----------------+-------------+--------+--------+--------+\n",
            "|Chandler Parsons|Atlanta Hawks|      SF|10/25/88|25102512|\n",
            "|     Evan Turner|Atlanta Hawks|      PG|10/27/88|18606556|\n",
            "|    Allen Crabbe|Atlanta Hawks|      SG|  4/9/92|18500000|\n",
            "| De'Andre Hunter|Atlanta Hawks|      SF| 12/2/97| 7068360|\n",
            "|   Jabari Parker|Atlanta Hawks|      PF| 3/15/95| 6500000|\n",
            "+----------------+-------------+--------+--------+--------+\n",
            "only showing top 5 rows\n",
            "\n"
          ]
        }
      ]
    },
    {
      "cell_type": "markdown",
      "source": [
        "- `nsmallest` and `nlargest` are not functions in PySpark, but there is an equivalent way to do it:"
      ],
      "metadata": {
        "id": "0RW2RyXJD5Pq"
      }
    },
    {
      "cell_type": "code",
      "source": [
        "# nsmallest example:\n",
        "df.orderBy(\"Salary\").limit(5).show()\n",
        "\n",
        "# nlargest example:\n",
        "df.orderBy(desc(\"Salary\")).limit(5).show()"
      ],
      "metadata": {
        "id": "it_eZnUqD5_i"
      },
      "execution_count": null,
      "outputs": []
    },
    {
      "cell_type": "markdown",
      "source": [
        "### Row-Based Access <br>\n",
        "PySpark does not use row indexing, so you have to use other ways to access rows: <br>\n",
        "1. `df.limit()` or `df.take()` takes an integer and returns a list of the number of rows <br>\n",
        "2. `df.collect()` returns all the reconds as a list of rows <br>\n",
        "Here is an example:"
      ],
      "metadata": {
        "id": "Kue4x3rSD-PJ"
      }
    },
    {
      "cell_type": "code",
      "source": [
        "df.filter(\"Team == 'New York Knicks'\").show()\n",
        "df.limit(5).show()\n",
        "df.take(5)\n",
        "df.collect()"
      ],
      "metadata": {
        "colab": {
          "base_uri": "https://localhost:8080/"
        },
        "id": "2kOeh3MeEBSl",
        "outputId": "1c99d1a1-9a5b-4d61-9b61-1ea240612dbe"
      },
      "execution_count": 16,
      "outputs": [
        {
          "output_type": "stream",
          "name": "stdout",
          "text": [
            "+-----------------+---------------+--------+--------+--------+\n",
            "|             Name|           Team|Position|Birthday|  Salary|\n",
            "+-----------------+---------------+--------+--------+--------+\n",
            "|    Marcus Morris|New York Knicks|      PF|  9/2/89|15000000|\n",
            "|   Damyean Dotson|New York Knicks|      SG|  5/6/94| 1618520|\n",
            "| Ignas Brazdeikis|New York Knicks|      SF|  1/8/99|  898310|\n",
            "|        Ivan Rabb|New York Knicks|      PF|  2/4/97|   79568|\n",
            "|       Kevin Knox|New York Knicks|      PF| 8/11/99| 4380120|\n",
            "|    Julius Randle|New York Knicks|       C|11/29/94|18000000|\n",
            "|Mitchell Robinson|New York Knicks|       C|  4/1/98| 1559712|\n",
            "|  Wayne Ellington|New York Knicks|      SG|11/29/87| 8000000|\n",
            "|       RJ Barrett|New York Knicks|      SG| 6/14/00| 7839960|\n",
            "|    Elfrid Payton|New York Knicks|      PG| 2/22/94| 8000000|\n",
            "|    Allonzo Trier|New York Knicks|      PG| 1/17/96| 3551100|\n",
            "|   Reggie Bullock|New York Knicks|      SF| 3/16/91| 4000000|\n",
            "|     Bobby Portis|New York Knicks|       C| 2/10/95|15000000|\n",
            "|       Taj Gibson|New York Knicks|       C| 6/24/85| 9000000|\n",
            "|  Frank Ntilikina|New York Knicks|      PG| 7/28/98| 4855800|\n",
            "|     Kadeem Allen|New York Knicks|      PG| 1/15/93|   79568|\n",
            "+-----------------+---------------+--------+--------+--------+\n",
            "\n",
            "+--------------+------------------+--------+--------+-------+\n",
            "|          Name|              Team|Position|Birthday| Salary|\n",
            "+--------------+------------------+--------+--------+-------+\n",
            "|  Shake Milton|Philadelphia 76ers|      SG| 9/26/96|1445697|\n",
            "|Christian Wood|   Detroit Pistons|      PF| 9/27/95|1645357|\n",
            "| PJ Washington| Charlotte Hornets|      PF| 8/23/98|3831840|\n",
            "|  Derrick Rose|   Detroit Pistons|      PG| 10/4/88|7317074|\n",
            "| Marial Shayok|Philadelphia 76ers|       G| 7/26/95|  79568|\n",
            "+--------------+------------------+--------+--------+-------+\n",
            "\n"
          ]
        },
        {
          "output_type": "execute_result",
          "data": {
            "text/plain": [
              "[Row(Name='Shake Milton', Team='Philadelphia 76ers', Position='SG', Birthday='9/26/96', Salary=1445697),\n",
              " Row(Name='Christian Wood', Team='Detroit Pistons', Position='PF', Birthday='9/27/95', Salary=1645357),\n",
              " Row(Name='PJ Washington', Team='Charlotte Hornets', Position='PF', Birthday='8/23/98', Salary=3831840),\n",
              " Row(Name='Derrick Rose', Team='Detroit Pistons', Position='PG', Birthday='10/4/88', Salary=7317074),\n",
              " Row(Name='Marial Shayok', Team='Philadelphia 76ers', Position='G', Birthday='7/26/95', Salary=79568),\n",
              " Row(Name='Draymond Green', Team='Golden State Warriors', Position='PF', Birthday='3/4/90', Salary=18539130),\n",
              " Row(Name='Kendrick Nunn', Team='Miami Heat', Position='SG', Birthday='8/3/95', Salary=1416852),\n",
              " Row(Name='Cedi Osman', Team='Cleveland Cavaliers', Position='SF', Birthday='4/8/95', Salary=2907143),\n",
              " Row(Name='Brook Lopez', Team='Milwaukee Bucks', Position='C', Birthday='4/1/88', Salary=12093024),\n",
              " Row(Name='Torrey Craig', Team='Denver Nuggets', Position='SF', Birthday='12/19/90', Salary=2000000),\n",
              " Row(Name='Jordan Clarkson', Team='Cleveland Cavaliers', Position='PG', Birthday='6/7/92', Salary=13437500),\n",
              " Row(Name='Alex Caruso', Team='Los Angeles Lakers', Position='PG', Birthday='2/28/94', Salary=2750000),\n",
              " Row(Name='Norvel Pelle', Team='Philadelphia 76ers', Position='FC', Birthday='2/3/93', Salary=79568),\n",
              " Row(Name='Tyler Johnson', Team='Phoenix Suns', Position='PG', Birthday='5/7/92', Salary=19245370),\n",
              " Row(Name='Alec Burks', Team='Golden State Warriors', Position='SG', Birthday='7/20/91', Salary=2320044),\n",
              " Row(Name='JaMychal Green', Team='Los Angeles Clippers', Position='PF', Birthday='6/21/90', Salary=4767000),\n",
              " Row(Name='Dwight Howard', Team='Los Angeles Lakers', Position='C', Birthday='12/8/85', Salary=5603850),\n",
              " Row(Name='Nikola Jokic', Team='Denver Nuggets', Position='C', Birthday='2/19/95', Salary=27504630),\n",
              " Row(Name='Chris Boucher', Team='Toronto Raptors', Position='PF', Birthday='1/11/93', Salary=1588231),\n",
              " Row(Name='Marcus Morris', Team='New York Knicks', Position='PF', Birthday='9/2/89', Salary=15000000),\n",
              " Row(Name='Kevin Huerter', Team='Atlanta Hawks', Position='SG', Birthday='8/27/98', Salary=2636280),\n",
              " Row(Name='Rui Hachimura', Team='Washington Wizards', Position='PF', Birthday='2/8/98', Salary=4469160),\n",
              " Row(Name='George Hill', Team='Milwaukee Bucks', Position='PG', Birthday='5/4/86', Salary=10133907),\n",
              " Row(Name='Nickeil Alexander-Walker', Team='New Orleans Pelicans', Position='SG', Birthday='9/2/98', Salary=2964840),\n",
              " Row(Name='Jaylen Hoard', Team='Portland Trail Blazers', Position='SF', Birthday='3/30/99', Salary=79568),\n",
              " Row(Name='Tyler Cook', Team='Cleveland Cavaliers', Position='PF', Birthday='9/23/97', Salary=79568),\n",
              " Row(Name='Otto Porter', Team='Chicago Bulls', Position='SF', Birthday='6/3/93', Salary=27250576),\n",
              " Row(Name='Langston Galloway', Team='Detroit Pistons', Position='PG', Birthday='12/9/91', Salary=7333333),\n",
              " Row(Name='Evan Turner', Team='Atlanta Hawks', Position='PG', Birthday='10/27/88', Salary=18606556),\n",
              " Row(Name='Norman Powell', Team='Toronto Raptors', Position='SG', Birthday='5/25/93', Salary=10116576),\n",
              " Row(Name='Nicolas Claxton', Team='Brooklyn Nets', Position='PF', Birthday='4/17/99', Salary=898310),\n",
              " Row(Name='Michael Frazier', Team='Houston Rockets', Position='G', Birthday='3/8/94', Salary=79568),\n",
              " Row(Name='Paul Millsap', Team='Denver Nuggets', Position='PF', Birthday='2/10/85', Salary=30000000),\n",
              " Row(Name='Furkan Korkmaz', Team='Philadelphia 76ers', Position='SG', Birthday='7/24/97', Salary=1620564),\n",
              " Row(Name='Trey Burke', Team='Philadelphia 76ers', Position='PG', Birthday='11/12/92', Salary=2028594),\n",
              " Row(Name='Bradley Beal', Team='Washington Wizards', Position='SG', Birthday='6/28/93', Salary=27093018),\n",
              " Row(Name='Thomas Bryant', Team='Washington Wizards', Position='C', Birthday='7/31/97', Salary=8000000),\n",
              " Row(Name='Dean Wade', Team='Cleveland Cavaliers', Position='PF', Birthday='11/20/96', Salary=79568),\n",
              " Row(Name='Chris Paul', Team='Oklahoma City Thunder', Position='PG', Birthday='5/6/85', Salary=38506482),\n",
              " Row(Name='Josh Hart', Team='New Orleans Pelicans', Position='SF', Birthday='3/6/95', Salary=1934160),\n",
              " Row(Name='LaMarcus Aldridge', Team='San Antonio Spurs', Position='C', Birthday='7/19/85', Salary=26000000),\n",
              " Row(Name='DaQuan Jeffries', Team='Sacramento Kings', Position='SG', Birthday='8/30/97', Salary=898310),\n",
              " Row(Name='Hamidou Diallo', Team='Oklahoma City Thunder', Position='SF', Birthday='7/31/98', Salary=1416852),\n",
              " Row(Name='Jamal Murray', Team='Denver Nuggets', Position='PG', Birthday='2/23/97', Salary=4444746),\n",
              " Row(Name='Darius Bazley', Team='Oklahoma City Thunder', Position='PF', Birthday='6/12/00', Salary=2284800),\n",
              " Row(Name='Robert Franks', Team='Charlotte Hornets', Position='F', Birthday='12/18/96', Salary=79568),\n",
              " Row(Name='Gerald Green', Team='Houston Rockets', Position='SF', Birthday='1/26/86', Salary=2564753),\n",
              " Row(Name='Thaddeus Young', Team='Chicago Bulls', Position='PF', Birthday='6/21/88', Salary=12900000),\n",
              " Row(Name='Sviatoslav Mykhailiuk', Team='Detroit Pistons', Position='SF', Birthday='6/10/97', Salary=1416852),\n",
              " Row(Name='Ian Mahinmi', Team='Washington Wizards', Position='C', Birthday='11/5/86', Salary=15450051),\n",
              " Row(Name='Deonte Burton', Team='Oklahoma City Thunder', Position='SG', Birthday='1/31/94', Salary=1416852),\n",
              " Row(Name='Markelle Fultz', Team='Orlando Magic', Position='PG', Birthday='5/29/98', Salary=9745200),\n",
              " Row(Name='Aaron Gordon', Team='Orlando Magic', Position='PF', Birthday='9/16/95', Salary=19863636),\n",
              " Row(Name='Dzanan Musa', Team='Brooklyn Nets', Position='SF', Birthday='5/8/99', Salary=1911600),\n",
              " Row(Name='Patrick McCaw', Team='Toronto Raptors', Position='SF', Birthday='10/25/95', Salary=4000000),\n",
              " Row(Name='Bismack Biyombo', Team='Charlotte Hornets', Position='C', Birthday='8/28/92', Salary=17000000),\n",
              " Row(Name='JaVale McGee', Team='Los Angeles Lakers', Position='C', Birthday='1/19/88', Salary=4000000),\n",
              " Row(Name='Juwan Morgan', Team='Utah Jazz', Position='F', Birthday='4/17/97', Salary=796806),\n",
              " Row(Name='Marc Gasol', Team='Toronto Raptors', Position='C', Birthday='1/29/85', Salary=25595700),\n",
              " Row(Name='Marcus Smart', Team='Boston Celtics', Position='PG', Birthday='3/6/94', Salary=12553571),\n",
              " Row(Name='Rudy Gobert', Team='Utah Jazz', Position='C', Birthday='6/26/92', Salary=24258427),\n",
              " Row(Name='Wesley Iwundu', Team='Orlando Magic', Position='SF', Birthday='12/20/94', Salary=1618520),\n",
              " Row(Name='Dwight Powell', Team='Dallas Mavericks', Position='C', Birthday='7/20/91', Salary=10259375),\n",
              " Row(Name='Goran Dragic', Team='Miami Heat', Position='PG', Birthday='5/6/86', Salary=19217900),\n",
              " Row(Name='Theo Pinson', Team='Brooklyn Nets', Position='SG', Birthday='11/5/95', Salary=1445697),\n",
              " Row(Name='Danilo Gallinari', Team='Oklahoma City Thunder', Position='PF', Birthday='8/8/88', Salary=22615559),\n",
              " Row(Name='Joe Ingles', Team='Utah Jazz', Position='PF', Birthday='10/2/87', Salary=11454546),\n",
              " Row(Name='Jarrett Culver', Team='Minnesota Timberwolves', Position='SG', Birthday='2/20/99', Salary=5813640),\n",
              " Row(Name='Robert Covington', Team='Minnesota Timberwolves', Position='PF', Birthday='12/14/90', Salary=11301219),\n",
              " Row(Name='Damyean Dotson', Team='New York Knicks', Position='SG', Birthday='5/6/94', Salary=1618520),\n",
              " Row(Name='Patrick Beverley', Team='Los Angeles Clippers', Position='PG', Birthday='7/12/88', Salary=12345680),\n",
              " Row(Name='Kevin Love', Team='Cleveland Cavaliers', Position='C', Birthday='9/7/88', Salary=28942830),\n",
              " Row(Name='Quinn Cook', Team='Los Angeles Lakers', Position='PG', Birthday='3/23/93', Salary=3000000),\n",
              " Row(Name='Justin Wright-Foreman', Team='Utah Jazz', Position='G', Birthday='10/27/97', Salary=79568),\n",
              " Row(Name='Noah Vonleh', Team='Minnesota Timberwolves', Position='C', Birthday='8/24/95', Salary=2000000),\n",
              " Row(Name='Tyus Jones', Team='Memphis Grizzlies', Position='PG', Birthday='5/10/96', Salary=9258000),\n",
              " Row(Name='Dewayne Dedmon', Team='Sacramento Kings', Position='C', Birthday='8/12/89', Salary=13333334),\n",
              " Row(Name='Malcolm Brogdon', Team='Indiana Pacers', Position='PG', Birthday='12/11/92', Salary=20000000),\n",
              " Row(Name='Ben McLemore', Team='Houston Rockets', Position='SG', Birthday='2/11/93', Salary=2028594),\n",
              " Row(Name='Wilson Chandler', Team='Brooklyn Nets', Position='PF', Birthday='5/10/87', Salary=2564753),\n",
              " Row(Name='Isaac Bonga', Team='Washington Wizards', Position='PG', Birthday='11/8/99', Salary=1416852),\n",
              " Row(Name='Adam Mokoka', Team='Chicago Bulls', Position='G', Birthday='7/18/98', Salary=79568),\n",
              " Row(Name='Lonzo Ball', Team='New Orleans Pelicans', Position='PG', Birthday='10/27/97', Salary=8719320),\n",
              " Row(Name='Jalen Brunson', Team='Dallas Mavericks', Position='PG', Birthday='8/31/96', Salary=1416852),\n",
              " Row(Name='John Collins', Team='Atlanta Hawks', Position='PF', Birthday='9/23/97', Salary=2686560),\n",
              " Row(Name='Marvin Williams', Team='Charlotte Hornets', Position='PF', Birthday='6/19/86', Salary=15006250),\n",
              " Row(Name='Brad Wanamaker', Team='Boston Celtics', Position='PG', Birthday='7/25/89', Salary=1445697),\n",
              " Row(Name='Donte DiVincenzo', Team='Milwaukee Bucks', Position='SG', Birthday='1/31/97', Salary=2905800),\n",
              " Row(Name='Omari Spellman', Team='Golden State Warriors', Position='PF', Birthday='7/21/97', Salary=1897800),\n",
              " Row(Name='Joe Harris', Team='Brooklyn Nets', Position='SF', Birthday='9/6/91', Salary=7666667),\n",
              " Row(Name=\"Royce O'Neale\", Team='Utah Jazz', Position='PF', Birthday='6/5/93', Salary=1618520),\n",
              " Row(Name='Deandre Ayton', Team='Phoenix Suns', Position='C', Birthday='7/23/98', Salary=9562920),\n",
              " Row(Name='Cory Joseph', Team='Sacramento Kings', Position='PG', Birthday='8/20/91', Salary=12000000),\n",
              " Row(Name='Malcolm Miller', Team='Toronto Raptors', Position='SF', Birthday='3/6/93', Salary=1588231),\n",
              " Row(Name='Justise Winslow', Team='Miami Heat', Position='PF', Birthday='3/26/96', Salary=13000000),\n",
              " Row(Name='Kevin Durant', Team='Brooklyn Nets', Position='PF', Birthday='9/29/88', Salary=37199000),\n",
              " Row(Name='Evan Fournier', Team='Orlando Magic', Position='SF', Birthday='10/29/92', Salary=17000000),\n",
              " Row(Name='Chris Silva', Team='Miami Heat', Position='PF', Birthday='9/19/96', Salary=79568),\n",
              " Row(Name='Vince Carter', Team='Atlanta Hawks', Position='PF', Birthday='1/26/77', Salary=2564753),\n",
              " Row(Name='Cody Zeller', Team='Charlotte Hornets', Position='C', Birthday='10/5/92', Salary=14471910),\n",
              " Row(Name='Brian Bowen', Team='Indiana Pacers', Position='SG', Birthday='10/2/98', Salary=79568),\n",
              " Row(Name='Aaron Holiday', Team='Indiana Pacers', Position='PG', Birthday='9/30/96', Salary=2239200),\n",
              " Row(Name='Troy Daniels', Team='Los Angeles Lakers', Position='SG', Birthday='7/15/91', Salary=2028594),\n",
              " Row(Name='Buddy Hield', Team='Sacramento Kings', Position='SG', Birthday='12/17/92', Salary=4861207),\n",
              " Row(Name='Terance Mann', Team='Los Angeles Clippers', Position='SG', Birthday='10/18/96', Salary=1000000),\n",
              " Row(Name='John Konchar', Team='Memphis Grizzlies', Position='SG', Birthday='3/22/96', Salary=79568),\n",
              " Row(Name='KZ Okpala', Team='Miami Heat', Position='SF', Birthday='4/28/99', Salary=898310),\n",
              " Row(Name='Denzel Valentine', Team='Chicago Bulls', Position='SF', Birthday='11/16/93', Salary=3377568),\n",
              " Row(Name='Marquese Chriss', Team='Golden State Warriors', Position='PF', Birthday='7/2/97', Salary=1678854),\n",
              " Row(Name='Anthony Davis', Team='Los Angeles Lakers', Position='C', Birthday='3/11/93', Salary=27093019),\n",
              " Row(Name='Nemanja Bjelica', Team='Sacramento Kings', Position='PF', Birthday='5/9/88', Salary=6825000),\n",
              " Row(Name='Chandler Parsons', Team='Atlanta Hawks', Position='SF', Birthday='10/25/88', Salary=25102512),\n",
              " Row(Name='Courtney Lee', Team='Dallas Mavericks', Position='SG', Birthday='10/3/85', Salary=12759670),\n",
              " Row(Name='Myles Turner', Team='Indiana Pacers', Position='C', Birthday='3/24/96', Salary=18000000),\n",
              " Row(Name=\"Kyle O'Quinn\", Team='Philadelphia 76ers', Position='C', Birthday='3/26/90', Salary=2174318),\n",
              " Row(Name='Bryn Forbes', Team='San Antonio Spurs', Position='SG', Birthday='7/23/93', Salary=2875000),\n",
              " Row(Name='Duncan Robinson', Team='Miami Heat', Position='PF', Birthday='4/22/94', Salary=1416852),\n",
              " Row(Name='Devin Booker', Team='Phoenix Suns', Position='SG', Birthday='10/30/96', Salary=27285000),\n",
              " Row(Name='Grant Williams', Team='Boston Celtics', Position='PF', Birthday='11/30/98', Salary=2379840),\n",
              " Row(Name='DeMarcus Cousins', Team='Los Angeles Lakers', Position='C', Birthday='8/13/90', Salary=3500000),\n",
              " Row(Name='DeMar DeRozan', Team='San Antonio Spurs', Position='SF', Birthday='8/7/89', Salary=27739975),\n",
              " Row(Name='Kristaps Porzingis', Team='Dallas Mavericks', Position='PF', Birthday='8/2/95', Salary=27285000),\n",
              " Row(Name='Brandon Knight', Team='Cleveland Cavaliers', Position='PG', Birthday='12/2/91', Salary=15643750),\n",
              " Row(Name='Thabo Sefolosha', Team='Houston Rockets', Position='PF', Birthday='5/2/84', Salary=2564753),\n",
              " Row(Name='David Nwaba', Team='Brooklyn Nets', Position='SF', Birthday='1/14/93', Salary=1678854),\n",
              " Row(Name='Quinndary Weatherspoon', Team='San Antonio Spurs', Position='G', Birthday='9/10/96', Salary=79568),\n",
              " Row(Name='Dewan Hernandez', Team='Toronto Raptors', Position='C', Birthday='12/9/96', Salary=898310),\n",
              " Row(Name='Isaiah Thomas', Team='Washington Wizards', Position='PG', Birthday='2/7/89', Salary=2320044),\n",
              " Row(Name='Bruce Brown', Team='Detroit Pistons', Position='SG', Birthday='8/15/96', Salary=1416852),\n",
              " Row(Name='Keldon Johnson', Team='San Antonio Spurs', Position='SF', Birthday='10/11/99', Salary=1950600),\n",
              " Row(Name='Damian Jones', Team='Atlanta Hawks', Position='C', Birthday='6/30/95', Salary=2305057),\n",
              " Row(Name='Luguentz Dort', Team='Oklahoma City Thunder', Position='G', Birthday='4/19/99', Salary=79568),\n",
              " Row(Name='Terence Davis', Team='Toronto Raptors', Position='SG', Birthday='5/16/97', Salary=898310),\n",
              " Row(Name='Chandler Hutchison', Team='Chicago Bulls', Position='SF', Birthday='4/26/96', Salary=2332320),\n",
              " Row(Name='Steven Adams', Team='Oklahoma City Thunder', Position='C', Birthday='7/20/93', Salary=25842697),\n",
              " Row(Name='Jordan Poole', Team='Golden State Warriors', Position='SG', Birthday='6/19/99', Salary=1964760),\n",
              " Row(Name='Sekou Doumbouya', Team='Detroit Pistons', Position='SF', Birthday='12/23/00', Salary=3285120),\n",
              " Row(Name='Zion Williamson', Team='New Orleans Pelicans', Position='F', Birthday='7/6/00', Salary=9757440),\n",
              " Row(Name='Mike Muscala', Team='Oklahoma City Thunder', Position='C', Birthday='7/1/91', Salary=2028594),\n",
              " Row(Name='Skal Labissiere', Team='Portland Trail Blazers', Position='C', Birthday='3/18/96', Salary=2338846),\n",
              " Row(Name='Meyers Leonard', Team='Miami Heat', Position='C', Birthday='2/27/92', Salary=11286515),\n",
              " Row(Name='Reggie Jackson', Team='Detroit Pistons', Position='PG', Birthday='4/16/90', Salary=18086956),\n",
              " Row(Name='Alfonzo McKinnie', Team='Cleveland Cavaliers', Position='SF', Birthday='9/17/92', Salary=1588231),\n",
              " Row(Name='Yuta Watanabe', Team='Memphis Grizzlies', Position='SF', Birthday='10/13/94', Salary=79568),\n",
              " Row(Name='Kentavious Caldwell-Pope', Team='Los Angeles Lakers', Position='SG', Birthday='2/18/93', Salary=8089282),\n",
              " Row(Name='Kelan Martin', Team='Minnesota Timberwolves', Position='SF', Birthday='8/3/95', Salary=79568),\n",
              " Row(Name='OG Anunoby', Team='Toronto Raptors', Position='SF', Birthday='7/17/97', Salary=2281800),\n",
              " Row(Name='Tyler Herro', Team='Miami Heat', Position='SG', Birthday='1/20/00', Salary=3640200),\n",
              " Row(Name='Richaun Holmes', Team='Sacramento Kings', Position='C', Birthday='10/15/93', Salary=4767000),\n",
              " Row(Name='Tyson Chandler', Team='Houston Rockets', Position='C', Birthday='10/2/82', Salary=2564753),\n",
              " Row(Name='Solomon Hill', Team='Memphis Grizzlies', Position='SF', Birthday='3/18/91', Salary=13290395),\n",
              " Row(Name='Keita Bates-Diop', Team='Minnesota Timberwolves', Position='SF', Birthday='1/23/96', Salary=1416852),\n",
              " Row(Name='Kelly Olynyk', Team='Miami Heat', Position='C', Birthday='4/19/91', Salary=12667885),\n",
              " Row(Name='Jaxson Hayes', Team='New Orleans Pelicans', Position='C', Birthday='5/23/00', Salary=4862040),\n",
              " Row(Name='CJ McCollum', Team='Portland Trail Blazers', Position='SG', Birthday='9/19/91', Salary=27556959),\n",
              " Row(Name='Darius Miller', Team='New Orleans Pelicans', Position='SF', Birthday='3/21/90', Salary=7250000),\n",
              " Row(Name='Luka Doncic', Team='Dallas Mavericks', Position='PG', Birthday='2/28/99', Salary=7683360),\n",
              " Row(Name='DeMarre Carroll', Team='San Antonio Spurs', Position='PF', Birthday='7/27/86', Salary=7000000),\n",
              " Row(Name='Cristiano Felicio', Team='Chicago Bulls', Position='C', Birthday='7/7/92', Salary=8156500),\n",
              " Row(Name='Zach LaVine', Team='Chicago Bulls', Position='PG', Birthday='3/10/95', Salary=19500000),\n",
              " Row(Name='Tremont Waters', Team='Boston Celtics', Position='PG', Birthday='1/10/98', Salary=79568),\n",
              " Row(Name='Dejounte Murray', Team='San Antonio Spurs', Position='PG', Birthday='9/19/96', Salary=2321735),\n",
              " Row(Name='Jerome Robinson', Team='Los Angeles Clippers', Position='SG', Birthday='2/22/97', Salary=3567720),\n",
              " Row(Name='Rudy Gay', Team='San Antonio Spurs', Position='PF', Birthday='8/17/86', Salary=14500000),\n",
              " Row(Name='Ryan Broekhoff', Team='Dallas Mavericks', Position='SG', Birthday='8/23/90', Salary=1416852),\n",
              " Row(Name='Jake Layman', Team='Minnesota Timberwolves', Position='PF', Birthday='3/7/94', Salary=3581986),\n",
              " Row(Name='Cameron Johnson', Team='Phoenix Suns', Position='PF', Birthday='3/3/96', Salary=4033440),\n",
              " Row(Name='Allen Crabbe', Team='Atlanta Hawks', Position='SG', Birthday='4/9/92', Salary=18500000),\n",
              " Row(Name='Justin James', Team='Sacramento Kings', Position='SG', Birthday='1/24/97', Salary=898310),\n",
              " Row(Name='Emmanuel Mudiay', Team='Utah Jazz', Position='PG', Birthday='3/5/96', Salary=1737145),\n",
              " Row(Name='Avery Bradley', Team='Los Angeles Lakers', Position='PG', Birthday='11/26/90', Salary=6767000),\n",
              " Row(Name='Victor Oladipo', Team='Indiana Pacers', Position='PG', Birthday='5/4/92', Salary=21000000),\n",
              " Row(Name='Caleb Martin', Team='Charlotte Hornets', Position='SF', Birthday='9/28/95', Salary=898310),\n",
              " Row(Name='Coby White', Team='Chicago Bulls', Position='SG', Birthday='2/16/00', Salary=5307120),\n",
              " Row(Name='Isaiah Hartenstein', Team='Houston Rockets', Position='C', Birthday='5/5/98', Salary=1416852),\n",
              " Row(Name='Will Barton', Team='Denver Nuggets', Position='SF', Birthday='1/6/91', Salary=12776786),\n",
              " Row(Name='Dwayne Bacon', Team='Charlotte Hornets', Position='SG', Birthday='8/30/95', Salary=1618520),\n",
              " Row(Name='Harrison Barnes', Team='Sacramento Kings', Position='PF', Birthday='5/30/92', Salary=24147727),\n",
              " Row(Name='Tim Frazier', Team='Detroit Pistons', Position='PG', Birthday='11/1/90', Salary=1620564),\n",
              " Row(Name='Jimmy Butler', Team='Miami Heat', Position='SF', Birthday='9/14/89', Salary=32742000),\n",
              " Row(Name='Gary Harris', Team='Denver Nuggets', Position='SG', Birthday='9/14/94', Salary=17839286),\n",
              " Row(Name='Thon Maker', Team='Detroit Pistons', Position='C', Birthday='2/25/97', Salary=3569643),\n",
              " Row(Name='Shai Gilgeous-Alexander', Team='Oklahoma City Thunder', Position='PG', Birthday='7/12/98', Salary=3952920),\n",
              " Row(Name='Hassan Whiteside', Team='Portland Trail Blazers', Position='C', Birthday='6/13/89', Salary=27093018),\n",
              " Row(Name='Karl-Anthony Towns', Team='Minnesota Timberwolves', Position='C', Birthday='11/15/95', Salary=27285000),\n",
              " Row(Name='Ky Bowman', Team='Golden State Warriors', Position='PG', Birthday='6/16/97', Salary=79568),\n",
              " Row(Name='Ben Simmons', Team='Philadelphia 76ers', Position='PG', Birthday='7/20/96', Salary=8113929),\n",
              " Row(Name='Terrence Ross', Team='Orlando Magic', Position='SF', Birthday='2/5/91', Salary=12500000),\n",
              " Row(Name='Jordan McLaughlin', Team='Minnesota Timberwolves', Position='PG', Birthday='4/9/96', Salary=79568),\n",
              " Row(Name='Daniel Theis', Team='Boston Celtics', Position='C', Birthday='4/4/92', Salary=5000000),\n",
              " Row(Name='Jonathan Isaac', Team='Orlando Magic', Position='PF', Birthday='10/3/97', Salary=5806440),\n",
              " Row(Name='Cheick Diallo', Team='Phoenix Suns', Position='C', Birthday='9/13/96', Salary=1678854),\n",
              " Row(Name='Serge Ibaka', Team='Toronto Raptors', Position='C', Birthday='9/18/89', Salary=23271604),\n",
              " Row(Name='Amile Jefferson', Team='Orlando Magic', Position='PF', Birthday='5/7/93', Salary=1339515),\n",
              " Row(Name='Cam Reddish', Team='Atlanta Hawks', Position='SF', Birthday='9/1/99', Salary=4245720),\n",
              " Row(Name=\"De'Anthony Melton\", Team='Memphis Grizzlies', Position='PG', Birthday='5/28/98', Salary=1416852),\n",
              " Row(Name='Udonis Haslem', Team='Miami Heat', Position='C', Birthday='6/9/80', Salary=2564753),\n",
              " Row(Name='Charlie Brown', Team='Atlanta Hawks', Position='SG', Birthday='2/2/97', Salary=79568),\n",
              " Row(Name='Elie Okobo', Team='Phoenix Suns', Position='PG', Birthday='10/23/97', Salary=1416852),\n",
              " Row(Name='Gordon Hayward', Team='Boston Celtics', Position='PF', Birthday='3/23/90', Salary=32700690),\n",
              " Row(Name='Marco Belinelli', Team='San Antonio Spurs', Position='SF', Birthday='3/25/86', Salary=5846154),\n",
              " Row(Name='Javonte Green', Team='Boston Celtics', Position='SF', Birthday='7/23/93', Salary=898310),\n",
              " Row(Name='Rondae Hollis-Jefferson', Team='Toronto Raptors', Position='SF', Birthday='1/3/95', Salary=2500000),\n",
              " Row(Name='Carmelo Anthony', Team='Portland Trail Blazers', Position='PF', Birthday='5/29/84', Salary=2159029),\n",
              " Row(Name='Danny Green', Team='Los Angeles Lakers', Position='SG', Birthday='6/22/87', Salary=14634147),\n",
              " Row(Name='Stephen Curry', Team='Golden State Warriors', Position='PG', Birthday='3/14/88', Salary=40231758),\n",
              " Row(Name='Eric Paschall', Team='Golden State Warriors', Position='PF', Birthday='11/4/96', Salary=898310),\n",
              " Row(Name='Daniel Gafford', Team='Chicago Bulls', Position='C', Birthday='10/1/98', Salary=898310),\n",
              " Row(Name='Anfernee Simons', Team='Portland Trail Blazers', Position='SG', Birthday='6/8/99', Salary=2149560),\n",
              " Row(Name='Frank Kaminsky', Team='Phoenix Suns', Position='C', Birthday='4/4/93', Salary=4767000),\n",
              " Row(Name='Luke Kennard', Team='Detroit Pistons', Position='SG', Birthday='6/24/96', Salary=3827160),\n",
              " Row(Name='Josh Okogie', Team='Minnesota Timberwolves', Position='SG', Birthday='9/1/98', Salary=2530680),\n",
              " Row(Name='Rodney Hood', Team='Portland Trail Blazers', Position='SF', Birthday='10/20/92', Salary=5718000),\n",
              " Row(Name=\"De'Andre Hunter\", Team='Atlanta Hawks', Position='SF', Birthday='12/2/97', Salary=7068360),\n",
              " Row(Name='Klay Thompson', Team='Golden State Warriors', Position='SG', Birthday='2/8/90', Salary=32742000),\n",
              " Row(Name='Jrue Holiday', Team='New Orleans Pelicans', Position='PG', Birthday='6/12/90', Salary=26131111),\n",
              " Row(Name='PJ Dozier', Team='Denver Nuggets', Position='PG', Birthday='10/25/96', Salary=79568),\n",
              " Row(Name='Andre Drummond', Team='Detroit Pistons', Position='C', Birthday='8/10/93', Salary=27093018),\n",
              " Row(Name='Jared Harper', Team='Phoenix Suns', Position='PG', Birthday='9/14/97', Salary=79568),\n",
              " Row(Name='Russell Westbrook', Team='Houston Rockets', Position='PG', Birthday='11/12/88', Salary=38506482),\n",
              " Row(Name='Tony Bradley', Team='Utah Jazz', Position='C', Birthday='1/8/98', Salary=1962360),\n",
              " Row(Name='Oshae Brissett', Team='Toronto Raptors', Position='SF', Birthday='6/20/98', Salary=79568),\n",
              " Row(Name='Gary Clark', Team='Houston Rockets', Position='PF', Birthday='11/16/94', Salary=1416852),\n",
              " Row(Name='Pascal Siakam', Team='Toronto Raptors', Position='PF', Birthday='4/2/94', Salary=2351838),\n",
              " Row(Name='Eric Bledsoe', Team='Milwaukee Bucks', Position='PG', Birthday='12/9/89', Salary=15625000),\n",
              " Row(Name='Tomas Satoransky', Team='Chicago Bulls', Position='PG', Birthday='10/30/91', Salary=10000000),\n",
              " Row(Name='Davis Bertans', Team='Washington Wizards', Position='PF', Birthday='11/12/92', Salary=7000000),\n",
              " Row(Name='Amir Coffey', Team='Los Angeles Clippers', Position='G', Birthday='6/17/97', Salary=79568),\n",
              " Row(Name='Ignas Brazdeikis', Team='New York Knicks', Position='SF', Birthday='1/8/99', Salary=898310),\n",
              " Row(Name='Ivan Rabb', Team='New York Knicks', Position='PF', Birthday='2/4/97', Salary=79568),\n",
              " Row(Name='Khris Middleton', Team='Milwaukee Bucks', Position='SF', Birthday='8/12/91', Salary=30603448),\n",
              " Row(Name='Kevin Knox', Team='New York Knicks', Position='PF', Birthday='8/11/99', Salary=4380120),\n",
              " Row(Name='Jeff Green', Team='Utah Jazz', Position='PF', Birthday='8/28/86', Salary=2564753),\n",
              " Row(Name='Ersan Ilyasova', Team='Milwaukee Bucks', Position='PF', Birthday='5/15/87', Salary=7000000),\n",
              " Row(Name='Caleb Swanigan', Team='Sacramento Kings', Position='PF', Birthday='4/18/97', Salary=2033160),\n",
              " Row(Name='Al Horford', Team='Philadelphia 76ers', Position='C', Birthday='6/3/86', Salary=28000000),\n",
              " Row(Name='Clint Capela', Team='Houston Rockets', Position='C', Birthday='5/18/94', Salary=16896552),\n",
              " Row(Name='Georges Niang', Team='Utah Jazz', Position='PF', Birthday='6/17/93', Salary=1645357),\n",
              " Row(Name='Wesley Matthews', Team='Milwaukee Bucks', Position='SF', Birthday='10/14/86', Salary=2564753),\n",
              " Row(Name='Rajon Rondo', Team='Los Angeles Lakers', Position='PG', Birthday='2/22/86', Salary=2564753),\n",
              " Row(Name='Delon Wright', Team='Dallas Mavericks', Position='PG', Birthday='4/26/92', Salary=9473684),\n",
              " Row(Name='Ja Morant', Team='Memphis Grizzlies', Position='PG', Birthday='8/10/99', Salary=8730240),\n",
              " Row(Name='Fred VanVleet', Team='Toronto Raptors', Position='PG', Birthday='2/25/94', Salary=9346153),\n",
              " Row(Name='Brandon Clarke', Team='Memphis Grizzlies', Position='PF', Birthday='9/19/96', Salary=2478840),\n",
              " Row(Name='Miye Oni', Team='Utah Jazz', Position='SG', Birthday='8/4/97', Salary=898310),\n",
              " Row(Name='Julius Randle', Team='New York Knicks', Position='C', Birthday='11/29/94', Salary=18000000),\n",
              " Row(Name='Glenn Robinson III', Team='Golden State Warriors', Position='SF', Birthday='1/8/94', Salary=1882867),\n",
              " Row(Name='Dillon Brooks', Team='Memphis Grizzlies', Position='SF', Birthday='1/22/96', Salary=1618520),\n",
              " Row(Name='Zylan Cheatham', Team='New Orleans Pelicans', Position='SF', Birthday='11/17/95', Salary=79568),\n",
              " Row(Name='Markieff Morris', Team='Detroit Pistons', Position='PF', Birthday='9/2/89', Salary=3200000),\n",
              " Row(Name='Malik Beasley', Team='Denver Nuggets', Position='SG', Birthday='11/26/96', Salary=2731713),\n",
              " Row(Name='John Wall', Team='Washington Wizards', Position='PG', Birthday='9/6/90', Salary=38199000),\n",
              " Row(Name='Vlatko Cancar', Team='Denver Nuggets', Position='SF', Birthday='4/10/97', Salary=898310),\n",
              " Row(Name='Alize Johnson', Team='Indiana Pacers', Position='PF', Birthday='4/22/96', Salary=1416852),\n",
              " Row(Name='Andrew Wiggins', Team='Minnesota Timberwolves', Position='SF', Birthday='2/23/95', Salary=27504630),\n",
              " Row(Name='Khyri Thomas', Team='Detroit Pistons', Position='SG', Birthday='5/8/96', Salary=1416852),\n",
              " Row(Name='Mitchell Robinson', Team='New York Knicks', Position='C', Birthday='4/1/98', Salary=1559712),\n",
              " Row(Name='Damian Lillard', Team='Portland Trail Blazers', Position='PG', Birthday='7/15/90', Salary=29802321),\n",
              " Row(Name='Nassir Little', Team='Portland Trail Blazers', Position='PF', Birthday='2/11/00', Salary=2105520),\n",
              " Row(Name='Mikal Bridges', Team='Phoenix Suns', Position='SF', Birthday='8/30/96', Salary=4161000),\n",
              " Row(Name='Kyle Anderson', Team='Memphis Grizzlies', Position='PF', Birthday='9/20/93', Salary=9073050),\n",
              " Row(Name='Garrett Temple', Team='Brooklyn Nets', Position='PG', Birthday='5/8/86', Salary=4767000),\n",
              " Row(Name='Kyle Korver', Team='Milwaukee Bucks', Position='PF', Birthday='3/17/81', Salary=6004753),\n",
              " Row(Name='Al-Farouq Aminu', Team='Orlando Magic', Position='PF', Birthday='9/21/90', Salary=9258000),\n",
              " Row(Name='James Harden', Team='Houston Rockets', Position='PG', Birthday='8/26/89', Salary=38199000),\n",
              " Row(Name='Derrick White', Team='San Antonio Spurs', Position='PG', Birthday='7/2/94', Salary=1948080),\n",
              " Row(Name='JaKarr Sampson', Team='Indiana Pacers', Position='SF', Birthday='3/20/93', Salary=1737145),\n",
              " Row(Name='Dario Saric', Team='Phoenix Suns', Position='PF', Birthday='4/8/94', Salary=3481985),\n",
              " Row(Name='Ivica Zubac', Team='Los Angeles Clippers', Position='C', Birthday='3/18/97', Salary=6481482),\n",
              " Row(Name='Juan Hernangomez', Team='Denver Nuggets', Position='PF', Birthday='9/28/95', Salary=3321029),\n",
              " Row(Name='Jarrell Brantley', Team='Utah Jazz', Position='PF', Birthday='6/7/96', Salary=79568),\n",
              " Row(Name='Eric Gordon', Team='Houston Rockets', Position='PG', Birthday='12/25/88', Salary=14057730),\n",
              " Row(Name='Naz Reid', Team='Minnesota Timberwolves', Position='F', Birthday='8/26/99', Salary=898310),\n",
              " Row(Name='Justin Robinson', Team='Washington Wizards', Position='PG', Birthday='10/12/97', Salary=898310),\n",
              " Row(Name='Grayson Allen', Team='Memphis Grizzlies', Position='SG', Birthday='10/8/95', Salary=2429400),\n",
              " Row(Name='Trevor Ariza', Team='Sacramento Kings', Position='SF', Birthday='6/30/85', Salary=12200000),\n",
              " Row(Name='Brandon Goodwin', Team='Atlanta Hawks', Position='PG', Birthday='10/2/95', Salary=79568),\n",
              " Row(Name=\"E'Twaun Moore\", Team='New Orleans Pelicans', Position='PG', Birthday='2/25/89', Salary=8664928),\n",
              " Row(Name='Mario Hezonja', Team='Portland Trail Blazers', Position='PF', Birthday='2/25/95', Salary=1737145),\n",
              " Row(Name='Henry Ellenson', Team='Brooklyn Nets', Position='PF', Birthday='1/13/97', Salary=79568),\n",
              " Row(Name='Johnathan Motley', Team='Los Angeles Clippers', Position='PF', Birthday='5/4/95', Salary=79568),\n",
              " Row(Name='James Ennis', Team='Philadelphia 76ers', Position='SF', Birthday='7/1/90', Salary=1882867),\n",
              " Row(Name='Andre Roberson', Team='Oklahoma City Thunder', Position='SF', Birthday='12/4/91', Salary=10740740),\n",
              " Row(Name='Garrison Mathews', Team='Washington Wizards', Position='SG', Birthday='10/24/96', Salary=79568),\n",
              " Row(Name='Jahlil Okafor', Team='New Orleans Pelicans', Position='C', Birthday='12/15/95', Salary=1702486),\n",
              " Row(Name='Mfiondu Kabengele', Team='Los Angeles Clippers', Position='C', Birthday='8/14/97', Salary=1977000),\n",
              " Row(Name='Treveon Graham', Team='Minnesota Timberwolves', Position='SG', Birthday='10/28/93', Salary=1645357),\n",
              " Row(Name='Seth Curry', Team='Dallas Mavericks', Position='PG', Birthday='8/23/90', Salary=7461380),\n",
              " Row(Name=\"D'Angelo Russell\", Team='Golden State Warriors', Position='PG', Birthday='2/23/96', Salary=27285000),\n",
              " Row(Name='Justin Holiday', Team='Indiana Pacers', Position='SG', Birthday='4/5/89', Salary=4767000),\n",
              " Row(Name='Tyrone Wallace', Team='Atlanta Hawks', Position='PG', Birthday='6/10/94', Salary=1620564),\n",
              " Row(Name='Miles Bridges', Team='Charlotte Hornets', Position='SF', Birthday='3/21/98', Salary=3755400),\n",
              " Row(Name='Bogdan Bogdanovic', Team='Sacramento Kings', Position='SG', Birthday='8/18/92', Salary=8529386),\n",
              " Row(Name='Matt Thomas', Team='Toronto Raptors', Position='SG', Birthday='8/4/94', Salary=898310),\n",
              " Row(Name='Jordan Bell', Team='Minnesota Timberwolves', Position='C', Birthday='1/7/95', Salary=1620564),\n",
              " Row(Name='Wenyen Gabriel', Team='Sacramento Kings', Position='PF', Birthday='3/26/97', Salary=79568),\n",
              " Row(Name='Tony Snell', Team='Detroit Pistons', Position='SF', Birthday='11/10/91', Salary=11392857),\n",
              " Row(Name='Shaquille Harrison', Team='Chicago Bulls', Position='PG', Birthday='10/6/93', Salary=1620564),\n",
              " Row(Name='Yogi Ferrell', Team='Sacramento Kings', Position='PG', Birthday='5/9/93', Salary=3150000),\n",
              " Row(Name='Mike Scott', Team='Philadelphia 76ers', Position='PF', Birthday='7/16/88', Salary=4767000),\n",
              " Row(Name='Jarred Vanderbilt', Team='Denver Nuggets', Position='PF', Birthday='4/3/99', Salary=1416852),\n",
              " Row(Name='Jeff Teague', Team='Minnesota Timberwolves', Position='PG', Birthday='6/10/88', Salary=19000000),\n",
              " Row(Name='Zach Norvell', Team='Los Angeles Lakers', Position='SG', Birthday='12/9/97', Salary=79568),\n",
              " Row(Name='Maxi Kleber', Team='Dallas Mavericks', Position='C', Birthday='1/29/92', Salary=8000000),\n",
              " Row(Name='Matisse Thybulle', Team='Philadelphia 76ers', Position='SG', Birthday='3/4/97', Salary=2582160),\n",
              " Row(Name='Ryan Arcidiacono', Team='Chicago Bulls', Position='PG', Birthday='3/26/94', Salary=3000000),\n",
              " Row(Name='Wayne Ellington', Team='New York Knicks', Position='SG', Birthday='11/29/87', Salary=8000000),\n",
              " Row(Name='Kawhi Leonard', Team='Los Angeles Clippers', Position='SF', Birthday='6/29/91', Salary=32742000),\n",
              " Row(Name='Montrezl Harrell', Team='Los Angeles Clippers', Position='C', Birthday='1/26/94', Salary=6000000),\n",
              " Row(Name='Jusuf Nurkic', Team='Portland Trail Blazers', Position='C', Birthday='8/23/94', Salary=12000000),\n",
              " Row(Name='Matthew Dellavedova', Team='Cleveland Cavaliers', Position='PG', Birthday='9/8/90', Salary=9607500),\n",
              " Row(Name='Cody Martin', Team='Charlotte Hornets', Position='SF', Birthday='9/28/95', Salary=1173310),\n",
              " Row(Name='Zhaire Smith', Team='Philadelphia 76ers', Position='SG', Birthday='6/4/99', Salary=3058800),\n",
              " Row(Name='RJ Barrett', Team='New York Knicks', Position='SG', Birthday='6/14/00', Salary=7839960),\n",
              " Row(Name='Lonnie Walker', Team='San Antonio Spurs', Position='SG', Birthday='12/14/98', Salary=2764200),\n",
              " Row(Name='Taurean Prince', Team='Brooklyn Nets', Position='SF', Birthday='3/22/94', Salary=3481985),\n",
              " Row(Name='Elfrid Payton', Team='New York Knicks', Position='PG', Birthday='2/22/94', Salary=8000000),\n",
              " Row(Name='Blake Griffin', Team='Detroit Pistons', Position='PF', Birthday='3/16/89', Salary=34449964),\n",
              " Row(Name='Marko Guduric', Team='Memphis Grizzlies', Position='SG', Birthday='3/8/95', Salary=2625000),\n",
              " Row(Name='Zach Collins', Team='Portland Trail Blazers', Position='C', Birthday='11/19/97', Salary=4240200),\n",
              " Row(Name='Stanley Johnson', Team='Toronto Raptors', Position='PF', Birthday='5/29/96', Salary=3623000),\n",
              " Row(Name='Boban Marjanovic', Team='Dallas Mavericks', Position='C', Birthday='8/15/88', Salary=3500000),\n",
              " Row(Name='Josh Magette', Team='Orlando Magic', Position='PG', Birthday='11/28/89', Salary=79568),\n",
              " Row(Name='Kyle Lowry', Team='Toronto Raptors', Position='PG', Birthday='3/25/86', Salary=33296296),\n",
              " Row(Name='Darius Garland', Team='Cleveland Cavaliers', Position='PG', Birthday='1/26/00', Salary=6400920),\n",
              " Row(Name='Frank Jackson', Team='New Orleans Pelicans', Position='PG', Birthday='5/4/98', Salary=1618520),\n",
              " Row(Name='Dragan Bender', Team='Milwaukee Bucks', Position='PF', Birthday='11/17/97', Salary=1678854),\n",
              " Row(Name='Kenrich Williams', Team='New Orleans Pelicans', Position='PF', Birthday='12/2/94', Salary=1416852),\n",
              " Row(Name='Jerami Grant', Team='Denver Nuggets', Position='PF', Birthday='3/12/94', Salary=9346153),\n",
              " Row(Name='Allonzo Trier', Team='New York Knicks', Position='PG', Birthday='1/17/96', Salary=3551100),\n",
              " Row(Name='Pat Connaughton', Team='Milwaukee Bucks', Position='SG', Birthday='1/6/93', Salary=1723050),\n",
              " Row(Name='Domantas Sabonis', Team='Indiana Pacers', Position='C', Birthday='5/3/96', Salary=3529554),\n",
              " Row(Name='Dylan Windler', Team='Cleveland Cavaliers', Position='GF', Birthday='9/22/96', Salary=2035800),\n",
              " Row(Name='Antonius Cleveland', Team='Dallas Mavericks', Position='SG', Birthday='2/2/94', Salary=79568),\n",
              " Row(Name='Damion Lee', Team='Golden State Warriors', Position='SG', Birthday='10/21/92', Salary=79568),\n",
              " Row(Name='Khem Birch', Team='Orlando Magic', Position='C', Birthday='9/28/92', Salary=3000000),\n",
              " Row(Name='Aron Baynes', Team='Phoenix Suns', Position='C', Birthday='12/9/86', Salary=5453280),\n",
              " Row(Name='Kemba Walker', Team='Boston Celtics', Position='PG', Birthday='5/8/90', Salary=32742000),\n",
              " Row(Name='Nerlens Noel', Team='Oklahoma City Thunder', Position='C', Birthday='4/10/94', Salary=1882867),\n",
              " Row(Name='Jabari Parker', Team='Atlanta Hawks', Position='PF', Birthday='3/15/95', Salary=6500000),\n",
              " Row(Name='Carsen Edwards', Team='Boston Celtics', Position='SG', Birthday='3/12/98', Salary=1228026),\n",
              " Row(Name='Anthony Tolliver', Team='Portland Trail Blazers', Position='PF', Birthday='6/1/85', Salary=2564753),\n",
              " Row(Name='Lauri Markkanen', Team='Chicago Bulls', Position='PF', Birthday='5/22/97', Salary=5300400),\n",
              " Row(Name='Kris Dunn', Team='Chicago Bulls', Position='PG', Birthday='3/18/94', Salary=5348007),\n",
              " Row(Name='Reggie Bullock', Team='New York Knicks', Position='SF', Birthday='3/16/91', Salary=4000000),\n",
              " Row(Name='Mike Conley', Team='Utah Jazz', Position='PG', Birthday='10/11/87', Salary=32511623),\n",
              " Row(Name='Jaylen Nowell', Team='Minnesota Timberwolves', Position='SG', Birthday='7/9/99', Salary=1400000),\n",
              " Row(Name='Gorgui Dieng', Team='Minnesota Timberwolves', Position='C', Birthday='1/18/90', Salary=16229213),\n",
              " Row(Name='Patrick Patterson', Team='Los Angeles Clippers', Position='PF', Birthday='3/14/89', Salary=3068660),\n",
              " Row(Name='Jarrett Allen', Team='Brooklyn Nets', Position='C', Birthday='4/21/98', Salary=2376840),\n",
              " Row(Name='Bobby Portis', Team='New York Knicks', Position='C', Birthday='2/10/95', Salary=15000000),\n",
              " Row(Name='Joel Embiid', Team='Philadelphia 76ers', Position='C', Birthday='3/16/94', Salary=27504630),\n",
              " Row(Name='Jonas Valanciunas', Team='Memphis Grizzlies', Position='C', Birthday='5/6/92', Salary=16000000),\n",
              " Row(Name='Chris Chiozza', Team='Washington Wizards', Position='PG', Birthday='11/21/95', Salary=79568),\n",
              " Row(Name='Kent Bazemore', Team='Portland Trail Blazers', Position='SF', Birthday='7/1/89', Salary=19269663),\n",
              " Row(Name='Tristan Thompson', Team='Cleveland Cavaliers', Position='C', Birthday='3/13/91', Salary=18539130),\n",
              " Row(Name='Mason Plumlee', Team='Denver Nuggets', Position='C', Birthday='3/5/90', Salary=14041096),\n",
              " Row(Name='Shabazz Napier', Team='Minnesota Timberwolves', Position='PG', Birthday='7/14/91', Salary=1845301),\n",
              " Row(Name='Edmond Sumner', Team='Indiana Pacers', Position='PG', Birthday='12/31/95', Salary=2000000),\n",
              " Row(Name='Alex Len', Team='Atlanta Hawks', Position='C', Birthday='6/16/93', Salary=4160000),\n",
              " Row(Name='Josh Richardson', Team='Philadelphia 76ers', Position='SF', Birthday='9/15/93', Salary=10116576),\n",
              " Row(Name='Bojan Bogdanovic', Team='Utah Jazz', Position='SF', Birthday='4/18/89', Salary=17000000),\n",
              " Row(Name='Iman Shumpert', Team='Brooklyn Nets', Position='PG', Birthday='6/26/90', Salary=2031676),\n",
              " Row(Name='Daryl Macon', Team='Miami Heat', Position='SG', Birthday='11/29/95', Salary=79568),\n",
              " Row(Name='Rodney McGruder', Team='Los Angeles Clippers', Position='SG', Birthday='7/29/91', Salary=4807693),\n",
              " Row(Name='Bam Adebayo', Team='Miami Heat', Position='C', Birthday='7/18/97', Salary=3454080),\n",
              " Row(Name='Jacob Evans', Team='Golden State Warriors', Position='SG', Birthday='6/18/97', Salary=1928280),\n",
              " Row(Name='Nigel Williams-Goss', Team='Utah Jazz', Position='PG', Birthday='9/16/94', Salary=1500000),\n",
              " Row(Name='Terrance Ferguson', Team='Oklahoma City Thunder', Position='SF', Birthday='5/17/98', Salary=2475840),\n",
              " Row(Name='Michael Carter-Williams', Team='Orlando Magic', Position='PG', Birthday='10/10/91', Salary=2028594),\n",
              " Row(Name='Bol Bol', Team='Denver Nuggets', Position='C', Birthday='11/16/99', Salary=79568),\n",
              " Row(Name='Willie Cauley-Stein', Team='Golden State Warriors', Position='C', Birthday='8/18/93', Salary=2177483),\n",
              " Row(Name='Nikola Vucevic', Team='Orlando Magic', Position='C', Birthday='10/24/90', Salary=28000000),\n",
              " Row(Name='Nicolas Batum', Team='Charlotte Hornets', Position='SF', Birthday='12/14/88', Salary=25565217),\n",
              " Row(Name='Kyrie Irving', Team='Brooklyn Nets', Position='PG', Birthday='3/23/92', Salary=31742000),\n",
              " Row(Name='Jeremy Lamb', Team='Indiana Pacers', Position='SF', Birthday='5/30/92', Salary=10500000),\n",
              " Row(Name='Donovan Mitchell', Team='Utah Jazz', Position='SG', Birthday='9/7/96', Salary=3635760),\n",
              " Row(Name='Thanasis Antetokounmpo', Team='Milwaukee Bucks', Position='SF', Birthday='7/18/92', Salary=1445697),\n",
              " Row(Name='James Johnson', Team='Miami Heat', Position='PF', Birthday='2/20/87', Salary=15349400),\n",
              " Row(Name='Monte Morris', Team='Denver Nuggets', Position='PG', Birthday='6/27/95', Salary=1588231),\n",
              " Row(Name='Terry Rozier', Team='Charlotte Hornets', Position='PG', Birthday='3/17/94', Salary=19894737),\n",
              " Row(Name='DeAndre Jordan', Team='Brooklyn Nets', Position='C', Birthday='7/21/88', Salary=9881598),\n",
              " Row(Name='Jae Crowder', Team='Memphis Grizzlies', Position='SF', Birthday='7/6/90', Salary=7815533),\n",
              " Row(Name='Josh Gray', Team='New Orleans Pelicans', Position='PG', Birthday='9/9/93', Salary=79568),\n",
              " Row(Name='Goga Bitadze', Team='Indiana Pacers', Position='C', Birthday='7/20/99', Salary=2816760),\n",
              " Row(Name='Kobi Simmons', Team='Charlotte Hornets', Position='PG', Birthday='7/4/97', Salary=79568),\n",
              " Row(Name='Derrick Favors', Team='New Orleans Pelicans', Position='C', Birthday='7/15/91', Salary=17650000),\n",
              " Row(Name='Landry Shamet', Team='Los Angeles Clippers', Position='SG', Birthday='3/13/97', Salary=1995120),\n",
              " Row(Name='Jalen McDaniels', Team='Charlotte Hornets', Position='PF', Birthday='1/31/98', Salary=898310),\n",
              " Row(Name='Bruno Caboclo', Team='Memphis Grizzlies', Position='SF', Birthday='9/21/95', Salary=1845301),\n",
              " Row(Name='Drew Eubanks', Team='San Antonio Spurs', Position='PF', Birthday='2/1/97', Salary=79568),\n",
              " Row(Name='Raul Neto', Team='Philadelphia 76ers', Position='PG', Birthday='5/19/92', Salary=1737145),\n",
              " Row(Name='Jalen Lecque', Team='Phoenix Suns', Position='G', Birthday='6/13/00', Salary=898310),\n",
              " Row(Name='Giannis Antetokounmpo', Team='Milwaukee Bucks', Position='PF', Birthday='12/6/94', Salary=25842697),\n",
              " Row(Name='Malik Monk', Team='Charlotte Hornets', Position='SG', Birthday='2/4/98', Salary=4028400),\n",
              " Row(Name='Tacko Fall', Team='Boston Celtics', Position='C', Birthday='12/10/95', Salary=79568),\n",
              " Row(Name='Justin Jackson', Team='Dallas Mavericks', Position='PF', Birthday='3/28/95', Salary=3280920),\n",
              " Row(Name='Paul George', Team='Los Angeles Clippers', Position='SF', Birthday='5/2/90', Salary=33005556),\n",
              " Row(Name='Jayson Tatum', Team='Boston Celtics', Position='PF', Birthday='3/3/98', Salary=7830000),\n",
              " Row(Name='Admiral Schofield', Team='Washington Wizards', Position='SF', Birthday='3/30/97', Salary=1000000),\n",
              " Row(Name='Louis King', Team='Detroit Pistons', Position='F', Birthday='4/6/99', Salary=79568),\n",
              " Row(Name='Kostas Antetokounmpo', Team='Los Angeles Lakers', Position='PF', Birthday='11/20/97', Salary=79568),\n",
              " Row(Name='Rodions Kurucs', Team='Brooklyn Nets', Position='PF', Birthday='2/5/98', Salary=1699236),\n",
              " Row(Name='Spencer Dinwiddie', Team='Brooklyn Nets', Position='PG', Birthday='4/6/93', Salary=10605600),\n",
              " Row(Name='Doug McDermott', Team='Indiana Pacers', Position='PF', Birthday='1/3/92', Salary=7333333),\n",
              " Row(Name='Romeo Langford', Team='Boston Celtics', Position='SG', Birthday='10/25/99', Salary=3458400),\n",
              " Row(Name='Caris LeVert', Team='Brooklyn Nets', Position='SF', Birthday='8/25/94', Salary=2625717),\n",
              " Row(Name='Michael Kidd-Gilchrist', Team='Charlotte Hornets', Position='PF', Birthday='9/26/93', Salary=13000000),\n",
              " Row(Name='LeBron James', Team='Los Angeles Lakers', Position='PF', Birthday='12/30/84', Salary=37436858),\n",
              " Row(Name='Taj Gibson', Team='New York Knicks', Position='C', Birthday='6/24/85', Salary=9000000),\n",
              " Row(Name='Ty Jerome', Team='Phoenix Suns', Position='G', Birthday='7/8/97', Salary=2193480),\n",
              " Row(Name='Chris Clemons', Team='Houston Rockets', Position='SG', Birthday='7/23/97', Salary=79568),\n",
              " Row(Name='Luke Kornet', Team='Chicago Bulls', Position='C', Birthday='7/15/95', Salary=2250000),\n",
              " Row(Name='Trey Lyles', Team='San Antonio Spurs', Position='PF', Birthday='11/5/95', Salary=5500000),\n",
              " Row(Name='Sterling Brown', Team='Milwaukee Bucks', Position='SF', Birthday='2/10/95', Salary=1618520),\n",
              " Row(Name='Andre Iguodala', Team='Memphis Grizzlies', Position='SF', Birthday='1/28/84', Salary=17185185),\n",
              " Row(Name='Vincent Poirier', Team='Boston Celtics', Position='C', Birthday='10/17/93', Salary=2505793),\n",
              " Row(Name='Frank Ntilikina', Team='New York Knicks', Position='PG', Birthday='7/28/98', Salary=4855800),\n",
              " Row(Name='Jordan McRae', Team='Washington Wizards', Position='PG', Birthday='3/28/91', Salary=1645357),\n",
              " Row(Name='Enes Kanter', Team='Boston Celtics', Position='C', Birthday='5/20/92', Salary=4767000),\n",
              " Row(Name='John Henson', Team='Cleveland Cavaliers', Position='C', Birthday='12/28/90', Salary=9732396),\n",
              " Row(Name='Jaylen Brown', Team='Boston Celtics', Position='SF', Birthday='10/24/96', Salary=6534829),\n",
              " Row(Name='Jonah Bolden', Team='Philadelphia 76ers', Position='PF', Birthday='1/2/96', Salary=1698450),\n",
              " Row(Name='Chimezie Metu', Team='San Antonio Spurs', Position='PF', Birthday='3/22/97', Salary=1416852),\n",
              " Row(Name='Tobias Harris', Team='Philadelphia 76ers', Position='PF', Birthday='7/15/92', Salary=32742000),\n",
              " Row(Name='Semi Ojeleye', Team='Boston Celtics', Position='PF', Birthday='12/5/94', Salary=1618520),\n",
              " Row(Name='Jevon Carter', Team='Phoenix Suns', Position='PG', Birthday='9/14/95', Salary=1416852),\n",
              " Row(Name='Brandon Ingram', Team='New Orleans Pelicans', Position='PF', Birthday='9/2/97', Salary=7265485),\n",
              " Row(Name='Moritz Wagner', Team='Washington Wizards', Position='C', Birthday='4/26/97', Salary=2063520),\n",
              " Row(Name='Dorian Finney-Smith', Team='Dallas Mavericks', Position='PF', Birthday='5/4/93', Salary=4000000),\n",
              " Row(Name='Danuel House', Team='Houston Rockets', Position='SF', Birthday='6/7/93', Salary=3540000),\n",
              " Row(Name='Nicolo Melli', Team='New Orleans Pelicans', Position='C', Birthday='1/26/91', Salary=4102564),\n",
              " Row(Name='Talen Horton-Tucker', Team='Los Angeles Lakers', Position='GF', Birthday='11/25/00', Salary=898310),\n",
              " Row(Name='Ed Davis', Team='Utah Jazz', Position='C', Birthday='6/5/89', Salary=4767000),\n",
              " Row(Name='Kyle Guy', Team='Sacramento Kings', Position='G', Birthday='8/11/97', Salary=79568),\n",
              " Row(Name='Kadeem Allen', Team='New York Knicks', Position='PG', Birthday='1/15/93', Salary=79568),\n",
              " Row(Name='Dante Exum', Team='Utah Jazz', Position='PG', Birthday='7/13/95', Salary=9600000),\n",
              " Row(Name='Abdel Nader', Team='Oklahoma City Thunder', Position='SF', Birthday='9/25/93', Salary=1618520),\n",
              " Row(Name='Bruno Fernando', Team='Atlanta Hawks', Position='C', Birthday='8/15/98', Salary=1400000),\n",
              " Row(Name='Dion Waiters', Team='Miami Heat', Position='SG', Birthday='12/10/91', Salary=12100000),\n",
              " Row(Name='Jared Dudley', Team='Los Angeles Lakers', Position='PF', Birthday='7/10/85', Salary=2564753),\n",
              " Row(Name='Max Strus', Team='Chicago Bulls', Position='SG', Birthday='3/28/96', Salary=79568),\n",
              " Row(Name='Kevon Looney', Team='Golden State Warriors', Position='C', Birthday='2/6/96', Salary=4464286),\n",
              " Row(Name='Willy Hernangomez', Team='Charlotte Hornets', Position='C', Birthday='5/27/94', Salary=1557250),\n",
              " Row(Name='Melvin Frazier', Team='Orlando Magic', Position='SG', Birthday='8/30/96', Salary=1416852),\n",
              " Row(Name='Austin Rivers', Team='Houston Rockets', Position='PG', Birthday='8/1/92', Salary=2174310),\n",
              " Row(Name='Harry Giles', Team='Sacramento Kings', Position='PF', Birthday='4/22/98', Salary=2578800),\n",
              " Row(Name='Robin Lopez', Team='Milwaukee Bucks', Position='C', Birthday='4/1/88', Salary=4767000),\n",
              " Row(Name='Collin Sexton', Team='Cleveland Cavaliers', Position='PG', Birthday='1/4/99', Salary=4764960),\n",
              " Row(Name='Ricky Rubio', Team='Phoenix Suns', Position='PG', Birthday='10/21/90', Salary=16200000)]"
            ]
          },
          "metadata": {},
          "execution_count": 16
        }
      ]
    },
    {
      "cell_type": "markdown",
      "source": [
        "### Changing Variables <br>\n",
        "1. Adding Columns <br>\n",
        "`df.withColumn()` takes the new name, along with how you'd like to create the new column. When using an already existing column, you must specify that it is a column by using `col('ColumnName')`. <br>\n",
        "- Note: you need to import `col()` in order for it to be recognized. <br>\n",
        "\n",
        "Example: Dividing the NBA salaries by 1000"
      ],
      "metadata": {
        "id": "th6itMNNEZ-j"
      }
    },
    {
      "cell_type": "code",
      "source": [
        "from pyspark.sql.functions import col\n",
        "df = df.withColumn(\"SalaryK\", col(\"Salary\")/1000)"
      ],
      "metadata": {
        "colab": {
          "base_uri": "https://localhost:8080/"
        },
        "id": "VvTGTYGwEeDF",
        "outputId": "9a34ad3e-6515-4444-a302-277fa58918d7"
      },
      "execution_count": 24,
      "outputs": [
        {
          "output_type": "stream",
          "name": "stdout",
          "text": [
            "+--------------+------------------+--------+--------+-------+--------+\n",
            "|          Name|              Team|Position|Birthday| Salary| SalaryK|\n",
            "+--------------+------------------+--------+--------+-------+--------+\n",
            "|  Shake Milton|Philadelphia 76ers|      SG| 9/26/96|1445697|1445.697|\n",
            "|Christian Wood|   Detroit Pistons|      PF| 9/27/95|1645357|1645.357|\n",
            "| PJ Washington| Charlotte Hornets|      PF| 8/23/98|3831840| 3831.84|\n",
            "|  Derrick Rose|   Detroit Pistons|      PG| 10/4/88|7317074|7317.074|\n",
            "| Marial Shayok|Philadelphia 76ers|       G| 7/26/95|  79568|  79.568|\n",
            "+--------------+------------------+--------+--------+-------+--------+\n",
            "only showing top 5 rows\n",
            "\n"
          ]
        }
      ]
    },
    {
      "cell_type": "markdown",
      "source": [
        "2. Removing Columns <br>\n",
        "`df.drop()` takes one or multiple column names. <br>\n",
        "Example: Removing 'SalaryK'"
      ],
      "metadata": {
        "id": "nI6g6909FCIU"
      }
    },
    {
      "cell_type": "code",
      "source": [
        "df = df.drop(\"SalaryK\").show(5)"
      ],
      "metadata": {
        "colab": {
          "base_uri": "https://localhost:8080/"
        },
        "id": "UKWuI1eVFG0M",
        "outputId": "705162fc-b403-45eb-d850-10ec60508399"
      },
      "execution_count": 28,
      "outputs": [
        {
          "output_type": "stream",
          "name": "stdout",
          "text": [
            "+--------------+------------------+--------+--------+-------+\n",
            "|          Name|              Team|Position|Birthday| Salary|\n",
            "+--------------+------------------+--------+--------+-------+\n",
            "|  Shake Milton|Philadelphia 76ers|      SG| 9/26/96|1445697|\n",
            "|Christian Wood|   Detroit Pistons|      PF| 9/27/95|1645357|\n",
            "| PJ Washington| Charlotte Hornets|      PF| 8/23/98|3831840|\n",
            "|  Derrick Rose|   Detroit Pistons|      PG| 10/4/88|7317074|\n",
            "| Marial Shayok|Philadelphia 76ers|       G| 7/26/95|  79568|\n",
            "+--------------+------------------+--------+--------+-------+\n",
            "only showing top 5 rows\n",
            "\n"
          ]
        }
      ]
    },
    {
      "cell_type": "markdown",
      "source": [
        "3. Renaming Columns <br>\n",
        "`df.withColumnRenamed()` takes the current column name, followed by the new name\n",
        "Example: Changing 'Birthday' to 'DateOfBirth'"
      ],
      "metadata": {
        "id": "yucLKKIpF579"
      }
    },
    {
      "cell_type": "code",
      "source": [
        "df = df.withColumnRenamed(\"Birthday\", \"DateOfBirth\").show(5)"
      ],
      "metadata": {
        "colab": {
          "base_uri": "https://localhost:8080/"
        },
        "id": "0ZQSDD75F-eU",
        "outputId": "e1f9bc96-8c4c-49fc-ff0e-9a366caf1d13"
      },
      "execution_count": 32,
      "outputs": [
        {
          "output_type": "stream",
          "name": "stdout",
          "text": [
            "+--------------+------------------+--------+-----------+-------+\n",
            "|          Name|              Team|Position|DateOfBirth| Salary|\n",
            "+--------------+------------------+--------+-----------+-------+\n",
            "|  Shake Milton|Philadelphia 76ers|      SG|    9/26/96|1445697|\n",
            "|Christian Wood|   Detroit Pistons|      PF|    9/27/95|1645357|\n",
            "| PJ Washington| Charlotte Hornets|      PF|    8/23/98|3831840|\n",
            "|  Derrick Rose|   Detroit Pistons|      PG|    10/4/88|7317074|\n",
            "| Marial Shayok|Philadelphia 76ers|       G|    7/26/95|  79568|\n",
            "+--------------+------------------+--------+-----------+-------+\n",
            "only showing top 5 rows\n",
            "\n"
          ]
        }
      ]
    },
    {
      "cell_type": "markdown",
      "source": [
        "4. Rearranging Columns\n",
        "Use `select()` to order the columns in the way that you would like. <br>\n",
        "Example:"
      ],
      "metadata": {
        "id": "GWI-A-l6GKqO"
      }
    },
    {
      "cell_type": "code",
      "source": [
        "df = df.select(\"Name\", \"Team\", \"Position\", \"Salary\").show(5)"
      ],
      "metadata": {
        "colab": {
          "base_uri": "https://localhost:8080/"
        },
        "id": "2dmBblrOGOg6",
        "outputId": "440f4076-e23a-4b99-f327-b11ff868ccd1"
      },
      "execution_count": 40,
      "outputs": [
        {
          "output_type": "stream",
          "name": "stdout",
          "text": [
            "+--------------+------------------+--------+-------+\n",
            "|          Name|              Team|Position| Salary|\n",
            "+--------------+------------------+--------+-------+\n",
            "|  Shake Milton|Philadelphia 76ers|      SG|1445697|\n",
            "|Christian Wood|   Detroit Pistons|      PF|1645357|\n",
            "| PJ Washington| Charlotte Hornets|      PF|3831840|\n",
            "|  Derrick Rose|   Detroit Pistons|      PG|7317074|\n",
            "| Marial Shayok|Philadelphia 76ers|       G|  79568|\n",
            "+--------------+------------------+--------+-------+\n",
            "only showing top 5 rows\n",
            "\n"
          ]
        }
      ]
    },
    {
      "cell_type": "markdown",
      "source": [
        "### Mathematical & Vectorized Operations <br>\n",
        "1. Aggregate Functions: <br>\n",
        "- `mean()` <br>\n",
        "- `min()` <br>\n",
        "- `max()` <br>\n",
        "- `stdev_pop()` <br>\n",
        "- `median()` <br>\n",
        "These functions are used within `selectExpr()`. They take the name of the variable you'd like to aggregate, and then add as \"new_variable_name\" after. <br>\n",
        "Here are the aggregation functions in action:"
      ],
      "metadata": {
        "id": "NXgC1k1fG2dv"
      }
    },
    {
      "cell_type": "code",
      "source": [
        "df.selectExpr(\n",
        "    \"mean(Salary) as mean_salary\",\n",
        "    \"min(Salary) as min_salary\",\n",
        "    \"max(Salary) as max_salary\",\n",
        "    \"stddev_pop(Salary) as std_salary\"\n",
        ").show()"
      ],
      "metadata": {
        "colab": {
          "base_uri": "https://localhost:8080/"
        },
        "id": "9dyfaBvBG3vV",
        "outputId": "5e32590b-7504-4d71-db07-bade40e846bd"
      },
      "execution_count": 43,
      "outputs": [
        {
          "output_type": "stream",
          "name": "stdout",
          "text": [
            "+-----------------+----------+----------+-----------------+\n",
            "|      mean_salary|min_salary|max_salary|       std_salary|\n",
            "+-----------------+----------+----------+-----------------+\n",
            "|7653583.764444444|     79568|  40231758|9278483.657952718|\n",
            "+-----------------+----------+----------+-----------------+\n",
            "\n"
          ]
        }
      ]
    },
    {
      "cell_type": "markdown",
      "source": [
        "1. Using the `functions` package"
      ],
      "metadata": {
        "id": "GoW2fwcdHGaw"
      }
    },
    {
      "cell_type": "code",
      "source": [
        "from pyspark.sql import functions as F"
      ],
      "metadata": {
        "id": "Jzv2vscgHHaU"
      },
      "execution_count": 44,
      "outputs": []
    },
    {
      "cell_type": "markdown",
      "source": [
        "This package will allow you to create new columns or transform current ones. <br>\n",
        "Examples: <br>\n",
        "- `F.avg()` <br>\n",
        "- `F.concat()` <br>\n",
        "- `F.lit()` <br>\n",
        "- `F.col()` <br>\n",
        "\n",
        "Here are these fucntions in action:"
      ],
      "metadata": {
        "id": "nYsbCFv9HQhY"
      }
    },
    {
      "cell_type": "code",
      "source": [
        "salary_mean = df.select(F.avg(\"Salary\").alias(\"mean_salary\")).collect()[0][\"mean_salary\"]\n",
        "\n",
        "df2 = (\n",
        "    df\n",
        "    .withColumn(\"Salary_2x\", F.col(\"Salary\") * 2)    # Add Salary_2x\n",
        "    .withColumn(\n",
        "        \"Name_w_Position\",           # Concatenate Name and Position\n",
        "        F.concat(F.col(\"Name\"), F.lit(\" (\"), F.col(\"Position\"), F.lit(\")\")))\n",
        "    .withColumn(\n",
        "        \"Salary_minus_Mean\",        # Subtract mean salary\n",
        "        F.col(\"Salary\") - F.lit(salary_mean))\n",
        ").show(5)"
      ],
      "metadata": {
        "colab": {
          "base_uri": "https://localhost:8080/"
        },
        "id": "P7_rfr0YHXGC",
        "outputId": "6c2f67b3-af7b-4062-bb50-713bd37b62eb"
      },
      "execution_count": 47,
      "outputs": [
        {
          "output_type": "stream",
          "name": "stdout",
          "text": [
            "+--------------+------------------+--------+--------+-------+---------+-------------------+-------------------+\n",
            "|          Name|              Team|Position|Birthday| Salary|Salary_2x|    Name_w_Position|  Salary_minus_Mean|\n",
            "+--------------+------------------+--------+--------+-------+---------+-------------------+-------------------+\n",
            "|  Shake Milton|Philadelphia 76ers|      SG| 9/26/96|1445697|  2891394|  Shake Milton (SG)| -6207886.764444444|\n",
            "|Christian Wood|   Detroit Pistons|      PF| 9/27/95|1645357|  3290714|Christian Wood (PF)| -6008226.764444444|\n",
            "| PJ Washington| Charlotte Hornets|      PF| 8/23/98|3831840|  7663680| PJ Washington (PF)|-3821743.7644444443|\n",
            "|  Derrick Rose|   Detroit Pistons|      PG| 10/4/88|7317074| 14634148|  Derrick Rose (PG)| -336509.7644444443|\n",
            "| Marial Shayok|Philadelphia 76ers|       G| 7/26/95|  79568|   159136|  Marial Shayok (G)| -7574015.764444444|\n",
            "+--------------+------------------+--------+--------+-------+---------+-------------------+-------------------+\n",
            "only showing top 5 rows\n",
            "\n"
          ]
        }
      ]
    },
    {
      "cell_type": "markdown",
      "source": [
        "### Converting Data Types <br>\n",
        "1. `.cast()` is used after a variable is specified, and takes different data types as a string. <br>\n",
        "2. `to_date()` converts data to a specified date format. It takes the variable to be changed, and the specific date format you wish to chose.<br>"
      ],
      "metadata": {
        "id": "ia1gv-cKHgrY"
      }
    },
    {
      "cell_type": "code",
      "source": [
        "from pyspark.sql.functions import to_date\n",
        "\n",
        "df = df.withColumn('DateOfBirth_ts', to_date('Birthday','M/d/yy')).show(5)"
      ],
      "metadata": {
        "colab": {
          "base_uri": "https://localhost:8080/"
        },
        "id": "563gozCmHiwM",
        "outputId": "40af4f0b-892a-4566-b69a-c7ba40c85f46"
      },
      "execution_count": 49,
      "outputs": [
        {
          "output_type": "stream",
          "name": "stdout",
          "text": [
            "+--------------+------------------+--------+--------+-------+--------------+\n",
            "|          Name|              Team|Position|Birthday| Salary|DateOfBirth_ts|\n",
            "+--------------+------------------+--------+--------+-------+--------------+\n",
            "|  Shake Milton|Philadelphia 76ers|      SG| 9/26/96|1445697|    2096-09-26|\n",
            "|Christian Wood|   Detroit Pistons|      PF| 9/27/95|1645357|    2095-09-27|\n",
            "| PJ Washington| Charlotte Hornets|      PF| 8/23/98|3831840|    2098-08-23|\n",
            "|  Derrick Rose|   Detroit Pistons|      PG| 10/4/88|7317074|    2088-10-04|\n",
            "| Marial Shayok|Philadelphia 76ers|       G| 7/26/95|  79568|    2095-07-26|\n",
            "+--------------+------------------+--------+--------+-------+--------------+\n",
            "only showing top 5 rows\n",
            "\n"
          ]
        }
      ]
    },
    {
      "cell_type": "markdown",
      "source": [
        "Main Data Types: <br>\n",
        "- `int` <br>\n",
        "- `float` <br>\n",
        "- `string` <br>\n",
        "- `boolean` <br>\n",
        "- `date` <br>\n",
        "- `timestamp` <br>\n",
        "\n",
        "### Filtering by a Condition <br>\n",
        "`df.filter()` takes one or multiple conditions to be met and displayed. Separate conditions by putting each one in parentheses and with the & or | sign. <br>\n",
        "Here are some examples with a new DataFrame:"
      ],
      "metadata": {
        "id": "ARdZM5F6Hnyx"
      }
    },
    {
      "cell_type": "code",
      "source": [
        "import pandas as pd\n",
        "from pyspark.sql import SparkSession\n",
        "spark = SparkSession.builder.master(\"local[*]\").getOrCreate()\n",
        "df_pd = pd.read_csv(\"https://bcdanl.github.io/data/employment.csv\")\n",
        "df_pd = df_pd.where(pd.notnull(df_pd), None)  # Convert NaN to None\n",
        "df = spark.createDataFrame(df_pd)"
      ],
      "metadata": {
        "id": "HMU2eI6tIcF2"
      },
      "execution_count": 59,
      "outputs": []
    },
    {
      "cell_type": "code",
      "source": [
        "df.filter(col(\"Salary\") > 100000).show(5)"
      ],
      "metadata": {
        "colab": {
          "base_uri": "https://localhost:8080/"
        },
        "id": "wWxTn_F5IsQd",
        "outputId": "6427187b-d9d4-4db4-e6ce-51eec8c484dd"
      },
      "execution_count": 61,
      "outputs": [
        {
          "output_type": "stream",
          "name": "stdout",
          "text": [
            "+----------+------+----------+--------+-----+---------+\n",
            "|First Name|Gender|Start Date|  Salary| Mgmt|     Team|\n",
            "+----------+------+----------+--------+-----+---------+\n",
            "|   Douglas|  Male|    8/6/93|     NaN| true|Marketing|\n",
            "|     Maria|Female|      NULL|130590.0|false|  Finance|\n",
            "|     Jerry|  NULL|    3/4/05|138705.0| true|  Finance|\n",
            "|     Larry|  Male|   1/24/98|101004.0| true|       IT|\n",
            "|    Dennis|  Male|   4/18/87|115163.0|false|    Legal|\n",
            "+----------+------+----------+--------+-----+---------+\n",
            "only showing top 5 rows\n",
            "\n"
          ]
        }
      ]
    },
    {
      "cell_type": "code",
      "source": [
        "#or\n",
        "\n",
        "df.filter(\n",
        "    ( col(\"Team\") == \"Finance\" ) &\n",
        "    ( col(\"Salary\") >= 100000 )\n",
        ").show(5)"
      ],
      "metadata": {
        "colab": {
          "base_uri": "https://localhost:8080/"
        },
        "id": "bcYYVdTCHxJ0",
        "outputId": "12520be8-4668-4af3-fa42-575dcdbb939b"
      },
      "execution_count": 62,
      "outputs": [
        {
          "output_type": "stream",
          "name": "stdout",
          "text": [
            "+----------+------+----------+--------+-----+-------+\n",
            "|First Name|Gender|Start Date|  Salary| Mgmt|   Team|\n",
            "+----------+------+----------+--------+-----+-------+\n",
            "|     Maria|Female|      NULL|130590.0|false|Finance|\n",
            "|     Jerry|  NULL|    3/4/05|138705.0| true|Finance|\n",
            "|     Bruce|  Male|  11/28/09|114796.0|false|Finance|\n",
            "|      Carl|  Male|    5/3/06|130276.0| true|Finance|\n",
            "|     Irene|  NULL|   7/14/15|100863.0| true|Finance|\n",
            "+----------+------+----------+--------+-----+-------+\n",
            "only showing top 5 rows\n",
            "\n"
          ]
        }
      ]
    },
    {
      "cell_type": "code",
      "source": [
        "#or\n",
        "\n",
        "df.filter(\n",
        "    (col(\"Team\") == \"Finance\") |\n",
        "    (col(\"Team\") == \"Legal\")   |\n",
        "    (col(\"Team\") == \"Sales\")\n",
        ").show(5)"
      ],
      "metadata": {
        "colab": {
          "base_uri": "https://localhost:8080/"
        },
        "id": "VvXXDZ08HzKA",
        "outputId": "3790b6ad-5069-4cdb-ef83-ce1f39842b45"
      },
      "execution_count": 63,
      "outputs": [
        {
          "output_type": "stream",
          "name": "stdout",
          "text": [
            "+----------+------+----------+--------+-----+-------+\n",
            "|First Name|Gender|Start Date|  Salary| Mgmt|   Team|\n",
            "+----------+------+----------+--------+-----+-------+\n",
            "|     Maria|Female|      NULL|130590.0|false|Finance|\n",
            "|     Jerry|  NULL|    3/4/05|138705.0| true|Finance|\n",
            "|    Dennis|  Male|   4/18/87|115163.0|false|  Legal|\n",
            "|      NULL|Female|   7/20/15| 45906.0| NULL|Finance|\n",
            "|     Julie|Female|  10/26/97|102508.0| true|  Legal|\n",
            "+----------+------+----------+--------+-----+-------+\n",
            "only showing top 5 rows\n",
            "\n"
          ]
        }
      ]
    },
    {
      "cell_type": "markdown",
      "source": [
        "`isin()` used within `filter()`, takes a list of values within a variable and filters only those values."
      ],
      "metadata": {
        "id": "zAeDU7QPIyA8"
      }
    },
    {
      "cell_type": "code",
      "source": [
        "df.filter(col('Team').isin('Finance','Legal','Sales')).show(5)"
      ],
      "metadata": {
        "colab": {
          "base_uri": "https://localhost:8080/"
        },
        "id": "7dtoLULpI0Wv",
        "outputId": "f9e8b053-fa27-4734-ef13-ab264cfdb847"
      },
      "execution_count": 65,
      "outputs": [
        {
          "output_type": "stream",
          "name": "stdout",
          "text": [
            "+----------+------+----------+--------+-----+-------+\n",
            "|First Name|Gender|Start Date|  Salary| Mgmt|   Team|\n",
            "+----------+------+----------+--------+-----+-------+\n",
            "|     Maria|Female|      NULL|130590.0|false|Finance|\n",
            "|     Jerry|  NULL|    3/4/05|138705.0| true|Finance|\n",
            "|    Dennis|  Male|   4/18/87|115163.0|false|  Legal|\n",
            "|      NULL|Female|   7/20/15| 45906.0| NULL|Finance|\n",
            "|     Julie|Female|  10/26/97|102508.0| true|  Legal|\n",
            "+----------+------+----------+--------+-----+-------+\n",
            "only showing top 5 rows\n",
            "\n"
          ]
        }
      ]
    },
    {
      "cell_type": "markdown",
      "source": [
        "`between()` is also used within `filter()`. It takes a range of values and returns True if a value falls wihin the range."
      ],
      "metadata": {
        "id": "_M2QM19TJNDD"
      }
    },
    {
      "cell_type": "code",
      "source": [
        "df_between = df.filter(col('Salary').between(90000,100000))\n",
        "df_between.show(5)"
      ],
      "metadata": {
        "colab": {
          "base_uri": "https://localhost:8080/"
        },
        "id": "JZFoAye8JQOt",
        "outputId": "0227d2ec-ab1e-4a3e-875f-e0b5a0bbf8fe"
      },
      "execution_count": 66,
      "outputs": [
        {
          "output_type": "stream",
          "name": "stdout",
          "text": [
            "+----------+------+----------+-------+-----+-----------+\n",
            "|First Name|Gender|Start Date| Salary| Mgmt|       Team|\n",
            "+----------+------+----------+-------+-----+-----------+\n",
            "|    Angela|Female|  11/22/05|95570.0| true|Engineering|\n",
            "|    Jeremy|  Male|   9/21/10|90370.0|false|         HR|\n",
            "|    Joshua|  NULL|    3/8/12|90816.0| true|         IT|\n",
            "|      John|  Male|    7/1/92|97950.0|false|         IT|\n",
            "|     Jerry|  Male|   1/10/04|95734.0|false|         IT|\n",
            "+----------+------+----------+-------+-----+-----------+\n",
            "only showing top 5 rows\n",
            "\n"
          ]
        }
      ]
    },
    {
      "cell_type": "markdown",
      "source": [
        "### Missing Values\n",
        "Find how many missing values are in a column with `isNull()`:"
      ],
      "metadata": {
        "id": "LqBCibNXJWQf"
      }
    },
    {
      "cell_type": "code",
      "source": [
        "df.filter(col('Team').isNull()).count()"
      ],
      "metadata": {
        "colab": {
          "base_uri": "https://localhost:8080/"
        },
        "id": "5Kqn3_-PJXPh",
        "outputId": "cd767ec7-e71c-4c5e-8f2b-4df1e8359d69"
      },
      "execution_count": 67,
      "outputs": [
        {
          "output_type": "execute_result",
          "data": {
            "text/plain": [
              "44"
            ]
          },
          "metadata": {},
          "execution_count": 67
        }
      ]
    },
    {
      "cell_type": "markdown",
      "source": [
        "You can find how many non-null values by using the same code and replacing `isNull()` with `isNotNull()`. <br>\n",
        "\n",
        "Drop rows with missing values with `na.drop()`:"
      ],
      "metadata": {
        "id": "j2gzTJnYJbQt"
      }
    },
    {
      "cell_type": "code",
      "source": [
        "df_drop = df.na.drop().show(10)"
      ],
      "metadata": {
        "colab": {
          "base_uri": "https://localhost:8080/"
        },
        "id": "rXaCWOEpJeSa",
        "outputId": "98365e2e-622a-4c28-ca43-92fec95e8683"
      },
      "execution_count": 73,
      "outputs": [
        {
          "output_type": "stream",
          "name": "stdout",
          "text": [
            "+----------+------+----------+--------+-----+------------+\n",
            "|First Name|Gender|Start Date|  Salary| Mgmt|        Team|\n",
            "+----------+------+----------+--------+-----+------------+\n",
            "|     Larry|  Male|   1/24/98|101004.0| true|          IT|\n",
            "|    Dennis|  Male|   4/18/87|115163.0|false|       Legal|\n",
            "|      Ruby|Female|   8/17/87| 65476.0| true|     Product|\n",
            "|    Angela|Female|  11/22/05| 95570.0| true| Engineering|\n",
            "|   Frances|Female|    8/8/02|139852.0| true|Business Dev|\n",
            "|     Julie|Female|  10/26/97|102508.0| true|       Legal|\n",
            "|   Brandon|  Male|   12/1/80|112807.0| true|          HR|\n",
            "|      Gary|  Male|   1/27/08|109831.0|false|       Sales|\n",
            "|  Kimberly|Female|   1/14/99| 41426.0| true|     Finance|\n",
            "|   Lillian|Female|    6/5/16| 59414.0|false|     Product|\n",
            "+----------+------+----------+--------+-----+------------+\n",
            "only showing top 10 rows\n",
            "\n"
          ]
        }
      ]
    },
    {
      "cell_type": "markdown",
      "source": [
        "- takes the argument `how = 'all'`, which removes observations that all values are missing <br>\n",
        "- use the argument `subset = ` to target rows with missing values in a given variable <br>"
      ],
      "metadata": {
        "id": "APx4qYS1JjfL"
      }
    },
    {
      "cell_type": "code",
      "source": [
        "df_drop_subset = df.na.drop(subset=[\"Gender\", \"Team\"]).show(10)"
      ],
      "metadata": {
        "colab": {
          "base_uri": "https://localhost:8080/"
        },
        "id": "ud9iWf6VJnFV",
        "outputId": "a101dcda-4dbf-43ea-c2f7-30c52f40ff7a"
      },
      "execution_count": 71,
      "outputs": [
        {
          "output_type": "stream",
          "name": "stdout",
          "text": [
            "+----------+------+----------+--------+-----+------------+\n",
            "|First Name|Gender|Start Date|  Salary| Mgmt|        Team|\n",
            "+----------+------+----------+--------+-----+------------+\n",
            "|   Douglas|  Male|    8/6/93|     NaN| true|   Marketing|\n",
            "|     Maria|Female|      NULL|130590.0|false|     Finance|\n",
            "|     Larry|  Male|   1/24/98|101004.0| true|          IT|\n",
            "|    Dennis|  Male|   4/18/87|115163.0|false|       Legal|\n",
            "|      Ruby|Female|   8/17/87| 65476.0| true|     Product|\n",
            "|      NULL|Female|   7/20/15| 45906.0| NULL|     Finance|\n",
            "|    Angela|Female|  11/22/05| 95570.0| true| Engineering|\n",
            "|   Frances|Female|    8/8/02|139852.0| true|Business Dev|\n",
            "|     Julie|Female|  10/26/97|102508.0| true|       Legal|\n",
            "|   Brandon|  Male|   12/1/80|112807.0| true|          HR|\n",
            "+----------+------+----------+--------+-----+------------+\n",
            "only showing top 10 rows\n",
            "\n"
          ]
        }
      ]
    },
    {
      "cell_type": "markdown",
      "source": [
        "`na.fill()` fills in null values with a specified value."
      ],
      "metadata": {
        "id": "_h23hpgwJrcT"
      }
    },
    {
      "cell_type": "code",
      "source": [
        "df_fill = df.na.fill(value = 0, subset = [\"Salary\"]).show(10)"
      ],
      "metadata": {
        "colab": {
          "base_uri": "https://localhost:8080/"
        },
        "id": "HZvcdjEvJuZL",
        "outputId": "725e664e-4cca-43cf-aa63-9b4933fa2668"
      },
      "execution_count": 72,
      "outputs": [
        {
          "output_type": "stream",
          "name": "stdout",
          "text": [
            "+----------+------+----------+--------+-----+------------+\n",
            "|First Name|Gender|Start Date|  Salary| Mgmt|        Team|\n",
            "+----------+------+----------+--------+-----+------------+\n",
            "|   Douglas|  Male|    8/6/93|     0.0| true|   Marketing|\n",
            "|    Thomas|  Male|   3/31/96| 61933.0| true|        NULL|\n",
            "|     Maria|Female|      NULL|130590.0|false|     Finance|\n",
            "|     Jerry|  NULL|    3/4/05|138705.0| true|     Finance|\n",
            "|     Larry|  Male|   1/24/98|101004.0| true|          IT|\n",
            "|    Dennis|  Male|   4/18/87|115163.0|false|       Legal|\n",
            "|      Ruby|Female|   8/17/87| 65476.0| true|     Product|\n",
            "|      NULL|Female|   7/20/15| 45906.0| NULL|     Finance|\n",
            "|    Angela|Female|  11/22/05| 95570.0| true| Engineering|\n",
            "|   Frances|Female|    8/8/02|139852.0| true|Business Dev|\n",
            "+----------+------+----------+--------+-----+------------+\n",
            "only showing top 10 rows\n",
            "\n"
          ]
        }
      ]
    },
    {
      "cell_type": "markdown",
      "source": [
        " - you can do multiple variables at a time by usingn a dictionary instead of `value = , subset = `\n",
        "\n",
        "### Dealing with Duplicates\n",
        "`dropDuplicates()` drops all rows that are exact duplicates"
      ],
      "metadata": {
        "id": "KgxEYKbIJ-Ee"
      }
    },
    {
      "cell_type": "code",
      "source": [
        "df_no_dups = df.dropDuplicates()"
      ],
      "metadata": {
        "id": "5uxN83vcJ_HB"
      },
      "execution_count": 74,
      "outputs": []
    },
    {
      "cell_type": "markdown",
      "source": [
        "  - add `['Variable_Name']` in the function to specify how to drop duplicates"
      ],
      "metadata": {
        "id": "Bxe6sc71KGxF"
      }
    },
    {
      "cell_type": "code",
      "source": [
        "df_no_dups_subset = df.dropDuplicates([\"Team\"])"
      ],
      "metadata": {
        "id": "XUkvsX4bKHxS"
      },
      "execution_count": 75,
      "outputs": []
    },
    {
      "cell_type": "markdown",
      "source": [
        "Now you're all caught up on the PySpark basics!"
      ],
      "metadata": {
        "id": "VDpCyaDoKLGL"
      }
    }
  ]
}